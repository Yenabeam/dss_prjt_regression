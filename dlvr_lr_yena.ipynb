{
 "metadata": {
  "language_info": {
   "codemirror_mode": {
    "name": "ipython",
    "version": 3
   },
   "file_extension": ".py",
   "mimetype": "text/x-python",
   "name": "python",
   "nbconvert_exporter": "python",
   "pygments_lexer": "ipython3",
   "version": "3.8.3-final"
  },
  "orig_nbformat": 2,
  "kernelspec": {
   "name": "python3",
   "display_name": "Python 3"
  }
 },
 "nbformat": 4,
 "nbformat_minor": 2,
 "cells": [
  {
   "cell_type": "code",
   "execution_count": 91,
   "metadata": {},
   "outputs": [
    {
     "output_type": "execute_result",
     "data": {
      "text/plain": [
       "     Unnamed: 0        일자  공휴일  월  화  수  목  금  토  일    기온   강수량   풍속    습도  \\\n",
       "0             0  20181001  0.0  1  0  0  0  0  0  0  15.4   0.0  2.9  55.1   \n",
       "1             1  20181002  0.0  0  1  0  0  0  0  0  15.9   0.0  1.6  61.4   \n",
       "2             2  20181003  1.0  0  0  1  0  0  0  0  17.3   0.0  1.3  58.0   \n",
       "3             3  20181004  0.0  0  0  0  1  0  0  0  19.3   0.0  1.3  56.5   \n",
       "4             4  20181005  0.0  0  0  0  0  1  0  0  16.9  36.5  1.7  84.1   \n",
       "..          ...       ...  ... .. .. .. .. .. .. ..   ...   ...  ...   ...   \n",
       "360         360  20190926  0.0  0  0  0  1  0  0  0  22.9   0.0  1.9  59.3   \n",
       "361         361  20190927  0.0  0  0  0  0  1  0  0  22.9   0.0  1.9  57.5   \n",
       "362         362  20190928  0.0  0  0  0  0  0  1  0  23.7   0.0  1.7  58.9   \n",
       "363         363  20190929  0.0  0  0  0  0  0  0  1  22.6   0.0  1.7  60.6   \n",
       "364         364  20190930  0.0  1  0  0  0  0  0  0  22.4   0.0  1.6  61.0   \n",
       "\n",
       "     적설량   통화건수  \n",
       "0    0.0   9681  \n",
       "1    0.0  13692  \n",
       "2    0.0  15403  \n",
       "3    0.0  10091  \n",
       "4    0.0  17680  \n",
       "..   ...    ...  \n",
       "360  0.0   8908  \n",
       "361  0.0  12561  \n",
       "362  0.0  13828  \n",
       "363  0.0  12188  \n",
       "364  0.0   7850  \n",
       "\n",
       "[365 rows x 16 columns]"
      ],
      "text/html": "<div>\n<style scoped>\n    .dataframe tbody tr th:only-of-type {\n        vertical-align: middle;\n    }\n\n    .dataframe tbody tr th {\n        vertical-align: top;\n    }\n\n    .dataframe thead th {\n        text-align: right;\n    }\n</style>\n<table border=\"1\" class=\"dataframe\">\n  <thead>\n    <tr style=\"text-align: right;\">\n      <th></th>\n      <th>Unnamed: 0</th>\n      <th>일자</th>\n      <th>공휴일</th>\n      <th>월</th>\n      <th>화</th>\n      <th>수</th>\n      <th>목</th>\n      <th>금</th>\n      <th>토</th>\n      <th>일</th>\n      <th>기온</th>\n      <th>강수량</th>\n      <th>풍속</th>\n      <th>습도</th>\n      <th>적설량</th>\n      <th>통화건수</th>\n    </tr>\n  </thead>\n  <tbody>\n    <tr>\n      <th>0</th>\n      <td>0</td>\n      <td>20181001</td>\n      <td>0.0</td>\n      <td>1</td>\n      <td>0</td>\n      <td>0</td>\n      <td>0</td>\n      <td>0</td>\n      <td>0</td>\n      <td>0</td>\n      <td>15.4</td>\n      <td>0.0</td>\n      <td>2.9</td>\n      <td>55.1</td>\n      <td>0.0</td>\n      <td>9681</td>\n    </tr>\n    <tr>\n      <th>1</th>\n      <td>1</td>\n      <td>20181002</td>\n      <td>0.0</td>\n      <td>0</td>\n      <td>1</td>\n      <td>0</td>\n      <td>0</td>\n      <td>0</td>\n      <td>0</td>\n      <td>0</td>\n      <td>15.9</td>\n      <td>0.0</td>\n      <td>1.6</td>\n      <td>61.4</td>\n      <td>0.0</td>\n      <td>13692</td>\n    </tr>\n    <tr>\n      <th>2</th>\n      <td>2</td>\n      <td>20181003</td>\n      <td>1.0</td>\n      <td>0</td>\n      <td>0</td>\n      <td>1</td>\n      <td>0</td>\n      <td>0</td>\n      <td>0</td>\n      <td>0</td>\n      <td>17.3</td>\n      <td>0.0</td>\n      <td>1.3</td>\n      <td>58.0</td>\n      <td>0.0</td>\n      <td>15403</td>\n    </tr>\n    <tr>\n      <th>3</th>\n      <td>3</td>\n      <td>20181004</td>\n      <td>0.0</td>\n      <td>0</td>\n      <td>0</td>\n      <td>0</td>\n      <td>1</td>\n      <td>0</td>\n      <td>0</td>\n      <td>0</td>\n      <td>19.3</td>\n      <td>0.0</td>\n      <td>1.3</td>\n      <td>56.5</td>\n      <td>0.0</td>\n      <td>10091</td>\n    </tr>\n    <tr>\n      <th>4</th>\n      <td>4</td>\n      <td>20181005</td>\n      <td>0.0</td>\n      <td>0</td>\n      <td>0</td>\n      <td>0</td>\n      <td>0</td>\n      <td>1</td>\n      <td>0</td>\n      <td>0</td>\n      <td>16.9</td>\n      <td>36.5</td>\n      <td>1.7</td>\n      <td>84.1</td>\n      <td>0.0</td>\n      <td>17680</td>\n    </tr>\n    <tr>\n      <th>...</th>\n      <td>...</td>\n      <td>...</td>\n      <td>...</td>\n      <td>...</td>\n      <td>...</td>\n      <td>...</td>\n      <td>...</td>\n      <td>...</td>\n      <td>...</td>\n      <td>...</td>\n      <td>...</td>\n      <td>...</td>\n      <td>...</td>\n      <td>...</td>\n      <td>...</td>\n      <td>...</td>\n    </tr>\n    <tr>\n      <th>360</th>\n      <td>360</td>\n      <td>20190926</td>\n      <td>0.0</td>\n      <td>0</td>\n      <td>0</td>\n      <td>0</td>\n      <td>1</td>\n      <td>0</td>\n      <td>0</td>\n      <td>0</td>\n      <td>22.9</td>\n      <td>0.0</td>\n      <td>1.9</td>\n      <td>59.3</td>\n      <td>0.0</td>\n      <td>8908</td>\n    </tr>\n    <tr>\n      <th>361</th>\n      <td>361</td>\n      <td>20190927</td>\n      <td>0.0</td>\n      <td>0</td>\n      <td>0</td>\n      <td>0</td>\n      <td>0</td>\n      <td>1</td>\n      <td>0</td>\n      <td>0</td>\n      <td>22.9</td>\n      <td>0.0</td>\n      <td>1.9</td>\n      <td>57.5</td>\n      <td>0.0</td>\n      <td>12561</td>\n    </tr>\n    <tr>\n      <th>362</th>\n      <td>362</td>\n      <td>20190928</td>\n      <td>0.0</td>\n      <td>0</td>\n      <td>0</td>\n      <td>0</td>\n      <td>0</td>\n      <td>0</td>\n      <td>1</td>\n      <td>0</td>\n      <td>23.7</td>\n      <td>0.0</td>\n      <td>1.7</td>\n      <td>58.9</td>\n      <td>0.0</td>\n      <td>13828</td>\n    </tr>\n    <tr>\n      <th>363</th>\n      <td>363</td>\n      <td>20190929</td>\n      <td>0.0</td>\n      <td>0</td>\n      <td>0</td>\n      <td>0</td>\n      <td>0</td>\n      <td>0</td>\n      <td>0</td>\n      <td>1</td>\n      <td>22.6</td>\n      <td>0.0</td>\n      <td>1.7</td>\n      <td>60.6</td>\n      <td>0.0</td>\n      <td>12188</td>\n    </tr>\n    <tr>\n      <th>364</th>\n      <td>364</td>\n      <td>20190930</td>\n      <td>0.0</td>\n      <td>1</td>\n      <td>0</td>\n      <td>0</td>\n      <td>0</td>\n      <td>0</td>\n      <td>0</td>\n      <td>0</td>\n      <td>22.4</td>\n      <td>0.0</td>\n      <td>1.6</td>\n      <td>61.0</td>\n      <td>0.0</td>\n      <td>7850</td>\n    </tr>\n  </tbody>\n</table>\n<p>365 rows × 16 columns</p>\n</div>"
     },
     "metadata": {},
     "execution_count": 91
    }
   ],
   "source": [
    "df = pd.read_csv('df_dummy.csv')\n",
    "df = df.drop('요일', axis=1)\n",
    "df"
   ]
  },
  {
   "cell_type": "code",
   "execution_count": 92,
   "metadata": {},
   "outputs": [],
   "source": [
    "import seaborn as sns \n",
    "import matplotlib.pyplot as plt \n",
    "import matplotlib as mpl\n",
    "import matplotlib.font_manager as fm\n",
    "%matplotlib inline\n",
    "mpl.rcParams['axes.unicode_minus'] = False\n",
    "plt.rcParams['font.family'] = 'Malgun Gothic'\n",
    "\n",
    "# sns.pairplot(df)\n",
    "# plt.show()"
   ]
  },
  {
   "cell_type": "code",
   "execution_count": 93,
   "metadata": {},
   "outputs": [],
   "source": [
    "df.drop(columns=['Unnamed: 0','일자'],axis=1,inplace=True)"
   ]
  },
  {
   "cell_type": "code",
   "execution_count": 94,
   "metadata": {},
   "outputs": [
    {
     "output_type": "execute_result",
     "data": {
      "text/plain": [
       "   공휴일  월  화  수  목  금  토  일    기온   강수량   풍속    습도  적설량   통화건수\n",
       "0  0.0  1  0  0  0  0  0  0  15.4   0.0  2.9  55.1  0.0   9681\n",
       "1  0.0  0  1  0  0  0  0  0  15.9   0.0  1.6  61.4  0.0  13692\n",
       "2  1.0  0  0  1  0  0  0  0  17.3   0.0  1.3  58.0  0.0  15403\n",
       "3  0.0  0  0  0  1  0  0  0  19.3   0.0  1.3  56.5  0.0  10091\n",
       "4  0.0  0  0  0  0  1  0  0  16.9  36.5  1.7  84.1  0.0  17680\n",
       "5  0.0  0  0  0  0  0  1  0  18.0  55.5  2.2  84.0  0.0  17881\n",
       "6  0.0  0  0  0  0  0  0  1  16.4   0.0  1.7  53.5  0.0  15668\n",
       "7  0.0  1  0  0  0  0  0  0  14.8   0.0  1.1  47.0  0.0  12421\n",
       "8  1.0  0  1  0  0  0  0  0  15.3   0.0  1.1  52.5  0.0  14696\n",
       "9  0.0  0  0  1  0  0  0  0  12.0   7.0  2.5  61.0  0.0  10414"
      ],
      "text/html": "<div>\n<style scoped>\n    .dataframe tbody tr th:only-of-type {\n        vertical-align: middle;\n    }\n\n    .dataframe tbody tr th {\n        vertical-align: top;\n    }\n\n    .dataframe thead th {\n        text-align: right;\n    }\n</style>\n<table border=\"1\" class=\"dataframe\">\n  <thead>\n    <tr style=\"text-align: right;\">\n      <th></th>\n      <th>공휴일</th>\n      <th>월</th>\n      <th>화</th>\n      <th>수</th>\n      <th>목</th>\n      <th>금</th>\n      <th>토</th>\n      <th>일</th>\n      <th>기온</th>\n      <th>강수량</th>\n      <th>풍속</th>\n      <th>습도</th>\n      <th>적설량</th>\n      <th>통화건수</th>\n    </tr>\n  </thead>\n  <tbody>\n    <tr>\n      <th>0</th>\n      <td>0.0</td>\n      <td>1</td>\n      <td>0</td>\n      <td>0</td>\n      <td>0</td>\n      <td>0</td>\n      <td>0</td>\n      <td>0</td>\n      <td>15.4</td>\n      <td>0.0</td>\n      <td>2.9</td>\n      <td>55.1</td>\n      <td>0.0</td>\n      <td>9681</td>\n    </tr>\n    <tr>\n      <th>1</th>\n      <td>0.0</td>\n      <td>0</td>\n      <td>1</td>\n      <td>0</td>\n      <td>0</td>\n      <td>0</td>\n      <td>0</td>\n      <td>0</td>\n      <td>15.9</td>\n      <td>0.0</td>\n      <td>1.6</td>\n      <td>61.4</td>\n      <td>0.0</td>\n      <td>13692</td>\n    </tr>\n    <tr>\n      <th>2</th>\n      <td>1.0</td>\n      <td>0</td>\n      <td>0</td>\n      <td>1</td>\n      <td>0</td>\n      <td>0</td>\n      <td>0</td>\n      <td>0</td>\n      <td>17.3</td>\n      <td>0.0</td>\n      <td>1.3</td>\n      <td>58.0</td>\n      <td>0.0</td>\n      <td>15403</td>\n    </tr>\n    <tr>\n      <th>3</th>\n      <td>0.0</td>\n      <td>0</td>\n      <td>0</td>\n      <td>0</td>\n      <td>1</td>\n      <td>0</td>\n      <td>0</td>\n      <td>0</td>\n      <td>19.3</td>\n      <td>0.0</td>\n      <td>1.3</td>\n      <td>56.5</td>\n      <td>0.0</td>\n      <td>10091</td>\n    </tr>\n    <tr>\n      <th>4</th>\n      <td>0.0</td>\n      <td>0</td>\n      <td>0</td>\n      <td>0</td>\n      <td>0</td>\n      <td>1</td>\n      <td>0</td>\n      <td>0</td>\n      <td>16.9</td>\n      <td>36.5</td>\n      <td>1.7</td>\n      <td>84.1</td>\n      <td>0.0</td>\n      <td>17680</td>\n    </tr>\n    <tr>\n      <th>5</th>\n      <td>0.0</td>\n      <td>0</td>\n      <td>0</td>\n      <td>0</td>\n      <td>0</td>\n      <td>0</td>\n      <td>1</td>\n      <td>0</td>\n      <td>18.0</td>\n      <td>55.5</td>\n      <td>2.2</td>\n      <td>84.0</td>\n      <td>0.0</td>\n      <td>17881</td>\n    </tr>\n    <tr>\n      <th>6</th>\n      <td>0.0</td>\n      <td>0</td>\n      <td>0</td>\n      <td>0</td>\n      <td>0</td>\n      <td>0</td>\n      <td>0</td>\n      <td>1</td>\n      <td>16.4</td>\n      <td>0.0</td>\n      <td>1.7</td>\n      <td>53.5</td>\n      <td>0.0</td>\n      <td>15668</td>\n    </tr>\n    <tr>\n      <th>7</th>\n      <td>0.0</td>\n      <td>1</td>\n      <td>0</td>\n      <td>0</td>\n      <td>0</td>\n      <td>0</td>\n      <td>0</td>\n      <td>0</td>\n      <td>14.8</td>\n      <td>0.0</td>\n      <td>1.1</td>\n      <td>47.0</td>\n      <td>0.0</td>\n      <td>12421</td>\n    </tr>\n    <tr>\n      <th>8</th>\n      <td>1.0</td>\n      <td>0</td>\n      <td>1</td>\n      <td>0</td>\n      <td>0</td>\n      <td>0</td>\n      <td>0</td>\n      <td>0</td>\n      <td>15.3</td>\n      <td>0.0</td>\n      <td>1.1</td>\n      <td>52.5</td>\n      <td>0.0</td>\n      <td>14696</td>\n    </tr>\n    <tr>\n      <th>9</th>\n      <td>0.0</td>\n      <td>0</td>\n      <td>0</td>\n      <td>1</td>\n      <td>0</td>\n      <td>0</td>\n      <td>0</td>\n      <td>0</td>\n      <td>12.0</td>\n      <td>7.0</td>\n      <td>2.5</td>\n      <td>61.0</td>\n      <td>0.0</td>\n      <td>10414</td>\n    </tr>\n  </tbody>\n</table>\n</div>"
     },
     "metadata": {},
     "execution_count": 94
    }
   ],
   "source": [
    "df.head(10)\n"
   ]
  },
  {
   "cell_type": "code",
   "execution_count": 95,
   "metadata": {},
   "outputs": [
    {
     "output_type": "execute_result",
     "data": {
      "text/plain": [
       "<matplotlib.axes._subplots.AxesSubplot at 0x2b9e9bbffa0>"
      ]
     },
     "metadata": {},
     "execution_count": 95
    },
    {
     "output_type": "display_data",
     "data": {
      "text/plain": "<Figure size 432x288 with 1 Axes>",
      "image/svg+xml": "<?xml version=\"1.0\" encoding=\"utf-8\" standalone=\"no\"?>\r\n<!DOCTYPE svg PUBLIC \"-//W3C//DTD SVG 1.1//EN\"\r\n  \"http://www.w3.org/Graphics/SVG/1.1/DTD/svg11.dtd\">\r\n<!-- Created with matplotlib (https://matplotlib.org/) -->\r\n<svg height=\"262.7525pt\" version=\"1.1\" viewBox=\"0 0 391.434375 262.7525\" width=\"391.434375pt\" xmlns=\"http://www.w3.org/2000/svg\" xmlns:xlink=\"http://www.w3.org/1999/xlink\">\r\n <defs>\r\n  <style type=\"text/css\">\r\n*{stroke-linecap:butt;stroke-linejoin:round;}\r\n  </style>\r\n </defs>\r\n <g id=\"figure_1\">\r\n  <g id=\"patch_1\">\r\n   <path d=\"M 0 262.7525 \r\nL 391.434375 262.7525 \r\nL 391.434375 -0 \r\nL 0 -0 \r\nz\r\n\" style=\"fill:none;\"/>\r\n  </g>\r\n  <g id=\"axes_1\">\r\n   <g id=\"patch_2\">\r\n    <path d=\"M 49.434375 224.64 \r\nL 384.234375 224.64 \r\nL 384.234375 7.2 \r\nL 49.434375 7.2 \r\nz\r\n\" style=\"fill:#ffffff;\"/>\r\n   </g>\r\n   <g id=\"patch_3\">\r\n    <path clip-path=\"url(#pe07b2c1061)\" d=\"M 100.790402 224.64 \r\nL 117.368112 224.64 \r\nL 117.368112 213.135238 \r\nL 100.790402 213.135238 \r\nz\r\n\" style=\"fill:#1f77b4;opacity:0.4;\"/>\r\n   </g>\r\n   <g id=\"patch_4\">\r\n    <path clip-path=\"url(#pe07b2c1061)\" d=\"M 117.368112 224.64 \r\nL 133.945823 224.64 \r\nL 133.945823 121.097143 \r\nL 117.368112 121.097143 \r\nz\r\n\" style=\"fill:#1f77b4;opacity:0.4;\"/>\r\n   </g>\r\n   <g id=\"patch_5\">\r\n    <path clip-path=\"url(#pe07b2c1061)\" d=\"M 133.945823 224.64 \r\nL 150.523533 224.64 \r\nL 150.523533 17.554286 \r\nL 133.945823 17.554286 \r\nz\r\n\" style=\"fill:#1f77b4;opacity:0.4;\"/>\r\n   </g>\r\n   <g id=\"patch_6\">\r\n    <path clip-path=\"url(#pe07b2c1061)\" d=\"M 150.523533 224.64 \r\nL 167.101244 224.64 \r\nL 167.101244 43.44 \r\nL 150.523533 43.44 \r\nz\r\n\" style=\"fill:#1f77b4;opacity:0.4;\"/>\r\n   </g>\r\n   <g id=\"patch_7\">\r\n    <path clip-path=\"url(#pe07b2c1061)\" d=\"M 167.101244 224.64 \r\nL 183.678954 224.64 \r\nL 183.678954 106.71619 \r\nL 167.101244 106.71619 \r\nz\r\n\" style=\"fill:#1f77b4;opacity:0.4;\"/>\r\n   </g>\r\n   <g id=\"patch_8\">\r\n    <path clip-path=\"url(#pe07b2c1061)\" d=\"M 183.678954 224.64 \r\nL 200.256665 224.64 \r\nL 200.256665 106.71619 \r\nL 183.678954 106.71619 \r\nz\r\n\" style=\"fill:#1f77b4;opacity:0.4;\"/>\r\n   </g>\r\n   <g id=\"patch_9\">\r\n    <path clip-path=\"url(#pe07b2c1061)\" d=\"M 200.256665 224.64 \r\nL 216.834375 224.64 \r\nL 216.834375 72.201905 \r\nL 200.256665 72.201905 \r\nz\r\n\" style=\"fill:#1f77b4;opacity:0.4;\"/>\r\n   </g>\r\n   <g id=\"patch_10\">\r\n    <path clip-path=\"url(#pe07b2c1061)\" d=\"M 216.834375 224.64 \r\nL 233.412085 224.64 \r\nL 233.412085 129.725714 \r\nL 216.834375 129.725714 \r\nz\r\n\" style=\"fill:#1f77b4;opacity:0.4;\"/>\r\n   </g>\r\n   <g id=\"patch_11\">\r\n    <path clip-path=\"url(#pe07b2c1061)\" d=\"M 233.412085 224.64 \r\nL 249.989796 224.64 \r\nL 249.989796 178.620952 \r\nL 233.412085 178.620952 \r\nz\r\n\" style=\"fill:#1f77b4;opacity:0.4;\"/>\r\n   </g>\r\n   <g id=\"patch_12\">\r\n    <path clip-path=\"url(#pe07b2c1061)\" d=\"M 249.989796 224.64 \r\nL 266.567506 224.64 \r\nL 266.567506 224.64 \r\nL 249.989796 224.64 \r\nz\r\n\" style=\"fill:#1f77b4;opacity:0.4;\"/>\r\n   </g>\r\n   <g id=\"patch_13\">\r\n    <path clip-path=\"url(#pe07b2c1061)\" d=\"M 266.567506 224.64 \r\nL 283.145217 224.64 \r\nL 283.145217 213.135238 \r\nL 266.567506 213.135238 \r\nz\r\n\" style=\"fill:#1f77b4;opacity:0.4;\"/>\r\n   </g>\r\n   <g id=\"patch_14\">\r\n    <path clip-path=\"url(#pe07b2c1061)\" d=\"M 283.145217 224.64 \r\nL 299.722927 224.64 \r\nL 299.722927 221.76381 \r\nL 283.145217 221.76381 \r\nz\r\n\" style=\"fill:#1f77b4;opacity:0.4;\"/>\r\n   </g>\r\n   <g id=\"patch_15\">\r\n    <path clip-path=\"url(#pe07b2c1061)\" d=\"M 299.722927 224.64 \r\nL 316.300638 224.64 \r\nL 316.300638 224.64 \r\nL 299.722927 224.64 \r\nz\r\n\" style=\"fill:#1f77b4;opacity:0.4;\"/>\r\n   </g>\r\n   <g id=\"patch_16\">\r\n    <path clip-path=\"url(#pe07b2c1061)\" d=\"M 316.300638 224.64 \r\nL 332.878348 224.64 \r\nL 332.878348 221.76381 \r\nL 316.300638 221.76381 \r\nz\r\n\" style=\"fill:#1f77b4;opacity:0.4;\"/>\r\n   </g>\r\n   <g id=\"matplotlib.axis_1\">\r\n    <g id=\"xtick_1\">\r\n     <g id=\"line2d_1\">\r\n      <defs>\r\n       <path d=\"M 0 0 \r\nL 0 3.5 \r\n\" id=\"me666942b7f\" style=\"stroke:#000000;stroke-width:0.8;\"/>\r\n      </defs>\r\n      <g>\r\n       <use style=\"stroke:#000000;stroke-width:0.8;\" x=\"88.641662\" xlink:href=\"#me666942b7f\" y=\"224.64\"/>\r\n      </g>\r\n     </g>\r\n     <g id=\"text_1\">\r\n      <!-- 5000 -->\r\n      <defs>\r\n       <path d=\"M 8.203125 10.15625 \r\nQ 15.625 5.375 23.140625 5.375 \r\nQ 30.71875 5.375 35.515625 9.765625 \r\nQ 40.328125 14.15625 40.328125 21.390625 \r\nQ 40.328125 28.65625 35.546875 32.65625 \r\nQ 30.765625 36.671875 21.78125 36.671875 \r\nQ 18.953125 36.671875 10.5 36.078125 \r\nL 10.5 71.875 \r\nL 44.921875 71.875 \r\nL 44.921875 64.796875 \r\nL 17.875 64.796875 \r\nL 17.875 43.265625 \r\nQ 21.921875 43.5 23.96875 43.5 \r\nQ 35.40625 43.5 41.765625 37.765625 \r\nQ 48.140625 32.03125 48.140625 21.828125 \r\nQ 48.140625 11.140625 41.234375 4.953125 \r\nQ 34.328125 -1.21875 22.90625 -1.21875 \r\nQ 12.984375 -1.21875 8.203125 1.765625 \r\nz\r\n\" id=\"MalgunGothicRegular-53\"/>\r\n       <path d=\"M 4.34375 34.46875 \r\nQ 4.34375 53.515625 10.546875 63.28125 \r\nQ 16.75 73.046875 28.421875 73.046875 \r\nQ 50.828125 73.046875 50.828125 36.234375 \r\nQ 50.828125 18.0625 44.59375 8.421875 \r\nQ 38.375 -1.21875 26.8125 -1.21875 \r\nQ 15.875 -1.21875 10.109375 8.125 \r\nQ 4.34375 17.484375 4.34375 34.46875 \r\nz\r\nM 12.25 34.859375 \r\nQ 12.25 5.375 27.640625 5.375 \r\nQ 42.921875 5.375 42.921875 35.296875 \r\nQ 42.921875 66.40625 28.03125 66.40625 \r\nQ 12.25 66.40625 12.25 34.859375 \r\nz\r\n\" id=\"MalgunGothicRegular-48\"/>\r\n      </defs>\r\n      <g transform=\"translate(77.626037 239.232188)scale(0.1 -0.1)\">\r\n       <use xlink:href=\"#MalgunGothicRegular-53\"/>\r\n       <use x=\"55.078125\" xlink:href=\"#MalgunGothicRegular-48\"/>\r\n       <use x=\"110.15625\" xlink:href=\"#MalgunGothicRegular-48\"/>\r\n       <use x=\"165.234375\" xlink:href=\"#MalgunGothicRegular-48\"/>\r\n      </g>\r\n     </g>\r\n    </g>\r\n    <g id=\"xtick_2\">\r\n     <g id=\"line2d_2\">\r\n      <g>\r\n       <use style=\"stroke:#000000;stroke-width:0.8;\" x=\"150.49879\" xlink:href=\"#me666942b7f\" y=\"224.64\"/>\r\n      </g>\r\n     </g>\r\n     <g id=\"text_2\">\r\n      <!-- 10000 -->\r\n      <defs>\r\n       <path d=\"M 49.171875 0 \r\nL 8.84375 0 \r\nL 8.84375 6.9375 \r\nL 25.140625 6.9375 \r\nL 25.140625 63.421875 \r\nL 8.40625 58.34375 \r\nL 8.40625 65.828125 \r\nL 32.90625 73.484375 \r\nL 32.90625 6.9375 \r\nL 49.171875 6.9375 \r\nz\r\n\" id=\"MalgunGothicRegular-49\"/>\r\n      </defs>\r\n      <g transform=\"translate(136.729259 239.232188)scale(0.1 -0.1)\">\r\n       <use xlink:href=\"#MalgunGothicRegular-49\"/>\r\n       <use x=\"55.078125\" xlink:href=\"#MalgunGothicRegular-48\"/>\r\n       <use x=\"110.15625\" xlink:href=\"#MalgunGothicRegular-48\"/>\r\n       <use x=\"165.234375\" xlink:href=\"#MalgunGothicRegular-48\"/>\r\n       <use x=\"220.3125\" xlink:href=\"#MalgunGothicRegular-48\"/>\r\n      </g>\r\n     </g>\r\n    </g>\r\n    <g id=\"xtick_3\">\r\n     <g id=\"line2d_3\">\r\n      <g>\r\n       <use style=\"stroke:#000000;stroke-width:0.8;\" x=\"212.355919\" xlink:href=\"#me666942b7f\" y=\"224.64\"/>\r\n      </g>\r\n     </g>\r\n     <g id=\"text_3\">\r\n      <!-- 15000 -->\r\n      <g transform=\"translate(198.586388 239.232188)scale(0.1 -0.1)\">\r\n       <use xlink:href=\"#MalgunGothicRegular-49\"/>\r\n       <use x=\"55.078125\" xlink:href=\"#MalgunGothicRegular-53\"/>\r\n       <use x=\"110.15625\" xlink:href=\"#MalgunGothicRegular-48\"/>\r\n       <use x=\"165.234375\" xlink:href=\"#MalgunGothicRegular-48\"/>\r\n       <use x=\"220.3125\" xlink:href=\"#MalgunGothicRegular-48\"/>\r\n      </g>\r\n     </g>\r\n    </g>\r\n    <g id=\"xtick_4\">\r\n     <g id=\"line2d_4\">\r\n      <g>\r\n       <use style=\"stroke:#000000;stroke-width:0.8;\" x=\"274.213048\" xlink:href=\"#me666942b7f\" y=\"224.64\"/>\r\n      </g>\r\n     </g>\r\n     <g id=\"text_4\">\r\n      <!-- 20000 -->\r\n      <defs>\r\n       <path d=\"M 47.796875 0 \r\nL 4.78125 0 \r\nL 4.78125 6.984375 \r\nL 25.6875 28.078125 \r\nQ 35.984375 38.484375 38.421875 43.234375 \r\nQ 40.875 48 40.875 53.265625 \r\nQ 40.875 59.625 37.25 63.03125 \r\nQ 33.640625 66.453125 26.953125 66.453125 \r\nQ 17.28125 66.453125 8.5 58.15625 \r\nL 8.5 66.40625 \r\nQ 16.75 73.046875 27.984375 73.046875 \r\nQ 37.3125 73.046875 42.875 67.890625 \r\nQ 48.4375 62.75 48.4375 53.953125 \r\nQ 48.4375 47.359375 45.015625 41.015625 \r\nQ 41.609375 34.671875 30.8125 23.78125 \r\nL 14.0625 7.234375 \r\nL 14.0625 7.03125 \r\nL 47.796875 7.03125 \r\nz\r\n\" id=\"MalgunGothicRegular-50\"/>\r\n      </defs>\r\n      <g transform=\"translate(260.443516 239.232188)scale(0.1 -0.1)\">\r\n       <use xlink:href=\"#MalgunGothicRegular-50\"/>\r\n       <use x=\"55.078125\" xlink:href=\"#MalgunGothicRegular-48\"/>\r\n       <use x=\"110.15625\" xlink:href=\"#MalgunGothicRegular-48\"/>\r\n       <use x=\"165.234375\" xlink:href=\"#MalgunGothicRegular-48\"/>\r\n       <use x=\"220.3125\" xlink:href=\"#MalgunGothicRegular-48\"/>\r\n      </g>\r\n     </g>\r\n    </g>\r\n    <g id=\"xtick_5\">\r\n     <g id=\"line2d_5\">\r\n      <g>\r\n       <use style=\"stroke:#000000;stroke-width:0.8;\" x=\"336.070176\" xlink:href=\"#me666942b7f\" y=\"224.64\"/>\r\n      </g>\r\n     </g>\r\n     <g id=\"text_5\">\r\n      <!-- 25000 -->\r\n      <g transform=\"translate(322.300645 239.232188)scale(0.1 -0.1)\">\r\n       <use xlink:href=\"#MalgunGothicRegular-50\"/>\r\n       <use x=\"55.078125\" xlink:href=\"#MalgunGothicRegular-53\"/>\r\n       <use x=\"110.15625\" xlink:href=\"#MalgunGothicRegular-48\"/>\r\n       <use x=\"165.234375\" xlink:href=\"#MalgunGothicRegular-48\"/>\r\n       <use x=\"220.3125\" xlink:href=\"#MalgunGothicRegular-48\"/>\r\n      </g>\r\n     </g>\r\n    </g>\r\n    <g id=\"text_6\">\r\n     <!-- 통화건수 -->\r\n     <defs>\r\n      <path d=\"M 6.296875 22.609375 \r\nL 6.296875 29.109375 \r\nL 46.390625 29.109375 \r\nL 46.390625 38.8125 \r\nL 20.796875 38.8125 \r\nL 20.796875 75 \r\nL 79.5 75 \r\nL 79.5 68.5 \r\nL 28.078125 68.5 \r\nL 28.078125 60.109375 \r\nL 77.875 60.109375 \r\nL 77.875 53.71875 \r\nL 28.078125 53.71875 \r\nL 28.078125 45.21875 \r\nL 80.71875 45.21875 \r\nL 80.71875 38.8125 \r\nL 53.71875 38.8125 \r\nL 53.71875 29.109375 \r\nL 93.703125 29.109375 \r\nL 93.703125 22.609375 \r\nz\r\nM 50 -17 \r\nQ 35.015625 -17 27.140625 -12.546875 \r\nQ 19.28125 -8.109375 19.28125 -0.203125 \r\nQ 19.28125 7.71875 27.140625 12.15625 \r\nQ 35.015625 16.609375 50 16.609375 \r\nQ 64.984375 16.609375 72.84375 12.15625 \r\nQ 80.71875 7.71875 80.71875 -0.203125 \r\nQ 80.71875 -8.109375 72.84375 -12.546875 \r\nQ 64.984375 -17 50 -17 \r\nz\r\nM 50 10.40625 \r\nQ 27 10.40625 27 -0.203125 \r\nQ 27 -10.796875 50 -10.796875 \r\nQ 73 -10.796875 73 -0.203125 \r\nQ 73 10.40625 50 10.40625 \r\nz\r\n\" id=\"MalgunGothicRegular-53685\"/>\r\n      <path d=\"M 81.6875 28.609375 \r\nL 81.6875 -17.09375 \r\nL 74.421875 -17.09375 \r\nL 74.421875 77.09375 \r\nL 81.6875 77.09375 \r\nL 81.6875 35.109375 \r\nL 96.1875 35.109375 \r\nL 96.1875 28.609375 \r\nz\r\nM 33.296875 76.703125 \r\nL 40.484375 76.703125 \r\nL 40.484375 64.40625 \r\nL 64.984375 64.40625 \r\nL 64.984375 57.90625 \r\nL 8.6875 57.90625 \r\nL 8.6875 64.40625 \r\nL 33.296875 64.40625 \r\nz\r\nM 40.484375 18.890625 \r\nL 40.484375 5.515625 \r\nQ 57.625 5.765625 68.890625 6.5 \r\nL 69.390625 0.203125 \r\nQ 43.609375 -1.3125 5.609375 -1.3125 \r\nL 4.890625 5.078125 \r\nQ 17.828125 5.078125 33.203125 5.421875 \r\nL 33.203125 18.796875 \r\nQ 23.53125 19.671875 18.359375 24.390625 \r\nQ 13.1875 29.109375 13.1875 35.890625 \r\nQ 13.1875 43.5 19.53125 48.359375 \r\nQ 25.875 53.21875 36.921875 53.21875 \r\nQ 47.796875 53.21875 54.140625 48.453125 \r\nQ 60.5 43.703125 60.5 36.375 \r\nQ 60.5 29.203125 55.25 24.484375 \r\nQ 50 19.78125 40.484375 18.890625 \r\nz\r\nM 36.921875 47.015625 \r\nQ 29.296875 47.015625 24.90625 43.921875 \r\nQ 20.515625 40.828125 20.515625 35.890625 \r\nQ 20.515625 30.953125 24.875 27.921875 \r\nQ 29.25 24.90625 36.921875 24.90625 \r\nQ 44.484375 24.90625 48.84375 27.953125 \r\nQ 53.21875 31 53.21875 35.890625 \r\nQ 53.21875 40.828125 48.828125 43.921875 \r\nQ 44.4375 47.015625 36.921875 47.015625 \r\nz\r\n\" id=\"MalgunGothicRegular-54868\"/>\r\n      <path d=\"M 77.296875 8.203125 \r\nL 77.296875 39.796875 \r\nL 55.609375 39.796875 \r\nL 55.609375 46.296875 \r\nL 77.296875 46.296875 \r\nL 77.296875 77.09375 \r\nL 84.625 77.09375 \r\nL 84.625 8.203125 \r\nz\r\nM 56.5 71.09375 \r\nQ 54.5 53.609375 43 40.125 \r\nQ 31.5 26.65625 13.375 18.796875 \r\nL 8.5 24.703125 \r\nQ 23.578125 30.125 34.390625 40.796875 \r\nQ 45.21875 51.46875 47.90625 64.59375 \r\nL 14.703125 64.59375 \r\nL 14.703125 71.09375 \r\nz\r\nM 26.90625 -13.375 \r\nL 26.90625 16.3125 \r\nL 34.1875 16.3125 \r\nL 34.1875 -6.78125 \r\nL 87.3125 -6.78125 \r\nL 87.3125 -13.375 \r\nz\r\n\" id=\"MalgunGothicRegular-44148\"/>\r\n      <path d=\"M 85.796875 38.484375 \r\nQ 74.21875 40.09375 63.71875 46.359375 \r\nQ 53.21875 52.640625 50 58.5 \r\nQ 46.484375 52.484375 36.078125 46.234375 \r\nQ 25.6875 39.984375 14.40625 37.890625 \r\nL 9.90625 44 \r\nQ 24.359375 45.609375 35.328125 53.296875 \r\nQ 46.296875 60.984375 46.296875 70.015625 \r\nL 46.296875 74.125 \r\nL 53.609375 74.125 \r\nL 53.609375 70.015625 \r\nQ 53.609375 60.9375 64.34375 53.390625 \r\nQ 75.09375 45.84375 90.09375 44.484375 \r\nz\r\nM 53.609375 20.40625 \r\nL 53.609375 -17.09375 \r\nL 46.296875 -17.09375 \r\nL 46.296875 20.40625 \r\nL 6.296875 20.40625 \r\nL 6.296875 26.90625 \r\nL 93.703125 26.90625 \r\nL 93.703125 20.40625 \r\nz\r\n\" id=\"MalgunGothicRegular-49688\"/>\r\n     </defs>\r\n     <g transform=\"translate(196.834375 253.188438)scale(0.1 -0.1)\">\r\n      <use xlink:href=\"#MalgunGothicRegular-53685\"/>\r\n      <use x=\"100\" xlink:href=\"#MalgunGothicRegular-54868\"/>\r\n      <use x=\"200\" xlink:href=\"#MalgunGothicRegular-44148\"/>\r\n      <use x=\"300\" xlink:href=\"#MalgunGothicRegular-49688\"/>\r\n     </g>\r\n    </g>\r\n   </g>\r\n   <g id=\"matplotlib.axis_2\">\r\n    <g id=\"ytick_1\">\r\n     <g id=\"line2d_6\">\r\n      <defs>\r\n       <path d=\"M 0 0 \r\nL -3.5 0 \r\n\" id=\"me6d09a408b\" style=\"stroke:#000000;stroke-width:0.8;\"/>\r\n      </defs>\r\n      <g>\r\n       <use style=\"stroke:#000000;stroke-width:0.8;\" x=\"49.434375\" xlink:href=\"#me6d09a408b\" y=\"224.64\"/>\r\n      </g>\r\n     </g>\r\n     <g id=\"text_7\">\r\n      <!-- 0.00000 -->\r\n      <defs>\r\n       <path d=\"M 5.5625 4.296875 \r\nQ 5.5625 6.59375 7.171875 8.171875 \r\nQ 8.796875 9.765625 10.9375 9.765625 \r\nQ 13.09375 9.765625 14.703125 8.171875 \r\nQ 16.3125 6.59375 16.3125 4.296875 \r\nQ 16.3125 2.15625 14.71875 0.515625 \r\nQ 13.140625 -1.125 10.9375 -1.125 \r\nQ 8.734375 -1.125 7.140625 0.453125 \r\nQ 5.5625 2.046875 5.5625 4.296875 \r\nz\r\n\" id=\"MalgunGothicRegular-46\"/>\r\n      </defs>\r\n      <g transform=\"translate(7.2 228.436094)scale(0.1 -0.1)\">\r\n       <use xlink:href=\"#MalgunGothicRegular-48\"/>\r\n       <use x=\"55.078125\" xlink:href=\"#MalgunGothicRegular-46\"/>\r\n       <use x=\"76.953125\" xlink:href=\"#MalgunGothicRegular-48\"/>\r\n       <use x=\"132.03125\" xlink:href=\"#MalgunGothicRegular-48\"/>\r\n       <use x=\"187.109375\" xlink:href=\"#MalgunGothicRegular-48\"/>\r\n       <use x=\"242.1875\" xlink:href=\"#MalgunGothicRegular-48\"/>\r\n       <use x=\"297.265625\" xlink:href=\"#MalgunGothicRegular-48\"/>\r\n      </g>\r\n     </g>\r\n    </g>\r\n    <g id=\"ytick_2\">\r\n     <g id=\"line2d_7\">\r\n      <g>\r\n       <use style=\"stroke:#000000;stroke-width:0.8;\" x=\"49.434375\" xlink:href=\"#me6d09a408b\" y=\"196.505105\"/>\r\n      </g>\r\n     </g>\r\n     <g id=\"text_8\">\r\n      <!-- 0.00002 -->\r\n      <g transform=\"translate(7.2 200.301199)scale(0.1 -0.1)\">\r\n       <use xlink:href=\"#MalgunGothicRegular-48\"/>\r\n       <use x=\"55.078125\" xlink:href=\"#MalgunGothicRegular-46\"/>\r\n       <use x=\"76.953125\" xlink:href=\"#MalgunGothicRegular-48\"/>\r\n       <use x=\"132.03125\" xlink:href=\"#MalgunGothicRegular-48\"/>\r\n       <use x=\"187.109375\" xlink:href=\"#MalgunGothicRegular-48\"/>\r\n       <use x=\"242.1875\" xlink:href=\"#MalgunGothicRegular-48\"/>\r\n       <use x=\"297.265625\" xlink:href=\"#MalgunGothicRegular-50\"/>\r\n      </g>\r\n     </g>\r\n    </g>\r\n    <g id=\"ytick_3\">\r\n     <g id=\"line2d_8\">\r\n      <g>\r\n       <use style=\"stroke:#000000;stroke-width:0.8;\" x=\"49.434375\" xlink:href=\"#me6d09a408b\" y=\"168.37021\"/>\r\n      </g>\r\n     </g>\r\n     <g id=\"text_9\">\r\n      <!-- 0.00004 -->\r\n      <defs>\r\n       <path d=\"M 51.515625 19.28125 \r\nL 42.234375 19.28125 \r\nL 42.234375 0 \r\nL 34.578125 0 \r\nL 34.578125 19.28125 \r\nL 0.59375 19.28125 \r\nL 0.59375 24.421875 \r\nL 32.71875 71.875 \r\nL 42.234375 71.875 \r\nL 42.234375 25.6875 \r\nL 51.515625 25.6875 \r\nz\r\nM 34.578125 25.6875 \r\nL 34.578125 57.328125 \r\nQ 34.578125 60.59375 34.765625 64.796875 \r\nL 34.578125 64.796875 \r\nQ 33.9375 63.28125 31.84375 59.28125 \r\nL 9.234375 25.6875 \r\nz\r\n\" id=\"MalgunGothicRegular-52\"/>\r\n      </defs>\r\n      <g transform=\"translate(7.2 172.166303)scale(0.1 -0.1)\">\r\n       <use xlink:href=\"#MalgunGothicRegular-48\"/>\r\n       <use x=\"55.078125\" xlink:href=\"#MalgunGothicRegular-46\"/>\r\n       <use x=\"76.953125\" xlink:href=\"#MalgunGothicRegular-48\"/>\r\n       <use x=\"132.03125\" xlink:href=\"#MalgunGothicRegular-48\"/>\r\n       <use x=\"187.109375\" xlink:href=\"#MalgunGothicRegular-48\"/>\r\n       <use x=\"242.1875\" xlink:href=\"#MalgunGothicRegular-48\"/>\r\n       <use x=\"297.265625\" xlink:href=\"#MalgunGothicRegular-52\"/>\r\n      </g>\r\n     </g>\r\n    </g>\r\n    <g id=\"ytick_4\">\r\n     <g id=\"line2d_9\">\r\n      <g>\r\n       <use style=\"stroke:#000000;stroke-width:0.8;\" x=\"49.434375\" xlink:href=\"#me6d09a408b\" y=\"140.235314\"/>\r\n      </g>\r\n     </g>\r\n     <g id=\"text_10\">\r\n      <!-- 0.00006 -->\r\n      <defs>\r\n       <path d=\"M 46.578125 63.578125 \r\nQ 40.921875 66.40625 34.8125 66.40625 \r\nQ 24.859375 66.40625 19.1875 57.640625 \r\nQ 13.53125 48.875 13.578125 34.578125 \r\nL 13.8125 34.578125 \r\nQ 18.796875 44.875 30.28125 44.875 \r\nQ 39.796875 44.875 45.359375 38.71875 \r\nQ 50.921875 32.5625 50.921875 22.65625 \r\nQ 50.921875 12.453125 44.640625 5.609375 \r\nQ 38.375 -1.21875 28.515625 -1.21875 \r\nQ 17.4375 -1.21875 11.5 7.46875 \r\nQ 5.5625 16.15625 5.5625 31.546875 \r\nQ 5.5625 49.703125 13.234375 61.375 \r\nQ 20.90625 73.046875 34.71875 73.046875 \r\nQ 42.1875 73.046875 46.578125 71 \r\nz\r\nM 14.15625 23.53125 \r\nQ 14.15625 15.96875 18.203125 10.671875 \r\nQ 22.265625 5.375 28.8125 5.375 \r\nQ 35.109375 5.375 39.03125 10.078125 \r\nQ 42.96875 14.796875 42.96875 21.6875 \r\nQ 42.96875 29.5 39.203125 33.859375 \r\nQ 35.453125 38.234375 28.71875 38.234375 \r\nQ 22.5625 38.234375 18.359375 33.953125 \r\nQ 14.15625 29.6875 14.15625 23.53125 \r\nz\r\n\" id=\"MalgunGothicRegular-54\"/>\r\n      </defs>\r\n      <g transform=\"translate(7.2 144.031408)scale(0.1 -0.1)\">\r\n       <use xlink:href=\"#MalgunGothicRegular-48\"/>\r\n       <use x=\"55.078125\" xlink:href=\"#MalgunGothicRegular-46\"/>\r\n       <use x=\"76.953125\" xlink:href=\"#MalgunGothicRegular-48\"/>\r\n       <use x=\"132.03125\" xlink:href=\"#MalgunGothicRegular-48\"/>\r\n       <use x=\"187.109375\" xlink:href=\"#MalgunGothicRegular-48\"/>\r\n       <use x=\"242.1875\" xlink:href=\"#MalgunGothicRegular-48\"/>\r\n       <use x=\"297.265625\" xlink:href=\"#MalgunGothicRegular-54\"/>\r\n      </g>\r\n     </g>\r\n    </g>\r\n    <g id=\"ytick_5\">\r\n     <g id=\"line2d_10\">\r\n      <g>\r\n       <use style=\"stroke:#000000;stroke-width:0.8;\" x=\"49.434375\" xlink:href=\"#me6d09a408b\" y=\"112.100419\"/>\r\n      </g>\r\n     </g>\r\n     <g id=\"text_11\">\r\n      <!-- 0.00008 -->\r\n      <defs>\r\n       <path d=\"M 20.703125 37.84375 \r\nQ 7.71875 44 7.71875 55.375 \r\nQ 7.71875 63.328125 13.71875 68.1875 \r\nQ 19.734375 73.046875 28.65625 73.046875 \r\nQ 36.671875 73.046875 42.1875 68.453125 \r\nQ 47.703125 63.875 47.703125 56.5 \r\nQ 47.703125 44.53125 34.328125 37.84375 \r\nL 34.328125 37.640625 \r\nQ 50.046875 31.734375 50.046875 18.171875 \r\nQ 50.046875 8.984375 43.546875 3.875 \r\nQ 37.0625 -1.21875 26.03125 -1.21875 \r\nQ 17 -1.21875 11.03125 4 \r\nQ 5.078125 9.234375 5.078125 17.484375 \r\nQ 5.078125 31.34375 20.703125 37.640625 \r\nz\r\nM 39.65625 55.46875 \r\nQ 39.65625 60.546875 36.46875 63.453125 \r\nQ 33.296875 66.359375 27.875 66.359375 \r\nQ 22.90625 66.359375 19.3125 63.296875 \r\nQ 15.71875 60.25 15.71875 55.671875 \r\nQ 15.71875 46.09375 27.546875 41.265625 \r\nQ 39.65625 46.296875 39.65625 55.46875 \r\nz\r\nM 27 33.890625 \r\nQ 13.03125 28.328125 13.03125 17.875 \r\nQ 13.03125 12.203125 17.1875 8.8125 \r\nQ 21.34375 5.421875 27.828125 5.421875 \r\nQ 34.1875 5.421875 38.15625 8.734375 \r\nQ 42.140625 12.0625 42.140625 17.53125 \r\nQ 42.140625 28.46875 27 33.890625 \r\nz\r\n\" id=\"MalgunGothicRegular-56\"/>\r\n      </defs>\r\n      <g transform=\"translate(7.2 115.896513)scale(0.1 -0.1)\">\r\n       <use xlink:href=\"#MalgunGothicRegular-48\"/>\r\n       <use x=\"55.078125\" xlink:href=\"#MalgunGothicRegular-46\"/>\r\n       <use x=\"76.953125\" xlink:href=\"#MalgunGothicRegular-48\"/>\r\n       <use x=\"132.03125\" xlink:href=\"#MalgunGothicRegular-48\"/>\r\n       <use x=\"187.109375\" xlink:href=\"#MalgunGothicRegular-48\"/>\r\n       <use x=\"242.1875\" xlink:href=\"#MalgunGothicRegular-48\"/>\r\n       <use x=\"297.265625\" xlink:href=\"#MalgunGothicRegular-56\"/>\r\n      </g>\r\n     </g>\r\n    </g>\r\n    <g id=\"ytick_6\">\r\n     <g id=\"line2d_11\">\r\n      <g>\r\n       <use style=\"stroke:#000000;stroke-width:0.8;\" x=\"49.434375\" xlink:href=\"#me6d09a408b\" y=\"83.965524\"/>\r\n      </g>\r\n     </g>\r\n     <g id=\"text_12\">\r\n      <!-- 0.00010 -->\r\n      <g transform=\"translate(7.2 87.761618)scale(0.1 -0.1)\">\r\n       <use xlink:href=\"#MalgunGothicRegular-48\"/>\r\n       <use x=\"55.078125\" xlink:href=\"#MalgunGothicRegular-46\"/>\r\n       <use x=\"76.953125\" xlink:href=\"#MalgunGothicRegular-48\"/>\r\n       <use x=\"132.03125\" xlink:href=\"#MalgunGothicRegular-48\"/>\r\n       <use x=\"187.109375\" xlink:href=\"#MalgunGothicRegular-48\"/>\r\n       <use x=\"242.1875\" xlink:href=\"#MalgunGothicRegular-49\"/>\r\n       <use x=\"297.265625\" xlink:href=\"#MalgunGothicRegular-48\"/>\r\n      </g>\r\n     </g>\r\n    </g>\r\n    <g id=\"ytick_7\">\r\n     <g id=\"line2d_12\">\r\n      <g>\r\n       <use style=\"stroke:#000000;stroke-width:0.8;\" x=\"49.434375\" xlink:href=\"#me6d09a408b\" y=\"55.830629\"/>\r\n      </g>\r\n     </g>\r\n     <g id=\"text_13\">\r\n      <!-- 0.00012 -->\r\n      <g transform=\"translate(7.2 59.626722)scale(0.1 -0.1)\">\r\n       <use xlink:href=\"#MalgunGothicRegular-48\"/>\r\n       <use x=\"55.078125\" xlink:href=\"#MalgunGothicRegular-46\"/>\r\n       <use x=\"76.953125\" xlink:href=\"#MalgunGothicRegular-48\"/>\r\n       <use x=\"132.03125\" xlink:href=\"#MalgunGothicRegular-48\"/>\r\n       <use x=\"187.109375\" xlink:href=\"#MalgunGothicRegular-48\"/>\r\n       <use x=\"242.1875\" xlink:href=\"#MalgunGothicRegular-49\"/>\r\n       <use x=\"297.265625\" xlink:href=\"#MalgunGothicRegular-50\"/>\r\n      </g>\r\n     </g>\r\n    </g>\r\n    <g id=\"ytick_8\">\r\n     <g id=\"line2d_13\">\r\n      <g>\r\n       <use style=\"stroke:#000000;stroke-width:0.8;\" x=\"49.434375\" xlink:href=\"#me6d09a408b\" y=\"27.695733\"/>\r\n      </g>\r\n     </g>\r\n     <g id=\"text_14\">\r\n      <!-- 0.00014 -->\r\n      <g transform=\"translate(7.2 31.491827)scale(0.1 -0.1)\">\r\n       <use xlink:href=\"#MalgunGothicRegular-48\"/>\r\n       <use x=\"55.078125\" xlink:href=\"#MalgunGothicRegular-46\"/>\r\n       <use x=\"76.953125\" xlink:href=\"#MalgunGothicRegular-48\"/>\r\n       <use x=\"132.03125\" xlink:href=\"#MalgunGothicRegular-48\"/>\r\n       <use x=\"187.109375\" xlink:href=\"#MalgunGothicRegular-48\"/>\r\n       <use x=\"242.1875\" xlink:href=\"#MalgunGothicRegular-49\"/>\r\n       <use x=\"297.265625\" xlink:href=\"#MalgunGothicRegular-52\"/>\r\n      </g>\r\n     </g>\r\n    </g>\r\n   </g>\r\n   <g id=\"line2d_14\">\r\n    <path clip-path=\"url(#pe07b2c1061)\" d=\"M 64.652557 224.608959 \r\nL 71.842249 224.522086 \r\nL 76.635377 224.323809 \r\nL 81.428505 223.864317 \r\nL 83.825069 223.462824 \r\nL 86.221633 222.887129 \r\nL 88.618197 222.075914 \r\nL 91.014762 220.952586 \r\nL 93.411326 219.425017 \r\nL 95.80789 217.38739 \r\nL 98.204454 214.724757 \r\nL 100.601018 211.32035 \r\nL 102.997582 207.064971 \r\nL 105.394146 201.867076 \r\nL 107.79071 195.661812 \r\nL 110.187274 188.417485 \r\nL 112.583838 180.138767 \r\nL 114.980402 170.867197 \r\nL 117.376966 160.680513 \r\nL 119.77353 149.692767 \r\nL 124.566658 125.966434 \r\nL 131.756351 89.600782 \r\nL 134.152915 78.51054 \r\nL 136.549479 68.503844 \r\nL 138.946043 59.887869 \r\nL 141.342607 52.907048 \r\nL 143.739171 47.721245 \r\nL 146.135735 44.395092 \r\nL 148.532299 42.899597 \r\nL 150.928863 43.123867 \r\nL 153.325427 44.892581 \r\nL 155.721991 47.984444 \r\nL 158.118555 52.14814 \r\nL 160.515119 57.1146 \r\nL 165.308248 68.346757 \r\nL 170.101376 79.524599 \r\nL 172.49794 84.50046 \r\nL 174.894504 88.821652 \r\nL 177.291068 92.360993 \r\nL 179.687632 95.040966 \r\nL 182.084196 96.833441 \r\nL 184.48076 97.758141 \r\nL 186.877324 97.881452 \r\nL 189.273888 97.316213 \r\nL 191.670452 96.22163 \r\nL 198.860145 91.968049 \r\nL 201.256709 91.08566 \r\nL 203.653273 90.891004 \r\nL 206.049837 91.577815 \r\nL 208.446401 93.270375 \r\nL 210.842965 96.013538 \r\nL 213.239529 99.775456 \r\nL 215.636093 104.462019 \r\nL 218.032657 109.938955 \r\nL 220.429221 116.055808 \r\nL 222.825785 122.666139 \r\nL 227.618913 136.868096 \r\nL 239.601734 173.709589 \r\nL 241.998298 180.570252 \r\nL 244.394862 187.017151 \r\nL 246.791426 192.945464 \r\nL 249.18799 198.263439 \r\nL 251.584554 202.900439 \r\nL 253.981118 206.813788 \r\nL 256.377682 209.99361 \r\nL 258.774246 212.464949 \r\nL 261.17081 214.286653 \r\nL 263.567374 215.546765 \r\nL 265.963938 216.354676 \r\nL 268.360502 216.830845 \r\nL 273.153631 217.257576 \r\nL 277.946759 217.607551 \r\nL 282.739887 218.29319 \r\nL 287.533015 219.358289 \r\nL 299.515835 222.394754 \r\nL 304.308963 223.240397 \r\nL 309.102092 223.727042 \r\nL 313.89522 223.862392 \r\nL 318.688348 223.720115 \r\nL 330.671168 223.088801 \r\nL 335.464296 223.103751 \r\nL 340.257424 223.3354 \r\nL 357.033373 224.424445 \r\nL 364.223065 224.581869 \r\nL 369.016193 224.610467 \r\nL 369.016193 224.610467 \r\n\" style=\"fill:none;stroke:#1f77b4;stroke-linecap:square;stroke-width:1.5;\"/>\r\n   </g>\r\n   <g id=\"patch_17\">\r\n    <path d=\"M 49.434375 224.64 \r\nL 49.434375 7.2 \r\n\" style=\"fill:none;stroke:#000000;stroke-linecap:square;stroke-linejoin:miter;stroke-width:0.8;\"/>\r\n   </g>\r\n   <g id=\"patch_18\">\r\n    <path d=\"M 384.234375 224.64 \r\nL 384.234375 7.2 \r\n\" style=\"fill:none;stroke:#000000;stroke-linecap:square;stroke-linejoin:miter;stroke-width:0.8;\"/>\r\n   </g>\r\n   <g id=\"patch_19\">\r\n    <path d=\"M 49.434375 224.64 \r\nL 384.234375 224.64 \r\n\" style=\"fill:none;stroke:#000000;stroke-linecap:square;stroke-linejoin:miter;stroke-width:0.8;\"/>\r\n   </g>\r\n   <g id=\"patch_20\">\r\n    <path d=\"M 49.434375 7.2 \r\nL 384.234375 7.2 \r\n\" style=\"fill:none;stroke:#000000;stroke-linecap:square;stroke-linejoin:miter;stroke-width:0.8;\"/>\r\n   </g>\r\n  </g>\r\n </g>\r\n <defs>\r\n  <clipPath id=\"pe07b2c1061\">\r\n   <rect height=\"217.44\" width=\"334.8\" x=\"49.434375\" y=\"7.2\"/>\r\n  </clipPath>\r\n </defs>\r\n</svg>\r\n",
      "image/png": "[encoded data removed]"
     },
     "metadata": {
      "needs_background": "light"
     }
    }
   ],
   "source": [
    "# 배달 건수 분포도 확인 \n",
    "import numpy as np \n",
    "import matplotlib.pyplot as plt \n",
    "import matplotlib as mpl\n",
    "import matplotlib.font_manager as fm\n",
    "%matplotlib inline\n",
    "mpl.rcParams['axes.unicode_minus'] = False\n",
    "plt.rcParams['font.family'] = 'Malgun Gothic'\n",
    "import seaborn as sns \n",
    "sns.distplot(df['통화건수'])"
   ]
  },
  {
   "cell_type": "code",
   "execution_count": 97,
   "metadata": {},
   "outputs": [
    {
     "output_type": "execute_result",
     "data": {
      "text/plain": [
       "   공휴일  월  화  수  목  금  토  일    기온   강수량   풍속    습도  적설량   통화건수\n",
       "0  0.0  1  0  0  0  0  0  0  15.4   0.0  2.9  55.1  0.0   9681\n",
       "1  0.0  0  1  0  0  0  0  0  15.9   0.0  1.6  61.4  0.0  13692\n",
       "2  1.0  0  0  1  0  0  0  0  17.3   0.0  1.3  58.0  0.0  15403\n",
       "3  0.0  0  0  0  1  0  0  0  19.3   0.0  1.3  56.5  0.0  10091\n",
       "4  0.0  0  0  0  0  1  0  0  16.9  36.5  1.7  84.1  0.0  17680"
      ],
      "text/html": "<div>\n<style scoped>\n    .dataframe tbody tr th:only-of-type {\n        vertical-align: middle;\n    }\n\n    .dataframe tbody tr th {\n        vertical-align: top;\n    }\n\n    .dataframe thead th {\n        text-align: right;\n    }\n</style>\n<table border=\"1\" class=\"dataframe\">\n  <thead>\n    <tr style=\"text-align: right;\">\n      <th></th>\n      <th>공휴일</th>\n      <th>월</th>\n      <th>화</th>\n      <th>수</th>\n      <th>목</th>\n      <th>금</th>\n      <th>토</th>\n      <th>일</th>\n      <th>기온</th>\n      <th>강수량</th>\n      <th>풍속</th>\n      <th>습도</th>\n      <th>적설량</th>\n      <th>통화건수</th>\n    </tr>\n  </thead>\n  <tbody>\n    <tr>\n      <th>0</th>\n      <td>0.0</td>\n      <td>1</td>\n      <td>0</td>\n      <td>0</td>\n      <td>0</td>\n      <td>0</td>\n      <td>0</td>\n      <td>0</td>\n      <td>15.4</td>\n      <td>0.0</td>\n      <td>2.9</td>\n      <td>55.1</td>\n      <td>0.0</td>\n      <td>9681</td>\n    </tr>\n    <tr>\n      <th>1</th>\n      <td>0.0</td>\n      <td>0</td>\n      <td>1</td>\n      <td>0</td>\n      <td>0</td>\n      <td>0</td>\n      <td>0</td>\n      <td>0</td>\n      <td>15.9</td>\n      <td>0.0</td>\n      <td>1.6</td>\n      <td>61.4</td>\n      <td>0.0</td>\n      <td>13692</td>\n    </tr>\n    <tr>\n      <th>2</th>\n      <td>1.0</td>\n      <td>0</td>\n      <td>0</td>\n      <td>1</td>\n      <td>0</td>\n      <td>0</td>\n      <td>0</td>\n      <td>0</td>\n      <td>17.3</td>\n      <td>0.0</td>\n      <td>1.3</td>\n      <td>58.0</td>\n      <td>0.0</td>\n      <td>15403</td>\n    </tr>\n    <tr>\n      <th>3</th>\n      <td>0.0</td>\n      <td>0</td>\n      <td>0</td>\n      <td>0</td>\n      <td>1</td>\n      <td>0</td>\n      <td>0</td>\n      <td>0</td>\n      <td>19.3</td>\n      <td>0.0</td>\n      <td>1.3</td>\n      <td>56.5</td>\n      <td>0.0</td>\n      <td>10091</td>\n    </tr>\n    <tr>\n      <th>4</th>\n      <td>0.0</td>\n      <td>0</td>\n      <td>0</td>\n      <td>0</td>\n      <td>0</td>\n      <td>1</td>\n      <td>0</td>\n      <td>0</td>\n      <td>16.9</td>\n      <td>36.5</td>\n      <td>1.7</td>\n      <td>84.1</td>\n      <td>0.0</td>\n      <td>17680</td>\n    </tr>\n  </tbody>\n</table>\n</div>"
     },
     "metadata": {},
     "execution_count": 97
    }
   ],
   "source": [
    "df.head()"
   ]
  },
  {
   "cell_type": "code",
   "execution_count": 98,
   "metadata": {},
   "outputs": [
    {
     "output_type": "execute_result",
     "data": {
      "text/plain": [
       "              공휴일           월           화           수           목           금  \\\n",
       "count  365.000000  365.000000  365.000000  365.000000  365.000000  365.000000   \n",
       "mean     0.043836    0.145205    0.142466    0.142466    0.142466    0.142466   \n",
       "std      0.205010    0.352791    0.350007    0.350007    0.350007    0.350007   \n",
       "min      0.000000    0.000000    0.000000    0.000000    0.000000    0.000000   \n",
       "25%      0.000000    0.000000    0.000000    0.000000    0.000000    0.000000   \n",
       "50%      0.000000    0.000000    0.000000    0.000000    0.000000    0.000000   \n",
       "75%      0.000000    0.000000    0.000000    0.000000    0.000000    0.000000   \n",
       "max      1.000000    1.000000    1.000000    1.000000    1.000000    1.000000   \n",
       "\n",
       "                토           일          기온         강수량          풍속          습도  \\\n",
       "count  365.000000  365.000000  365.000000  365.000000  365.000000  365.000000   \n",
       "mean     0.142466    0.142466   13.163014    2.603836    1.813973   55.678082   \n",
       "std      0.350007    0.350007   10.393773    9.126139    0.614698   15.644506   \n",
       "min      0.000000    0.000000  -10.500000    0.000000    0.900000   24.300000   \n",
       "25%      0.000000    0.000000    4.900000    0.000000    1.400000   44.300000   \n",
       "50%      0.000000    0.000000   12.800000    0.000000    1.700000   54.800000   \n",
       "75%      0.000000    0.000000   23.000000    0.000000    2.200000   66.600000   \n",
       "max      1.000000    1.000000   31.600000   64.000000    6.000000   95.300000   \n",
       "\n",
       "              적설량          통화건수  \n",
       "count  365.000000    365.000000  \n",
       "mean     0.058630  12063.084932  \n",
       "std      0.538887   2992.153399  \n",
       "min      0.000000   5982.000000  \n",
       "25%      0.000000   9593.000000  \n",
       "50%      0.000000  11632.000000  \n",
       "75%      0.000000  14452.000000  \n",
       "max      8.800000  24742.000000  "
      ],
      "text/html": "<div>\n<style scoped>\n    .dataframe tbody tr th:only-of-type {\n        vertical-align: middle;\n    }\n\n    .dataframe tbody tr th {\n        vertical-align: top;\n    }\n\n    .dataframe thead th {\n        text-align: right;\n    }\n</style>\n<table border=\"1\" class=\"dataframe\">\n  <thead>\n    <tr style=\"text-align: right;\">\n      <th></th>\n      <th>공휴일</th>\n      <th>월</th>\n      <th>화</th>\n      <th>수</th>\n      <th>목</th>\n      <th>금</th>\n      <th>토</th>\n      <th>일</th>\n      <th>기온</th>\n      <th>강수량</th>\n      <th>풍속</th>\n      <th>습도</th>\n      <th>적설량</th>\n      <th>통화건수</th>\n    </tr>\n  </thead>\n  <tbody>\n    <tr>\n      <th>count</th>\n      <td>365.000000</td>\n      <td>365.000000</td>\n      <td>365.000000</td>\n      <td>365.000000</td>\n      <td>365.000000</td>\n      <td>365.000000</td>\n      <td>365.000000</td>\n      <td>365.000000</td>\n      <td>365.000000</td>\n      <td>365.000000</td>\n      <td>365.000000</td>\n      <td>365.000000</td>\n      <td>365.000000</td>\n      <td>365.000000</td>\n    </tr>\n    <tr>\n      <th>mean</th>\n      <td>0.043836</td>\n      <td>0.145205</td>\n      <td>0.142466</td>\n      <td>0.142466</td>\n      <td>0.142466</td>\n      <td>0.142466</td>\n      <td>0.142466</td>\n      <td>0.142466</td>\n      <td>13.163014</td>\n      <td>2.603836</td>\n      <td>1.813973</td>\n      <td>55.678082</td>\n      <td>0.058630</td>\n      <td>12063.084932</td>\n    </tr>\n    <tr>\n      <th>std</th>\n      <td>0.205010</td>\n      <td>0.352791</td>\n      <td>0.350007</td>\n      <td>0.350007</td>\n      <td>0.350007</td>\n      <td>0.350007</td>\n      <td>0.350007</td>\n      <td>0.350007</td>\n      <td>10.393773</td>\n      <td>9.126139</td>\n      <td>0.614698</td>\n      <td>15.644506</td>\n      <td>0.538887</td>\n      <td>2992.153399</td>\n    </tr>\n    <tr>\n      <th>min</th>\n      <td>0.000000</td>\n      <td>0.000000</td>\n      <td>0.000000</td>\n      <td>0.000000</td>\n      <td>0.000000</td>\n      <td>0.000000</td>\n      <td>0.000000</td>\n      <td>0.000000</td>\n      <td>-10.500000</td>\n      <td>0.000000</td>\n      <td>0.900000</td>\n      <td>24.300000</td>\n      <td>0.000000</td>\n      <td>5982.000000</td>\n    </tr>\n    <tr>\n      <th>25%</th>\n      <td>0.000000</td>\n      <td>0.000000</td>\n      <td>0.000000</td>\n      <td>0.000000</td>\n      <td>0.000000</td>\n      <td>0.000000</td>\n      <td>0.000000</td>\n      <td>0.000000</td>\n      <td>4.900000</td>\n      <td>0.000000</td>\n      <td>1.400000</td>\n      <td>44.300000</td>\n      <td>0.000000</td>\n      <td>9593.000000</td>\n    </tr>\n    <tr>\n      <th>50%</th>\n      <td>0.000000</td>\n      <td>0.000000</td>\n      <td>0.000000</td>\n      <td>0.000000</td>\n      <td>0.000000</td>\n      <td>0.000000</td>\n      <td>0.000000</td>\n      <td>0.000000</td>\n      <td>12.800000</td>\n      <td>0.000000</td>\n      <td>1.700000</td>\n      <td>54.800000</td>\n      <td>0.000000</td>\n      <td>11632.000000</td>\n    </tr>\n    <tr>\n      <th>75%</th>\n      <td>0.000000</td>\n      <td>0.000000</td>\n      <td>0.000000</td>\n      <td>0.000000</td>\n      <td>0.000000</td>\n      <td>0.000000</td>\n      <td>0.000000</td>\n      <td>0.000000</td>\n      <td>23.000000</td>\n      <td>0.000000</td>\n      <td>2.200000</td>\n      <td>66.600000</td>\n      <td>0.000000</td>\n      <td>14452.000000</td>\n    </tr>\n    <tr>\n      <th>max</th>\n      <td>1.000000</td>\n      <td>1.000000</td>\n      <td>1.000000</td>\n      <td>1.000000</td>\n      <td>1.000000</td>\n      <td>1.000000</td>\n      <td>1.000000</td>\n      <td>1.000000</td>\n      <td>31.600000</td>\n      <td>64.000000</td>\n      <td>6.000000</td>\n      <td>95.300000</td>\n      <td>8.800000</td>\n      <td>24742.000000</td>\n    </tr>\n  </tbody>\n</table>\n</div>"
     },
     "metadata": {},
     "execution_count": 98
    }
   ],
   "source": [
    "df.describe()"
   ]
  },
  {
   "cell_type": "code",
   "execution_count": 99,
   "metadata": {},
   "outputs": [
    {
     "output_type": "stream",
     "name": "stdout",
     "text": [
      "1103.827615791829 1218435.4053846737\n"
     ]
    }
   ],
   "source": [
    "# 모델 학습\n",
    "from sklearn.linear_model import LinearRegression\n",
    "from sklearn.model_selection import train_test_split\n",
    "from sklearn.metrics import mean_squared_error\n",
    "\n",
    "y_target = df['통화건수']\n",
    "X_features = df.drop('통화건수',axis=1)\n",
    "\n",
    "X_train, X_test, y_train, y_test = train_test_split(X_features, y_target, test_size=0.2,random_state=13)\n",
    "\n",
    "lr_reg= LinearRegression()\n",
    "lr_reg.fit(X_train,y_train)\n",
    "\n",
    "# 모델 예측 \n",
    "pred = lr_reg.predict(X_test)\n",
    "mse = mean_squared_error(y_test, pred)\n",
    "rmse = np.sqrt(mse)\n",
    "print(rmse, mse)"
   ]
  },
  {
   "cell_type": "code",
   "execution_count": 100,
   "metadata": {},
   "outputs": [
    {
     "output_type": "execute_result",
     "data": {
      "text/plain": [
       "<matplotlib.axes._subplots.AxesSubplot at 0x2b9e9d122b0>"
      ]
     },
     "metadata": {},
     "execution_count": 100
    },
    {
     "output_type": "display_data",
     "data": {
      "text/plain": "<Figure size 432x288 with 1 Axes>",
      "image/svg+xml": "<?xml version=\"1.0\" encoding=\"utf-8\" standalone=\"no\"?>\r\n<!DOCTYPE svg PUBLIC \"-//W3C//DTD SVG 1.1//EN\"\r\n  \"http://www.w3.org/Graphics/SVG/1.1/DTD/svg11.dtd\">\r\n<!-- Created with matplotlib (https://matplotlib.org/) -->\r\n<svg height=\"262.7525pt\" version=\"1.1\" viewBox=\"0 0 397.695312 262.7525\" width=\"397.695312pt\" xmlns=\"http://www.w3.org/2000/svg\" xmlns:xlink=\"http://www.w3.org/1999/xlink\">\r\n <defs>\r\n  <style type=\"text/css\">\r\n*{stroke-linecap:butt;stroke-linejoin:round;}\r\n  </style>\r\n </defs>\r\n <g id=\"figure_1\">\r\n  <g id=\"patch_1\">\r\n   <path d=\"M 0 262.7525 \r\nL 397.695312 262.7525 \r\nL 397.695312 0 \r\nL 0 0 \r\nz\r\n\" style=\"fill:none;\"/>\r\n  </g>\r\n  <g id=\"axes_1\">\r\n   <g id=\"patch_2\">\r\n    <path d=\"M 55.695312 224.64 \r\nL 390.495313 224.64 \r\nL 390.495313 7.2 \r\nL 55.695312 7.2 \r\nz\r\n\" style=\"fill:#ffffff;\"/>\r\n   </g>\r\n   <g id=\"PathCollection_1\">\r\n    <defs>\r\n     <path d=\"M 0 3 \r\nC 0.795609 3 1.55874 2.683901 2.12132 2.12132 \r\nC 2.683901 1.55874 3 0.795609 3 0 \r\nC 3 -0.795609 2.683901 -1.55874 2.12132 -2.12132 \r\nC 1.55874 -2.683901 0.795609 -3 0 -3 \r\nC -0.795609 -3 -1.55874 -2.683901 -2.12132 -2.12132 \r\nC -2.683901 -1.55874 -3 -0.795609 -3 0 \r\nC -3 0.795609 -2.683901 1.55874 -2.12132 2.12132 \r\nC -1.55874 2.683901 -0.795609 3 0 3 \r\nz\r\n\" id=\"m391293289f\" style=\"stroke:#1f77b4;stroke-opacity:0.8;\"/>\r\n    </defs>\r\n    <g clip-path=\"url(#p4248f5daff)\">\r\n     <use style=\"fill:#1f77b4;fill-opacity:0.8;stroke:#1f77b4;stroke-opacity:0.8;\" x=\"55.695312\" xlink:href=\"#m391293289f\" y=\"184.514413\"/>\r\n     <use style=\"fill:#1f77b4;fill-opacity:0.8;stroke:#1f77b4;stroke-opacity:0.8;\" x=\"55.695312\" xlink:href=\"#m391293289f\" y=\"151.721641\"/>\r\n     <use style=\"fill:#1f77b4;fill-opacity:0.8;stroke:#1f77b4;stroke-opacity:0.8;\" x=\"55.695312\" xlink:href=\"#m391293289f\" y=\"137.733002\"/>\r\n     <use style=\"fill:#1f77b4;fill-opacity:0.8;stroke:#1f77b4;stroke-opacity:0.8;\" x=\"55.695312\" xlink:href=\"#m391293289f\" y=\"181.162372\"/>\r\n     <use style=\"fill:#1f77b4;fill-opacity:0.8;stroke:#1f77b4;stroke-opacity:0.8;\" x=\"55.695312\" xlink:href=\"#m391293289f\" y=\"119.116911\"/>\r\n     <use style=\"fill:#1f77b4;fill-opacity:0.8;stroke:#1f77b4;stroke-opacity:0.8;\" x=\"55.695312\" xlink:href=\"#m391293289f\" y=\"117.473593\"/>\r\n     <use style=\"fill:#1f77b4;fill-opacity:0.8;stroke:#1f77b4;stroke-opacity:0.8;\" x=\"55.695312\" xlink:href=\"#m391293289f\" y=\"135.566439\"/>\r\n     <use style=\"fill:#1f77b4;fill-opacity:0.8;stroke:#1f77b4;stroke-opacity:0.8;\" x=\"55.695312\" xlink:href=\"#m391293289f\" y=\"162.112968\"/>\r\n     <use style=\"fill:#1f77b4;fill-opacity:0.8;stroke:#1f77b4;stroke-opacity:0.8;\" x=\"55.695312\" xlink:href=\"#m391293289f\" y=\"143.513229\"/>\r\n     <use style=\"fill:#1f77b4;fill-opacity:0.8;stroke:#1f77b4;stroke-opacity:0.8;\" x=\"55.695312\" xlink:href=\"#m391293289f\" y=\"178.521618\"/>\r\n     <use style=\"fill:#1f77b4;fill-opacity:0.8;stroke:#1f77b4;stroke-opacity:0.8;\" x=\"55.695312\" xlink:href=\"#m391293289f\" y=\"173.984099\"/>\r\n     <use style=\"fill:#1f77b4;fill-opacity:0.8;stroke:#1f77b4;stroke-opacity:0.8;\" x=\"55.695312\" xlink:href=\"#m391293289f\" y=\"126.115318\"/>\r\n     <use style=\"fill:#1f77b4;fill-opacity:0.8;stroke:#1f77b4;stroke-opacity:0.8;\" x=\"55.695312\" xlink:href=\"#m391293289f\" y=\"126.785726\"/>\r\n     <use style=\"fill:#1f77b4;fill-opacity:0.8;stroke:#1f77b4;stroke-opacity:0.8;\" x=\"55.695312\" xlink:href=\"#m391293289f\" y=\"139.139224\"/>\r\n     <use style=\"fill:#1f77b4;fill-opacity:0.8;stroke:#1f77b4;stroke-opacity:0.8;\" x=\"55.695312\" xlink:href=\"#m391293289f\" y=\"186.582868\"/>\r\n     <use style=\"fill:#1f77b4;fill-opacity:0.8;stroke:#1f77b4;stroke-opacity:0.8;\" x=\"55.695312\" xlink:href=\"#m391293289f\" y=\"168.301981\"/>\r\n     <use style=\"fill:#1f77b4;fill-opacity:0.8;stroke:#1f77b4;stroke-opacity:0.8;\" x=\"55.695312\" xlink:href=\"#m391293289f\" y=\"174.646331\"/>\r\n     <use style=\"fill:#1f77b4;fill-opacity:0.8;stroke:#1f77b4;stroke-opacity:0.8;\" x=\"55.695312\" xlink:href=\"#m391293289f\" y=\"172.120037\"/>\r\n     <use style=\"fill:#1f77b4;fill-opacity:0.8;stroke:#1f77b4;stroke-opacity:0.8;\" x=\"55.695312\" xlink:href=\"#m391293289f\" y=\"136.204144\"/>\r\n     <use style=\"fill:#1f77b4;fill-opacity:0.8;stroke:#1f77b4;stroke-opacity:0.8;\" x=\"55.695312\" xlink:href=\"#m391293289f\" y=\"126.393292\"/>\r\n     <use style=\"fill:#1f77b4;fill-opacity:0.8;stroke:#1f77b4;stroke-opacity:0.8;\" x=\"55.695312\" xlink:href=\"#m391293289f\" y=\"141.125921\"/>\r\n     <use style=\"fill:#1f77b4;fill-opacity:0.8;stroke:#1f77b4;stroke-opacity:0.8;\" x=\"55.695312\" xlink:href=\"#m391293289f\" y=\"185.781648\"/>\r\n     <use style=\"fill:#1f77b4;fill-opacity:0.8;stroke:#1f77b4;stroke-opacity:0.8;\" x=\"55.695312\" xlink:href=\"#m391293289f\" y=\"177.704047\"/>\r\n     <use style=\"fill:#1f77b4;fill-opacity:0.8;stroke:#1f77b4;stroke-opacity:0.8;\" x=\"55.695312\" xlink:href=\"#m391293289f\" y=\"176.575799\"/>\r\n     <use style=\"fill:#1f77b4;fill-opacity:0.8;stroke:#1f77b4;stroke-opacity:0.8;\" x=\"55.695312\" xlink:href=\"#m391293289f\" y=\"171.449629\"/>\r\n     <use style=\"fill:#1f77b4;fill-opacity:0.8;stroke:#1f77b4;stroke-opacity:0.8;\" x=\"55.695312\" xlink:href=\"#m391293289f\" y=\"134.282852\"/>\r\n     <use style=\"fill:#1f77b4;fill-opacity:0.8;stroke:#1f77b4;stroke-opacity:0.8;\" x=\"55.695312\" xlink:href=\"#m391293289f\" y=\"126.434171\"/>\r\n     <use style=\"fill:#1f77b4;fill-opacity:0.8;stroke:#1f77b4;stroke-opacity:0.8;\" x=\"55.695312\" xlink:href=\"#m391293289f\" y=\"133.465281\"/>\r\n     <use style=\"fill:#1f77b4;fill-opacity:0.8;stroke:#1f77b4;stroke-opacity:0.8;\" x=\"55.695312\" xlink:href=\"#m391293289f\" y=\"189.297203\"/>\r\n     <use style=\"fill:#1f77b4;fill-opacity:0.8;stroke:#1f77b4;stroke-opacity:0.8;\" x=\"55.695312\" xlink:href=\"#m391293289f\" y=\"179.232905\"/>\r\n     <use style=\"fill:#1f77b4;fill-opacity:0.8;stroke:#1f77b4;stroke-opacity:0.8;\" x=\"55.695312\" xlink:href=\"#m391293289f\" y=\"168.678063\"/>\r\n     <use style=\"fill:#1f77b4;fill-opacity:0.8;stroke:#1f77b4;stroke-opacity:0.8;\" x=\"55.695312\" xlink:href=\"#m391293289f\" y=\"173.902342\"/>\r\n     <use style=\"fill:#1f77b4;fill-opacity:0.8;stroke:#1f77b4;stroke-opacity:0.8;\" x=\"55.695312\" xlink:href=\"#m391293289f\" y=\"142.630252\"/>\r\n     <use style=\"fill:#1f77b4;fill-opacity:0.8;stroke:#1f77b4;stroke-opacity:0.8;\" x=\"55.695312\" xlink:href=\"#m391293289f\" y=\"132.557777\"/>\r\n     <use style=\"fill:#1f77b4;fill-opacity:0.8;stroke:#1f77b4;stroke-opacity:0.8;\" x=\"55.695312\" xlink:href=\"#m391293289f\" y=\"148.565817\"/>\r\n     <use style=\"fill:#1f77b4;fill-opacity:0.8;stroke:#1f77b4;stroke-opacity:0.8;\" x=\"55.695312\" xlink:href=\"#m391293289f\" y=\"187.70294\"/>\r\n     <use style=\"fill:#1f77b4;fill-opacity:0.8;stroke:#1f77b4;stroke-opacity:0.8;\" x=\"55.695312\" xlink:href=\"#m391293289f\" y=\"183.754072\"/>\r\n     <use style=\"fill:#1f77b4;fill-opacity:0.8;stroke:#1f77b4;stroke-opacity:0.8;\" x=\"55.695312\" xlink:href=\"#m391293289f\" y=\"171.572265\"/>\r\n     <use style=\"fill:#1f77b4;fill-opacity:0.8;stroke:#1f77b4;stroke-opacity:0.8;\" x=\"55.695312\" xlink:href=\"#m391293289f\" y=\"158.025113\"/>\r\n     <use style=\"fill:#1f77b4;fill-opacity:0.8;stroke:#1f77b4;stroke-opacity:0.8;\" x=\"55.695312\" xlink:href=\"#m391293289f\" y=\"139.065642\"/>\r\n     <use style=\"fill:#1f77b4;fill-opacity:0.8;stroke:#1f77b4;stroke-opacity:0.8;\" x=\"55.695312\" xlink:href=\"#m391293289f\" y=\"138.264423\"/>\r\n     <use style=\"fill:#1f77b4;fill-opacity:0.8;stroke:#1f77b4;stroke-opacity:0.8;\" x=\"55.695312\" xlink:href=\"#m391293289f\" y=\"145.508102\"/>\r\n     <use style=\"fill:#1f77b4;fill-opacity:0.8;stroke:#1f77b4;stroke-opacity:0.8;\" x=\"55.695312\" xlink:href=\"#m391293289f\" y=\"189.141865\"/>\r\n     <use style=\"fill:#1f77b4;fill-opacity:0.8;stroke:#1f77b4;stroke-opacity:0.8;\" x=\"55.695312\" xlink:href=\"#m391293289f\" y=\"183.451571\"/>\r\n     <use style=\"fill:#1f77b4;fill-opacity:0.8;stroke:#1f77b4;stroke-opacity:0.8;\" x=\"55.695312\" xlink:href=\"#m391293289f\" y=\"175.120523\"/>\r\n     <use style=\"fill:#1f77b4;fill-opacity:0.8;stroke:#1f77b4;stroke-opacity:0.8;\" x=\"55.695312\" xlink:href=\"#m391293289f\" y=\"159.758364\"/>\r\n     <use style=\"fill:#1f77b4;fill-opacity:0.8;stroke:#1f77b4;stroke-opacity:0.8;\" x=\"55.695312\" xlink:href=\"#m391293289f\" y=\"141.428423\"/>\r\n     <use style=\"fill:#1f77b4;fill-opacity:0.8;stroke:#1f77b4;stroke-opacity:0.8;\" x=\"55.695312\" xlink:href=\"#m391293289f\" y=\"132.369736\"/>\r\n     <use style=\"fill:#1f77b4;fill-opacity:0.8;stroke:#1f77b4;stroke-opacity:0.8;\" x=\"55.695312\" xlink:href=\"#m391293289f\" y=\"150.781435\"/>\r\n     <use style=\"fill:#1f77b4;fill-opacity:0.8;stroke:#1f77b4;stroke-opacity:0.8;\" x=\"55.695312\" xlink:href=\"#m391293289f\" y=\"189.55065\"/>\r\n     <use style=\"fill:#1f77b4;fill-opacity:0.8;stroke:#1f77b4;stroke-opacity:0.8;\" x=\"55.695312\" xlink:href=\"#m391293289f\" y=\"179.649866\"/>\r\n     <use style=\"fill:#1f77b4;fill-opacity:0.8;stroke:#1f77b4;stroke-opacity:0.8;\" x=\"55.695312\" xlink:href=\"#m391293289f\" y=\"176.861949\"/>\r\n     <use style=\"fill:#1f77b4;fill-opacity:0.8;stroke:#1f77b4;stroke-opacity:0.8;\" x=\"55.695312\" xlink:href=\"#m391293289f\" y=\"174.760791\"/>\r\n     <use style=\"fill:#1f77b4;fill-opacity:0.8;stroke:#1f77b4;stroke-opacity:0.8;\" x=\"55.695312\" xlink:href=\"#m391293289f\" y=\"141.79633\"/>\r\n     <use style=\"fill:#1f77b4;fill-opacity:0.8;stroke:#1f77b4;stroke-opacity:0.8;\" x=\"390.495313\" xlink:href=\"#m391293289f\" y=\"133.743255\"/>\r\n     <use style=\"fill:#1f77b4;fill-opacity:0.8;stroke:#1f77b4;stroke-opacity:0.8;\" x=\"169.831676\" xlink:href=\"#m391293289f\" y=\"144.44526\"/>\r\n     <use style=\"fill:#1f77b4;fill-opacity:0.8;stroke:#1f77b4;stroke-opacity:0.8;\" x=\"67.108949\" xlink:href=\"#m391293289f\" y=\"190.016666\"/>\r\n     <use style=\"fill:#1f77b4;fill-opacity:0.8;stroke:#1f77b4;stroke-opacity:0.8;\" x=\"55.695312\" xlink:href=\"#m391293289f\" y=\"181.007034\"/>\r\n     <use style=\"fill:#1f77b4;fill-opacity:0.8;stroke:#1f77b4;stroke-opacity:0.8;\" x=\"55.695312\" xlink:href=\"#m391293289f\" y=\"179.142972\"/>\r\n     <use style=\"fill:#1f77b4;fill-opacity:0.8;stroke:#1f77b4;stroke-opacity:0.8;\" x=\"55.695312\" xlink:href=\"#m391293289f\" y=\"175.071468\"/>\r\n     <use style=\"fill:#1f77b4;fill-opacity:0.8;stroke:#1f77b4;stroke-opacity:0.8;\" x=\"55.695312\" xlink:href=\"#m391293289f\" y=\"139.817808\"/>\r\n     <use style=\"fill:#1f77b4;fill-opacity:0.8;stroke:#1f77b4;stroke-opacity:0.8;\" x=\"55.695312\" xlink:href=\"#m391293289f\" y=\"131.707504\"/>\r\n     <use style=\"fill:#1f77b4;fill-opacity:0.8;stroke:#1f77b4;stroke-opacity:0.8;\" x=\"55.695312\" xlink:href=\"#m391293289f\" y=\"145.94959\"/>\r\n     <use style=\"fill:#1f77b4;fill-opacity:0.8;stroke:#1f77b4;stroke-opacity:0.8;\" x=\"55.695312\" xlink:href=\"#m391293289f\" y=\"185.953338\"/>\r\n     <use style=\"fill:#1f77b4;fill-opacity:0.8;stroke:#1f77b4;stroke-opacity:0.8;\" x=\"55.695312\" xlink:href=\"#m391293289f\" y=\"179.331013\"/>\r\n     <use style=\"fill:#1f77b4;fill-opacity:0.8;stroke:#1f77b4;stroke-opacity:0.8;\" x=\"55.695312\" xlink:href=\"#m391293289f\" y=\"175.300388\"/>\r\n     <use style=\"fill:#1f77b4;fill-opacity:0.8;stroke:#1f77b4;stroke-opacity:0.8;\" x=\"55.695312\" xlink:href=\"#m391293289f\" y=\"171.63767\"/>\r\n     <use style=\"fill:#1f77b4;fill-opacity:0.8;stroke:#1f77b4;stroke-opacity:0.8;\" x=\"55.695312\" xlink:href=\"#m391293289f\" y=\"124.594636\"/>\r\n     <use style=\"fill:#1f77b4;fill-opacity:0.8;stroke:#1f77b4;stroke-opacity:0.8;\" x=\"55.695312\" xlink:href=\"#m391293289f\" y=\"116.574265\"/>\r\n     <use style=\"fill:#1f77b4;fill-opacity:0.8;stroke:#1f77b4;stroke-opacity:0.8;\" x=\"55.695312\" xlink:href=\"#m391293289f\" y=\"128.600734\"/>\r\n     <use style=\"fill:#1f77b4;fill-opacity:0.8;stroke:#1f77b4;stroke-opacity:0.8;\" x=\"55.695312\" xlink:href=\"#m391293289f\" y=\"181.080615\"/>\r\n     <use style=\"fill:#1f77b4;fill-opacity:0.8;stroke:#1f77b4;stroke-opacity:0.8;\" x=\"55.695312\" xlink:href=\"#m391293289f\" y=\"175.161401\"/>\r\n     <use style=\"fill:#1f77b4;fill-opacity:0.8;stroke:#1f77b4;stroke-opacity:0.8;\" x=\"55.695312\" xlink:href=\"#m391293289f\" y=\"169.61827\"/>\r\n     <use style=\"fill:#1f77b4;fill-opacity:0.8;stroke:#1f77b4;stroke-opacity:0.8;\" x=\"120.372585\" xlink:href=\"#m391293289f\" y=\"163.421082\"/>\r\n     <use style=\"fill:#1f77b4;fill-opacity:0.8;stroke:#1f77b4;stroke-opacity:0.8;\" x=\"55.695312\" xlink:href=\"#m391293289f\" y=\"130.219525\"/>\r\n     <use style=\"fill:#1f77b4;fill-opacity:0.8;stroke:#1f77b4;stroke-opacity:0.8;\" x=\"55.695312\" xlink:href=\"#m391293289f\" y=\"123.973282\"/>\r\n     <use style=\"fill:#1f77b4;fill-opacity:0.8;stroke:#1f77b4;stroke-opacity:0.8;\" x=\"70.913494\" xlink:href=\"#m391293289f\" y=\"147.265879\"/>\r\n     <use style=\"fill:#1f77b4;fill-opacity:0.8;stroke:#1f77b4;stroke-opacity:0.8;\" x=\"55.695312\" xlink:href=\"#m391293289f\" y=\"188.291591\"/>\r\n     <use style=\"fill:#1f77b4;fill-opacity:0.8;stroke:#1f77b4;stroke-opacity:0.8;\" x=\"55.695312\" xlink:href=\"#m391293289f\" y=\"179.331013\"/>\r\n     <use style=\"fill:#1f77b4;fill-opacity:0.8;stroke:#1f77b4;stroke-opacity:0.8;\" x=\"55.695312\" xlink:href=\"#m391293289f\" y=\"176.224243\"/>\r\n     <use style=\"fill:#1f77b4;fill-opacity:0.8;stroke:#1f77b4;stroke-opacity:0.8;\" x=\"55.695312\" xlink:href=\"#m391293289f\" y=\"171.482332\"/>\r\n     <use style=\"fill:#1f77b4;fill-opacity:0.8;stroke:#1f77b4;stroke-opacity:0.8;\" x=\"55.695312\" xlink:href=\"#m391293289f\" y=\"144.674179\"/>\r\n     <use style=\"fill:#1f77b4;fill-opacity:0.8;stroke:#1f77b4;stroke-opacity:0.8;\" x=\"55.695312\" xlink:href=\"#m391293289f\" y=\"136.163266\"/>\r\n     <use style=\"fill:#1f77b4;fill-opacity:0.8;stroke:#1f77b4;stroke-opacity:0.8;\" x=\"55.695312\" xlink:href=\"#m391293289f\" y=\"146.366551\"/>\r\n     <use style=\"fill:#1f77b4;fill-opacity:0.8;stroke:#1f77b4;stroke-opacity:0.8;\" x=\"55.695312\" xlink:href=\"#m391293289f\" y=\"95.104851\"/>\r\n     <use style=\"fill:#1f77b4;fill-opacity:0.8;stroke:#1f77b4;stroke-opacity:0.8;\" x=\"55.695312\" xlink:href=\"#m391293289f\" y=\"121.585975\"/>\r\n     <use style=\"fill:#1f77b4;fill-opacity:0.8;stroke:#1f77b4;stroke-opacity:0.8;\" x=\"55.695312\" xlink:href=\"#m391293289f\" y=\"183.247178\"/>\r\n     <use style=\"fill:#1f77b4;fill-opacity:0.8;stroke:#1f77b4;stroke-opacity:0.8;\" x=\"55.695312\" xlink:href=\"#m391293289f\" y=\"165.775686\"/>\r\n     <use style=\"fill:#1f77b4;fill-opacity:0.8;stroke:#1f77b4;stroke-opacity:0.8;\" x=\"55.695312\" xlink:href=\"#m391293289f\" y=\"136.392185\"/>\r\n     <use style=\"fill:#1f77b4;fill-opacity:0.8;stroke:#1f77b4;stroke-opacity:0.8;\" x=\"55.695312\" xlink:href=\"#m391293289f\" y=\"130.374863\"/>\r\n     <use style=\"fill:#1f77b4;fill-opacity:0.8;stroke:#1f77b4;stroke-opacity:0.8;\" x=\"55.695312\" xlink:href=\"#m391293289f\" y=\"145.941414\"/>\r\n     <use style=\"fill:#1f77b4;fill-opacity:0.8;stroke:#1f77b4;stroke-opacity:0.8;\" x=\"55.695312\" xlink:href=\"#m391293289f\" y=\"89.316448\"/>\r\n     <use style=\"fill:#1f77b4;fill-opacity:0.8;stroke:#1f77b4;stroke-opacity:0.8;\" x=\"55.695312\" xlink:href=\"#m391293289f\" y=\"148.982778\"/>\r\n     <use style=\"fill:#1f77b4;fill-opacity:0.8;stroke:#1f77b4;stroke-opacity:0.8;\" x=\"55.695312\" xlink:href=\"#m391293289f\" y=\"184.113803\"/>\r\n     <use style=\"fill:#1f77b4;fill-opacity:0.8;stroke:#1f77b4;stroke-opacity:0.8;\" x=\"55.695312\" xlink:href=\"#m391293289f\" y=\"175.161401\"/>\r\n     <use style=\"fill:#1f77b4;fill-opacity:0.8;stroke:#1f77b4;stroke-opacity:0.8;\" x=\"55.695312\" xlink:href=\"#m391293289f\" y=\"148.811089\"/>\r\n     <use style=\"fill:#1f77b4;fill-opacity:0.8;stroke:#1f77b4;stroke-opacity:0.8;\" x=\"55.695312\" xlink:href=\"#m391293289f\" y=\"129.066749\"/>\r\n     <use style=\"fill:#1f77b4;fill-opacity:0.8;stroke:#1f77b4;stroke-opacity:0.8;\" x=\"55.695312\" xlink:href=\"#m391293289f\" y=\"144.649652\"/>\r\n     <use style=\"fill:#1f77b4;fill-opacity:0.8;stroke:#1f77b4;stroke-opacity:0.8;\" x=\"55.695312\" xlink:href=\"#m391293289f\" y=\"173.804233\"/>\r\n     <use style=\"fill:#1f77b4;fill-opacity:0.8;stroke:#1f77b4;stroke-opacity:0.8;\" x=\"55.695312\" xlink:href=\"#m391293289f\" y=\"173.902342\"/>\r\n     <use style=\"fill:#1f77b4;fill-opacity:0.8;stroke:#1f77b4;stroke-opacity:0.8;\" x=\"55.695312\" xlink:href=\"#m391293289f\" y=\"171.196182\"/>\r\n     <use style=\"fill:#1f77b4;fill-opacity:0.8;stroke:#1f77b4;stroke-opacity:0.8;\" x=\"55.695312\" xlink:href=\"#m391293289f\" y=\"166.331635\"/>\r\n     <use style=\"fill:#1f77b4;fill-opacity:0.8;stroke:#1f77b4;stroke-opacity:0.8;\" x=\"55.695312\" xlink:href=\"#m391293289f\" y=\"135.362046\"/>\r\n     <use style=\"fill:#1f77b4;fill-opacity:0.8;stroke:#1f77b4;stroke-opacity:0.8;\" x=\"55.695312\" xlink:href=\"#m391293289f\" y=\"125.256869\"/>\r\n     <use style=\"fill:#1f77b4;fill-opacity:0.8;stroke:#1f77b4;stroke-opacity:0.8;\" x=\"55.695312\" xlink:href=\"#m391293289f\" y=\"137.046242\"/>\r\n     <use style=\"fill:#1f77b4;fill-opacity:0.8;stroke:#1f77b4;stroke-opacity:0.8;\" x=\"55.695312\" xlink:href=\"#m391293289f\" y=\"180.361153\"/>\r\n     <use style=\"fill:#1f77b4;fill-opacity:0.8;stroke:#1f77b4;stroke-opacity:0.8;\" x=\"55.695312\" xlink:href=\"#m391293289f\" y=\"170.198745\"/>\r\n     <use style=\"fill:#1f77b4;fill-opacity:0.8;stroke:#1f77b4;stroke-opacity:0.8;\" x=\"55.695312\" xlink:href=\"#m391293289f\" y=\"144.927626\"/>\r\n     <use style=\"fill:#1f77b4;fill-opacity:0.8;stroke:#1f77b4;stroke-opacity:0.8;\" x=\"55.695312\" xlink:href=\"#m391293289f\" y=\"169.209484\"/>\r\n     <use style=\"fill:#1f77b4;fill-opacity:0.8;stroke:#1f77b4;stroke-opacity:0.8;\" x=\"55.695312\" xlink:href=\"#m391293289f\" y=\"140.169363\"/>\r\n     <use style=\"fill:#1f77b4;fill-opacity:0.8;stroke:#1f77b4;stroke-opacity:0.8;\" x=\"55.695312\" xlink:href=\"#m391293289f\" y=\"129.82709\"/>\r\n     <use style=\"fill:#1f77b4;fill-opacity:0.8;stroke:#1f77b4;stroke-opacity:0.8;\" x=\"55.695312\" xlink:href=\"#m391293289f\" y=\"138.068206\"/>\r\n     <use style=\"fill:#1f77b4;fill-opacity:0.8;stroke:#1f77b4;stroke-opacity:0.8;\" x=\"55.695312\" xlink:href=\"#m391293289f\" y=\"182.241566\"/>\r\n     <use style=\"fill:#1f77b4;fill-opacity:0.8;stroke:#1f77b4;stroke-opacity:0.8;\" x=\"55.695312\" xlink:href=\"#m391293289f\" y=\"145.172898\"/>\r\n     <use style=\"fill:#1f77b4;fill-opacity:0.8;stroke:#1f77b4;stroke-opacity:0.8;\" x=\"55.695312\" xlink:href=\"#m391293289f\" y=\"174.68721\"/>\r\n     <use style=\"fill:#1f77b4;fill-opacity:0.8;stroke:#1f77b4;stroke-opacity:0.8;\" x=\"55.695312\" xlink:href=\"#m391293289f\" y=\"167.002043\"/>\r\n     <use style=\"fill:#1f77b4;fill-opacity:0.8;stroke:#1f77b4;stroke-opacity:0.8;\" x=\"55.695312\" xlink:href=\"#m391293289f\" y=\"99.07007\"/>\r\n     <use style=\"fill:#1f77b4;fill-opacity:0.8;stroke:#1f77b4;stroke-opacity:0.8;\" x=\"55.695312\" xlink:href=\"#m391293289f\" y=\"123.621727\"/>\r\n     <use style=\"fill:#1f77b4;fill-opacity:0.8;stroke:#1f77b4;stroke-opacity:0.8;\" x=\"55.695312\" xlink:href=\"#m391293289f\" y=\"140.774366\"/>\r\n     <use style=\"fill:#1f77b4;fill-opacity:0.8;stroke:#1f77b4;stroke-opacity:0.8;\" x=\"55.695312\" xlink:href=\"#m391293289f\" y=\"185.233876\"/>\r\n     <use style=\"fill:#1f77b4;fill-opacity:0.8;stroke:#1f77b4;stroke-opacity:0.8;\" x=\"55.695312\" xlink:href=\"#m391293289f\" y=\"179.486352\"/>\r\n     <use style=\"fill:#1f77b4;fill-opacity:0.8;stroke:#1f77b4;stroke-opacity:0.8;\" x=\"55.695312\" xlink:href=\"#m391293289f\" y=\"173.747003\"/>\r\n     <use style=\"fill:#1f77b4;fill-opacity:0.8;stroke:#1f77b4;stroke-opacity:0.8;\" x=\"55.695312\" xlink:href=\"#m391293289f\" y=\"164.140544\"/>\r\n     <use style=\"fill:#1f77b4;fill-opacity:0.8;stroke:#1f77b4;stroke-opacity:0.8;\" x=\"63.304403\" xlink:href=\"#m391293289f\" y=\"132.680413\"/>\r\n     <use style=\"fill:#1f77b4;fill-opacity:0.8;stroke:#1f77b4;stroke-opacity:0.8;\" x=\"63.304403\" xlink:href=\"#m391293289f\" y=\"148.25514\"/>\r\n     <use style=\"fill:#1f77b4;fill-opacity:0.8;stroke:#1f77b4;stroke-opacity:0.8;\" x=\"55.695312\" xlink:href=\"#m391293289f\" y=\"154.174354\"/>\r\n     <use style=\"fill:#1f77b4;fill-opacity:0.8;stroke:#1f77b4;stroke-opacity:0.8;\" x=\"55.695312\" xlink:href=\"#m391293289f\" y=\"197.38298\"/>\r\n     <use style=\"fill:#1f77b4;fill-opacity:0.8;stroke:#1f77b4;stroke-opacity:0.8;\" x=\"55.695312\" xlink:href=\"#m391293289f\" y=\"207.57809\"/>\r\n     <use style=\"fill:#1f77b4;fill-opacity:0.8;stroke:#1f77b4;stroke-opacity:0.8;\" x=\"55.695312\" xlink:href=\"#m391293289f\" y=\"147.723719\"/>\r\n     <use style=\"fill:#1f77b4;fill-opacity:0.8;stroke:#1f77b4;stroke-opacity:0.8;\" x=\"55.695312\" xlink:href=\"#m391293289f\" y=\"181.996295\"/>\r\n     <use style=\"fill:#1f77b4;fill-opacity:0.8;stroke:#1f77b4;stroke-opacity:0.8;\" x=\"55.695312\" xlink:href=\"#m391293289f\" y=\"144.755936\"/>\r\n     <use style=\"fill:#1f77b4;fill-opacity:0.8;stroke:#1f77b4;stroke-opacity:0.8;\" x=\"55.695312\" xlink:href=\"#m391293289f\" y=\"127.29262\"/>\r\n     <use style=\"fill:#1f77b4;fill-opacity:0.8;stroke:#1f77b4;stroke-opacity:0.8;\" x=\"55.695312\" xlink:href=\"#m391293289f\" y=\"129.328372\"/>\r\n     <use style=\"fill:#1f77b4;fill-opacity:0.8;stroke:#1f77b4;stroke-opacity:0.8;\" x=\"55.695312\" xlink:href=\"#m391293289f\" y=\"177.377019\"/>\r\n     <use style=\"fill:#1f77b4;fill-opacity:0.8;stroke:#1f77b4;stroke-opacity:0.8;\" x=\"55.695312\" xlink:href=\"#m391293289f\" y=\"173.599841\"/>\r\n     <use style=\"fill:#1f77b4;fill-opacity:0.8;stroke:#1f77b4;stroke-opacity:0.8;\" x=\"55.695312\" xlink:href=\"#m391293289f\" y=\"165.440482\"/>\r\n     <use style=\"fill:#1f77b4;fill-opacity:0.8;stroke:#1f77b4;stroke-opacity:0.8;\" x=\"55.695312\" xlink:href=\"#m391293289f\" y=\"164.418519\"/>\r\n     <use style=\"fill:#1f77b4;fill-opacity:0.8;stroke:#1f77b4;stroke-opacity:0.8;\" x=\"147.004403\" xlink:href=\"#m391293289f\" y=\"117.710689\"/>\r\n     <use style=\"fill:#1f77b4;fill-opacity:0.8;stroke:#1f77b4;stroke-opacity:0.8;\" x=\"82.327131\" xlink:href=\"#m391293289f\" y=\"124.063215\"/>\r\n     <use style=\"fill:#1f77b4;fill-opacity:0.8;stroke:#1f77b4;stroke-opacity:0.8;\" x=\"55.695312\" xlink:href=\"#m391293289f\" y=\"143.7585\"/>\r\n     <use style=\"fill:#1f77b4;fill-opacity:0.8;stroke:#1f77b4;stroke-opacity:0.8;\" x=\"55.695312\" xlink:href=\"#m391293289f\" y=\"184.718806\"/>\r\n     <use style=\"fill:#1f77b4;fill-opacity:0.8;stroke:#1f77b4;stroke-opacity:0.8;\" x=\"181.245313\" xlink:href=\"#m391293289f\" y=\"171.80936\"/>\r\n     <use style=\"fill:#1f77b4;fill-opacity:0.8;stroke:#1f77b4;stroke-opacity:0.8;\" x=\"70.913494\" xlink:href=\"#m391293289f\" y=\"168.563603\"/>\r\n     <use style=\"fill:#1f77b4;fill-opacity:0.8;stroke:#1f77b4;stroke-opacity:0.8;\" x=\"55.695312\" xlink:href=\"#m391293289f\" y=\"164.573857\"/>\r\n     <use style=\"fill:#1f77b4;fill-opacity:0.8;stroke:#1f77b4;stroke-opacity:0.8;\" x=\"55.695312\" xlink:href=\"#m391293289f\" y=\"141.215854\"/>\r\n     <use style=\"fill:#1f77b4;fill-opacity:0.8;stroke:#1f77b4;stroke-opacity:0.8;\" x=\"55.695312\" xlink:href=\"#m391293289f\" y=\"136.106036\"/>\r\n     <use style=\"fill:#1f77b4;fill-opacity:0.8;stroke:#1f77b4;stroke-opacity:0.8;\" x=\"55.695312\" xlink:href=\"#m391293289f\" y=\"145.655265\"/>\r\n     <use style=\"fill:#1f77b4;fill-opacity:0.8;stroke:#1f77b4;stroke-opacity:0.8;\" x=\"55.695312\" xlink:href=\"#m391293289f\" y=\"183.018258\"/>\r\n     <use style=\"fill:#1f77b4;fill-opacity:0.8;stroke:#1f77b4;stroke-opacity:0.8;\" x=\"55.695312\" xlink:href=\"#m391293289f\" y=\"175.333091\"/>\r\n     <use style=\"fill:#1f77b4;fill-opacity:0.8;stroke:#1f77b4;stroke-opacity:0.8;\" x=\"55.695312\" xlink:href=\"#m391293289f\" y=\"169.969825\"/>\r\n     <use style=\"fill:#1f77b4;fill-opacity:0.8;stroke:#1f77b4;stroke-opacity:0.8;\" x=\"55.695312\" xlink:href=\"#m391293289f\" y=\"140.635379\"/>\r\n     <use style=\"fill:#1f77b4;fill-opacity:0.8;stroke:#1f77b4;stroke-opacity:0.8;\" x=\"55.695312\" xlink:href=\"#m391293289f\" y=\"144.886748\"/>\r\n     <use style=\"fill:#1f77b4;fill-opacity:0.8;stroke:#1f77b4;stroke-opacity:0.8;\" x=\"55.695312\" xlink:href=\"#m391293289f\" y=\"138.926655\"/>\r\n     <use style=\"fill:#1f77b4;fill-opacity:0.8;stroke:#1f77b4;stroke-opacity:0.8;\" x=\"55.695312\" xlink:href=\"#m391293289f\" y=\"155.670509\"/>\r\n     <use style=\"fill:#1f77b4;fill-opacity:0.8;stroke:#1f77b4;stroke-opacity:0.8;\" x=\"55.695312\" xlink:href=\"#m391293289f\" y=\"194.120872\"/>\r\n     <use style=\"fill:#1f77b4;fill-opacity:0.8;stroke:#1f77b4;stroke-opacity:0.8;\" x=\"55.695312\" xlink:href=\"#m391293289f\" y=\"183.492449\"/>\r\n     <use style=\"fill:#1f77b4;fill-opacity:0.8;stroke:#1f77b4;stroke-opacity:0.8;\" x=\"55.695312\" xlink:href=\"#m391293289f\" y=\"180.426558\"/>\r\n     <use style=\"fill:#1f77b4;fill-opacity:0.8;stroke:#1f77b4;stroke-opacity:0.8;\" x=\"55.695312\" xlink:href=\"#m391293289f\" y=\"177.352491\"/>\r\n     <use style=\"fill:#1f77b4;fill-opacity:0.8;stroke:#1f77b4;stroke-opacity:0.8;\" x=\"55.695312\" xlink:href=\"#m391293289f\" y=\"140.063079\"/>\r\n     <use style=\"fill:#1f77b4;fill-opacity:0.8;stroke:#1f77b4;stroke-opacity:0.8;\" x=\"55.695312\" xlink:href=\"#m391293289f\" y=\"132.026356\"/>\r\n     <use style=\"fill:#1f77b4;fill-opacity:0.8;stroke:#1f77b4;stroke-opacity:0.8;\" x=\"55.695312\" xlink:href=\"#m391293289f\" y=\"146.137631\"/>\r\n     <use style=\"fill:#1f77b4;fill-opacity:0.8;stroke:#1f77b4;stroke-opacity:0.8;\" x=\"55.695312\" xlink:href=\"#m391293289f\" y=\"191.831673\"/>\r\n     <use style=\"fill:#1f77b4;fill-opacity:0.8;stroke:#1f77b4;stroke-opacity:0.8;\" x=\"55.695312\" xlink:href=\"#m391293289f\" y=\"183.516977\"/>\r\n     <use style=\"fill:#1f77b4;fill-opacity:0.8;stroke:#1f77b4;stroke-opacity:0.8;\" x=\"55.695312\" xlink:href=\"#m391293289f\" y=\"176.919179\"/>\r\n     <use style=\"fill:#1f77b4;fill-opacity:0.8;stroke:#1f77b4;stroke-opacity:0.8;\" x=\"55.695312\" xlink:href=\"#m391293289f\" y=\"174.188492\"/>\r\n     <use style=\"fill:#1f77b4;fill-opacity:0.8;stroke:#1f77b4;stroke-opacity:0.8;\" x=\"55.695312\" xlink:href=\"#m391293289f\" y=\"124.283959\"/>\r\n     <use style=\"fill:#1f77b4;fill-opacity:0.8;stroke:#1f77b4;stroke-opacity:0.8;\" x=\"55.695312\" xlink:href=\"#m391293289f\" y=\"130.194997\"/>\r\n     <use style=\"fill:#1f77b4;fill-opacity:0.8;stroke:#1f77b4;stroke-opacity:0.8;\" x=\"55.695312\" xlink:href=\"#m391293289f\" y=\"149.751295\"/>\r\n     <use style=\"fill:#1f77b4;fill-opacity:0.8;stroke:#1f77b4;stroke-opacity:0.8;\" x=\"55.695312\" xlink:href=\"#m391293289f\" y=\"196.728924\"/>\r\n     <use style=\"fill:#1f77b4;fill-opacity:0.8;stroke:#1f77b4;stroke-opacity:0.8;\" x=\"55.695312\" xlink:href=\"#m391293289f\" y=\"189.452542\"/>\r\n     <use style=\"fill:#1f77b4;fill-opacity:0.8;stroke:#1f77b4;stroke-opacity:0.8;\" x=\"55.695312\" xlink:href=\"#m391293289f\" y=\"166.781299\"/>\r\n     <use style=\"fill:#1f77b4;fill-opacity:0.8;stroke:#1f77b4;stroke-opacity:0.8;\" x=\"55.695312\" xlink:href=\"#m391293289f\" y=\"178.619726\"/>\r\n     <use style=\"fill:#1f77b4;fill-opacity:0.8;stroke:#1f77b4;stroke-opacity:0.8;\" x=\"55.695312\" xlink:href=\"#m391293289f\" y=\"133.604268\"/>\r\n     <use style=\"fill:#1f77b4;fill-opacity:0.8;stroke:#1f77b4;stroke-opacity:0.8;\" x=\"55.695312\" xlink:href=\"#m391293289f\" y=\"132.525075\"/>\r\n     <use style=\"fill:#1f77b4;fill-opacity:0.8;stroke:#1f77b4;stroke-opacity:0.8;\" x=\"55.695312\" xlink:href=\"#m391293289f\" y=\"149.914809\"/>\r\n     <use style=\"fill:#1f77b4;fill-opacity:0.8;stroke:#1f77b4;stroke-opacity:0.8;\" x=\"55.695312\" xlink:href=\"#m391293289f\" y=\"195.314526\"/>\r\n     <use style=\"fill:#1f77b4;fill-opacity:0.8;stroke:#1f77b4;stroke-opacity:0.8;\" x=\"55.695312\" xlink:href=\"#m391293289f\" y=\"174.433763\"/>\r\n     <use style=\"fill:#1f77b4;fill-opacity:0.8;stroke:#1f77b4;stroke-opacity:0.8;\" x=\"55.695312\" xlink:href=\"#m391293289f\" y=\"184.171033\"/>\r\n     <use style=\"fill:#1f77b4;fill-opacity:0.8;stroke:#1f77b4;stroke-opacity:0.8;\" x=\"55.695312\" xlink:href=\"#m391293289f\" y=\"181.579333\"/>\r\n     <use style=\"fill:#1f77b4;fill-opacity:0.8;stroke:#1f77b4;stroke-opacity:0.8;\" x=\"55.695312\" xlink:href=\"#m391293289f\" y=\"145.115668\"/>\r\n     <use style=\"fill:#1f77b4;fill-opacity:0.8;stroke:#1f77b4;stroke-opacity:0.8;\" x=\"55.695312\" xlink:href=\"#m391293289f\" y=\"129.778036\"/>\r\n     <use style=\"fill:#1f77b4;fill-opacity:0.8;stroke:#1f77b4;stroke-opacity:0.8;\" x=\"55.695312\" xlink:href=\"#m391293289f\" y=\"150.233662\"/>\r\n     <use style=\"fill:#1f77b4;fill-opacity:0.8;stroke:#1f77b4;stroke-opacity:0.8;\" x=\"55.695312\" xlink:href=\"#m391293289f\" y=\"195.003849\"/>\r\n     <use style=\"fill:#1f77b4;fill-opacity:0.8;stroke:#1f77b4;stroke-opacity:0.8;\" x=\"55.695312\" xlink:href=\"#m391293289f\" y=\"189.027405\"/>\r\n     <use style=\"fill:#1f77b4;fill-opacity:0.8;stroke:#1f77b4;stroke-opacity:0.8;\" x=\"55.695312\" xlink:href=\"#m391293289f\" y=\"181.342238\"/>\r\n     <use style=\"fill:#1f77b4;fill-opacity:0.8;stroke:#1f77b4;stroke-opacity:0.8;\" x=\"55.695312\" xlink:href=\"#m391293289f\" y=\"179.380067\"/>\r\n     <use style=\"fill:#1f77b4;fill-opacity:0.8;stroke:#1f77b4;stroke-opacity:0.8;\" x=\"55.695312\" xlink:href=\"#m391293289f\" y=\"142.736536\"/>\r\n     <use style=\"fill:#1f77b4;fill-opacity:0.8;stroke:#1f77b4;stroke-opacity:0.8;\" x=\"55.695312\" xlink:href=\"#m391293289f\" y=\"132.729467\"/>\r\n     <use style=\"fill:#1f77b4;fill-opacity:0.8;stroke:#1f77b4;stroke-opacity:0.8;\" x=\"55.695312\" xlink:href=\"#m391293289f\" y=\"143.488701\"/>\r\n     <use style=\"fill:#1f77b4;fill-opacity:0.8;stroke:#1f77b4;stroke-opacity:0.8;\" x=\"55.695312\" xlink:href=\"#m391293289f\" y=\"194.439725\"/>\r\n     <use style=\"fill:#1f77b4;fill-opacity:0.8;stroke:#1f77b4;stroke-opacity:0.8;\" x=\"55.695312\" xlink:href=\"#m391293289f\" y=\"175.275861\"/>\r\n     <use style=\"fill:#1f77b4;fill-opacity:0.8;stroke:#1f77b4;stroke-opacity:0.8;\" x=\"55.695312\" xlink:href=\"#m391293289f\" y=\"178.914052\"/>\r\n     <use style=\"fill:#1f77b4;fill-opacity:0.8;stroke:#1f77b4;stroke-opacity:0.8;\" x=\"55.695312\" xlink:href=\"#m391293289f\" y=\"177.188977\"/>\r\n     <use style=\"fill:#1f77b4;fill-opacity:0.8;stroke:#1f77b4;stroke-opacity:0.8;\" x=\"55.695312\" xlink:href=\"#m391293289f\" y=\"144.093704\"/>\r\n     <use style=\"fill:#1f77b4;fill-opacity:0.8;stroke:#1f77b4;stroke-opacity:0.8;\" x=\"55.695312\" xlink:href=\"#m391293289f\" y=\"122.518006\"/>\r\n     <use style=\"fill:#1f77b4;fill-opacity:0.8;stroke:#1f77b4;stroke-opacity:0.8;\" x=\"55.695312\" xlink:href=\"#m391293289f\" y=\"144.649652\"/>\r\n     <use style=\"fill:#1f77b4;fill-opacity:0.8;stroke:#1f77b4;stroke-opacity:0.8;\" x=\"55.695312\" xlink:href=\"#m391293289f\" y=\"195.265472\"/>\r\n     <use style=\"fill:#1f77b4;fill-opacity:0.8;stroke:#1f77b4;stroke-opacity:0.8;\" x=\"55.695312\" xlink:href=\"#m391293289f\" y=\"188.487808\"/>\r\n     <use style=\"fill:#1f77b4;fill-opacity:0.8;stroke:#1f77b4;stroke-opacity:0.8;\" x=\"55.695312\" xlink:href=\"#m391293289f\" y=\"184.457183\"/>\r\n     <use style=\"fill:#1f77b4;fill-opacity:0.8;stroke:#1f77b4;stroke-opacity:0.8;\" x=\"55.695312\" xlink:href=\"#m391293289f\" y=\"178.546145\"/>\r\n     <use style=\"fill:#1f77b4;fill-opacity:0.8;stroke:#1f77b4;stroke-opacity:0.8;\" x=\"55.695312\" xlink:href=\"#m391293289f\" y=\"148.508587\"/>\r\n     <use style=\"fill:#1f77b4;fill-opacity:0.8;stroke:#1f77b4;stroke-opacity:0.8;\" x=\"55.695312\" xlink:href=\"#m391293289f\" y=\"133.16278\"/>\r\n     <use style=\"fill:#1f77b4;fill-opacity:0.8;stroke:#1f77b4;stroke-opacity:0.8;\" x=\"55.695312\" xlink:href=\"#m391293289f\" y=\"155.670509\"/>\r\n     <use style=\"fill:#1f77b4;fill-opacity:0.8;stroke:#1f77b4;stroke-opacity:0.8;\" x=\"55.695312\" xlink:href=\"#m391293289f\" y=\"202.206649\"/>\r\n     <use style=\"fill:#1f77b4;fill-opacity:0.8;stroke:#1f77b4;stroke-opacity:0.8;\" x=\"55.695312\" xlink:href=\"#m391293289f\" y=\"189.109162\"/>\r\n     <use style=\"fill:#1f77b4;fill-opacity:0.8;stroke:#1f77b4;stroke-opacity:0.8;\" x=\"55.695312\" xlink:href=\"#m391293289f\" y=\"185.798\"/>\r\n     <use style=\"fill:#1f77b4;fill-opacity:0.8;stroke:#1f77b4;stroke-opacity:0.8;\" x=\"55.695312\" xlink:href=\"#m391293289f\" y=\"167.631572\"/>\r\n     <use style=\"fill:#1f77b4;fill-opacity:0.8;stroke:#1f77b4;stroke-opacity:0.8;\" x=\"55.695312\" xlink:href=\"#m391293289f\" y=\"145.115668\"/>\r\n     <use style=\"fill:#1f77b4;fill-opacity:0.8;stroke:#1f77b4;stroke-opacity:0.8;\" x=\"55.695312\" xlink:href=\"#m391293289f\" y=\"142.622076\"/>\r\n     <use style=\"fill:#1f77b4;fill-opacity:0.8;stroke:#1f77b4;stroke-opacity:0.8;\" x=\"55.695312\" xlink:href=\"#m391293289f\" y=\"157.616328\"/>\r\n     <use style=\"fill:#1f77b4;fill-opacity:0.8;stroke:#1f77b4;stroke-opacity:0.8;\" x=\"55.695312\" xlink:href=\"#m391293289f\" y=\"198.257781\"/>\r\n     <use style=\"fill:#1f77b4;fill-opacity:0.8;stroke:#1f77b4;stroke-opacity:0.8;\" x=\"55.695312\" xlink:href=\"#m391293289f\" y=\"172.626931\"/>\r\n     <use style=\"fill:#1f77b4;fill-opacity:0.8;stroke:#1f77b4;stroke-opacity:0.8;\" x=\"55.695312\" xlink:href=\"#m391293289f\" y=\"162.677092\"/>\r\n     <use style=\"fill:#1f77b4;fill-opacity:0.8;stroke:#1f77b4;stroke-opacity:0.8;\" x=\"55.695312\" xlink:href=\"#m391293289f\" y=\"182.364201\"/>\r\n     <use style=\"fill:#1f77b4;fill-opacity:0.8;stroke:#1f77b4;stroke-opacity:0.8;\" x=\"55.695312\" xlink:href=\"#m391293289f\" y=\"151.909683\"/>\r\n     <use style=\"fill:#1f77b4;fill-opacity:0.8;stroke:#1f77b4;stroke-opacity:0.8;\" x=\"55.695312\" xlink:href=\"#m391293289f\" y=\"144.232691\"/>\r\n     <use style=\"fill:#1f77b4;fill-opacity:0.8;stroke:#1f77b4;stroke-opacity:0.8;\" x=\"55.695312\" xlink:href=\"#m391293289f\" y=\"142.818293\"/>\r\n     <use style=\"fill:#1f77b4;fill-opacity:0.8;stroke:#1f77b4;stroke-opacity:0.8;\" x=\"55.695312\" xlink:href=\"#m391293289f\" y=\"157.706261\"/>\r\n     <use style=\"fill:#1f77b4;fill-opacity:0.8;stroke:#1f77b4;stroke-opacity:0.8;\" x=\"55.695312\" xlink:href=\"#m391293289f\" y=\"194.153575\"/>\r\n     <use style=\"fill:#1f77b4;fill-opacity:0.8;stroke:#1f77b4;stroke-opacity:0.8;\" x=\"55.695312\" xlink:href=\"#m391293289f\" y=\"170.067934\"/>\r\n     <use style=\"fill:#1f77b4;fill-opacity:0.8;stroke:#1f77b4;stroke-opacity:0.8;\" x=\"55.695312\" xlink:href=\"#m391293289f\" y=\"184.972253\"/>\r\n     <use style=\"fill:#1f77b4;fill-opacity:0.8;stroke:#1f77b4;stroke-opacity:0.8;\" x=\"55.695312\" xlink:href=\"#m391293289f\" y=\"141.354841\"/>\r\n     <use style=\"fill:#1f77b4;fill-opacity:0.8;stroke:#1f77b4;stroke-opacity:0.8;\" x=\"55.695312\" xlink:href=\"#m391293289f\" y=\"134.642583\"/>\r\n     <use style=\"fill:#1f77b4;fill-opacity:0.8;stroke:#1f77b4;stroke-opacity:0.8;\" x=\"55.695312\" xlink:href=\"#m391293289f\" y=\"150.994003\"/>\r\n     <use style=\"fill:#1f77b4;fill-opacity:0.8;stroke:#1f77b4;stroke-opacity:0.8;\" x=\"55.695312\" xlink:href=\"#m391293289f\" y=\"197.235818\"/>\r\n     <use style=\"fill:#1f77b4;fill-opacity:0.8;stroke:#1f77b4;stroke-opacity:0.8;\" x=\"55.695312\" xlink:href=\"#m391293289f\" y=\"190.989575\"/>\r\n     <use style=\"fill:#1f77b4;fill-opacity:0.8;stroke:#1f77b4;stroke-opacity:0.8;\" x=\"55.695312\" xlink:href=\"#m391293289f\" y=\"181.906362\"/>\r\n     <use style=\"fill:#1f77b4;fill-opacity:0.8;stroke:#1f77b4;stroke-opacity:0.8;\" x=\"55.695312\" xlink:href=\"#m391293289f\" y=\"185.233876\"/>\r\n     <use style=\"fill:#1f77b4;fill-opacity:0.8;stroke:#1f77b4;stroke-opacity:0.8;\" x=\"55.695312\" xlink:href=\"#m391293289f\" y=\"149.089063\"/>\r\n     <use style=\"fill:#1f77b4;fill-opacity:0.8;stroke:#1f77b4;stroke-opacity:0.8;\" x=\"55.695312\" xlink:href=\"#m391293289f\" y=\"137.340568\"/>\r\n     <use style=\"fill:#1f77b4;fill-opacity:0.8;stroke:#1f77b4;stroke-opacity:0.8;\" x=\"55.695312\" xlink:href=\"#m391293289f\" y=\"145.851482\"/>\r\n     <use style=\"fill:#1f77b4;fill-opacity:0.8;stroke:#1f77b4;stroke-opacity:0.8;\" x=\"55.695312\" xlink:href=\"#m391293289f\" y=\"196.589937\"/>\r\n     <use style=\"fill:#1f77b4;fill-opacity:0.8;stroke:#1f77b4;stroke-opacity:0.8;\" x=\"55.695312\" xlink:href=\"#m391293289f\" y=\"189.403488\"/>\r\n     <use style=\"fill:#1f77b4;fill-opacity:0.8;stroke:#1f77b4;stroke-opacity:0.8;\" x=\"55.695312\" xlink:href=\"#m391293289f\" y=\"187.719291\"/>\r\n     <use style=\"fill:#1f77b4;fill-opacity:0.8;stroke:#1f77b4;stroke-opacity:0.8;\" x=\"55.695312\" xlink:href=\"#m391293289f\" y=\"185.381038\"/>\r\n     <use style=\"fill:#1f77b4;fill-opacity:0.8;stroke:#1f77b4;stroke-opacity:0.8;\" x=\"55.695312\" xlink:href=\"#m391293289f\" y=\"151.271977\"/>\r\n     <use style=\"fill:#1f77b4;fill-opacity:0.8;stroke:#1f77b4;stroke-opacity:0.8;\" x=\"55.695312\" xlink:href=\"#m391293289f\" y=\"140.120309\"/>\r\n     <use style=\"fill:#1f77b4;fill-opacity:0.8;stroke:#1f77b4;stroke-opacity:0.8;\" x=\"55.695312\" xlink:href=\"#m391293289f\" y=\"150.544339\"/>\r\n     <use style=\"fill:#1f77b4;fill-opacity:0.8;stroke:#1f77b4;stroke-opacity:0.8;\" x=\"55.695312\" xlink:href=\"#m391293289f\" y=\"197.105006\"/>\r\n     <use style=\"fill:#1f77b4;fill-opacity:0.8;stroke:#1f77b4;stroke-opacity:0.8;\" x=\"55.695312\" xlink:href=\"#m391293289f\" y=\"193.164314\"/>\r\n     <use style=\"fill:#1f77b4;fill-opacity:0.8;stroke:#1f77b4;stroke-opacity:0.8;\" x=\"55.695312\" xlink:href=\"#m391293289f\" y=\"186.198609\"/>\r\n     <use style=\"fill:#1f77b4;fill-opacity:0.8;stroke:#1f77b4;stroke-opacity:0.8;\" x=\"55.695312\" xlink:href=\"#m391293289f\" y=\"186.313069\"/>\r\n     <use style=\"fill:#1f77b4;fill-opacity:0.8;stroke:#1f77b4;stroke-opacity:0.8;\" x=\"55.695312\" xlink:href=\"#m391293289f\" y=\"154.362395\"/>\r\n     <use style=\"fill:#1f77b4;fill-opacity:0.8;stroke:#1f77b4;stroke-opacity:0.8;\" x=\"55.695312\" xlink:href=\"#m391293289f\" y=\"144.453435\"/>\r\n     <use style=\"fill:#1f77b4;fill-opacity:0.8;stroke:#1f77b4;stroke-opacity:0.8;\" x=\"55.695312\" xlink:href=\"#m391293289f\" y=\"156.332742\"/>\r\n     <use style=\"fill:#1f77b4;fill-opacity:0.8;stroke:#1f77b4;stroke-opacity:0.8;\" x=\"55.695312\" xlink:href=\"#m391293289f\" y=\"202.934287\"/>\r\n     <use style=\"fill:#1f77b4;fill-opacity:0.8;stroke:#1f77b4;stroke-opacity:0.8;\" x=\"55.695312\" xlink:href=\"#m391293289f\" y=\"186.133204\"/>\r\n     <use style=\"fill:#1f77b4;fill-opacity:0.8;stroke:#1f77b4;stroke-opacity:0.8;\" x=\"55.695312\" xlink:href=\"#m391293289f\" y=\"167.443531\"/>\r\n     <use style=\"fill:#1f77b4;fill-opacity:0.8;stroke:#1f77b4;stroke-opacity:0.8;\" x=\"55.695312\" xlink:href=\"#m391293289f\" y=\"153.119688\"/>\r\n     <use style=\"fill:#1f77b4;fill-opacity:0.8;stroke:#1f77b4;stroke-opacity:0.8;\" x=\"55.695312\" xlink:href=\"#m391293289f\" y=\"159.464038\"/>\r\n     <use style=\"fill:#1f77b4;fill-opacity:0.8;stroke:#1f77b4;stroke-opacity:0.8;\" x=\"55.695312\" xlink:href=\"#m391293289f\" y=\"155.498819\"/>\r\n     <use style=\"fill:#1f77b4;fill-opacity:0.8;stroke:#1f77b4;stroke-opacity:0.8;\" x=\"55.695312\" xlink:href=\"#m391293289f\" y=\"165.097102\"/>\r\n     <use style=\"fill:#1f77b4;fill-opacity:0.8;stroke:#1f77b4;stroke-opacity:0.8;\" x=\"55.695312\" xlink:href=\"#m391293289f\" y=\"202.656313\"/>\r\n     <use style=\"fill:#1f77b4;fill-opacity:0.8;stroke:#1f77b4;stroke-opacity:0.8;\" x=\"55.695312\" xlink:href=\"#m391293289f\" y=\"180.818992\"/>\r\n     <use style=\"fill:#1f77b4;fill-opacity:0.8;stroke:#1f77b4;stroke-opacity:0.8;\" x=\"55.695312\" xlink:href=\"#m391293289f\" y=\"189.133689\"/>\r\n     <use style=\"fill:#1f77b4;fill-opacity:0.8;stroke:#1f77b4;stroke-opacity:0.8;\" x=\"55.695312\" xlink:href=\"#m391293289f\" y=\"189.656935\"/>\r\n     <use style=\"fill:#1f77b4;fill-opacity:0.8;stroke:#1f77b4;stroke-opacity:0.8;\" x=\"55.695312\" xlink:href=\"#m391293289f\" y=\"160.690395\"/>\r\n     <use style=\"fill:#1f77b4;fill-opacity:0.8;stroke:#1f77b4;stroke-opacity:0.8;\" x=\"55.695312\" xlink:href=\"#m391293289f\" y=\"61.380048\"/>\r\n     <use style=\"fill:#1f77b4;fill-opacity:0.8;stroke:#1f77b4;stroke-opacity:0.8;\" x=\"55.695312\" xlink:href=\"#m391293289f\" y=\"143.439647\"/>\r\n     <use style=\"fill:#1f77b4;fill-opacity:0.8;stroke:#1f77b4;stroke-opacity:0.8;\" x=\"55.695312\" xlink:href=\"#m391293289f\" y=\"203.514763\"/>\r\n     <use style=\"fill:#1f77b4;fill-opacity:0.8;stroke:#1f77b4;stroke-opacity:0.8;\" x=\"55.695312\" xlink:href=\"#m391293289f\" y=\"192.036066\"/>\r\n     <use style=\"fill:#1f77b4;fill-opacity:0.8;stroke:#1f77b4;stroke-opacity:0.8;\" x=\"55.695312\" xlink:href=\"#m391293289f\" y=\"190.507208\"/>\r\n     <use style=\"fill:#1f77b4;fill-opacity:0.8;stroke:#1f77b4;stroke-opacity:0.8;\" x=\"55.695312\" xlink:href=\"#m391293289f\" y=\"187.907333\"/>\r\n     <use style=\"fill:#1f77b4;fill-opacity:0.8;stroke:#1f77b4;stroke-opacity:0.8;\" x=\"55.695312\" xlink:href=\"#m391293289f\" y=\"159.210591\"/>\r\n     <use style=\"fill:#1f77b4;fill-opacity:0.8;stroke:#1f77b4;stroke-opacity:0.8;\" x=\"55.695312\" xlink:href=\"#m391293289f\" y=\"156.37362\"/>\r\n     <use style=\"fill:#1f77b4;fill-opacity:0.8;stroke:#1f77b4;stroke-opacity:0.8;\" x=\"55.695312\" xlink:href=\"#m391293289f\" y=\"160.428772\"/>\r\n     <use style=\"fill:#1f77b4;fill-opacity:0.8;stroke:#1f77b4;stroke-opacity:0.8;\" x=\"55.695312\" xlink:href=\"#m391293289f\" y=\"203.400303\"/>\r\n     <use style=\"fill:#1f77b4;fill-opacity:0.8;stroke:#1f77b4;stroke-opacity:0.8;\" x=\"55.695312\" xlink:href=\"#m391293289f\" y=\"193.425937\"/>\r\n     <use style=\"fill:#1f77b4;fill-opacity:0.8;stroke:#1f77b4;stroke-opacity:0.8;\" x=\"55.695312\" xlink:href=\"#m391293289f\" y=\"189.869503\"/>\r\n     <use style=\"fill:#1f77b4;fill-opacity:0.8;stroke:#1f77b4;stroke-opacity:0.8;\" x=\"55.695312\" xlink:href=\"#m391293289f\" y=\"187.040707\"/>\r\n     <use style=\"fill:#1f77b4;fill-opacity:0.8;stroke:#1f77b4;stroke-opacity:0.8;\" x=\"55.695312\" xlink:href=\"#m391293289f\" y=\"156.528959\"/>\r\n     <use style=\"fill:#1f77b4;fill-opacity:0.8;stroke:#1f77b4;stroke-opacity:0.8;\" x=\"55.695312\" xlink:href=\"#m391293289f\" y=\"155.556049\"/>\r\n     <use style=\"fill:#1f77b4;fill-opacity:0.8;stroke:#1f77b4;stroke-opacity:0.8;\" x=\"55.695312\" xlink:href=\"#m391293289f\" y=\"165.129805\"/>\r\n     <use style=\"fill:#1f77b4;fill-opacity:0.8;stroke:#1f77b4;stroke-opacity:0.8;\" x=\"55.695312\" xlink:href=\"#m391293289f\" y=\"201.904148\"/>\r\n     <use style=\"fill:#1f77b4;fill-opacity:0.8;stroke:#1f77b4;stroke-opacity:0.8;\" x=\"55.695312\" xlink:href=\"#m391293289f\" y=\"192.690123\"/>\r\n     <use style=\"fill:#1f77b4;fill-opacity:0.8;stroke:#1f77b4;stroke-opacity:0.8;\" x=\"55.695312\" xlink:href=\"#m391293289f\" y=\"187.179695\"/>\r\n     <use style=\"fill:#1f77b4;fill-opacity:0.8;stroke:#1f77b4;stroke-opacity:0.8;\" x=\"55.695312\" xlink:href=\"#m391293289f\" y=\"186.043271\"/>\r\n     <use style=\"fill:#1f77b4;fill-opacity:0.8;stroke:#1f77b4;stroke-opacity:0.8;\" x=\"55.695312\" xlink:href=\"#m391293289f\" y=\"155.179966\"/>\r\n     <use style=\"fill:#1f77b4;fill-opacity:0.8;stroke:#1f77b4;stroke-opacity:0.8;\" x=\"55.695312\" xlink:href=\"#m391293289f\" y=\"152.768132\"/>\r\n     <use style=\"fill:#1f77b4;fill-opacity:0.8;stroke:#1f77b4;stroke-opacity:0.8;\" x=\"55.695312\" xlink:href=\"#m391293289f\" y=\"163.339325\"/>\r\n     <use style=\"fill:#1f77b4;fill-opacity:0.8;stroke:#1f77b4;stroke-opacity:0.8;\" x=\"55.695312\" xlink:href=\"#m391293289f\" y=\"200.66144\"/>\r\n     <use style=\"fill:#1f77b4;fill-opacity:0.8;stroke:#1f77b4;stroke-opacity:0.8;\" x=\"55.695312\" xlink:href=\"#m391293289f\" y=\"186.877193\"/>\r\n     <use style=\"fill:#1f77b4;fill-opacity:0.8;stroke:#1f77b4;stroke-opacity:0.8;\" x=\"55.695312\" xlink:href=\"#m391293289f\" y=\"176.53492\"/>\r\n     <use style=\"fill:#1f77b4;fill-opacity:0.8;stroke:#1f77b4;stroke-opacity:0.8;\" x=\"55.695312\" xlink:href=\"#m391293289f\" y=\"184.571643\"/>\r\n     <use style=\"fill:#1f77b4;fill-opacity:0.8;stroke:#1f77b4;stroke-opacity:0.8;\" x=\"55.695312\" xlink:href=\"#m391293289f\" y=\"103.059817\"/>\r\n     <use style=\"fill:#1f77b4;fill-opacity:0.8;stroke:#1f77b4;stroke-opacity:0.8;\" x=\"55.695312\" xlink:href=\"#m391293289f\" y=\"158.581062\"/>\r\n     <use style=\"fill:#1f77b4;fill-opacity:0.8;stroke:#1f77b4;stroke-opacity:0.8;\" x=\"55.695312\" xlink:href=\"#m391293289f\" y=\"168.171169\"/>\r\n     <use style=\"fill:#1f77b4;fill-opacity:0.8;stroke:#1f77b4;stroke-opacity:0.8;\" x=\"55.695312\" xlink:href=\"#m391293289f\" y=\"197.718184\"/>\r\n     <use style=\"fill:#1f77b4;fill-opacity:0.8;stroke:#1f77b4;stroke-opacity:0.8;\" x=\"55.695312\" xlink:href=\"#m391293289f\" y=\"195.903177\"/>\r\n     <use style=\"fill:#1f77b4;fill-opacity:0.8;stroke:#1f77b4;stroke-opacity:0.8;\" x=\"55.695312\" xlink:href=\"#m391293289f\" y=\"191.030454\"/>\r\n     <use style=\"fill:#1f77b4;fill-opacity:0.8;stroke:#1f77b4;stroke-opacity:0.8;\" x=\"55.695312\" xlink:href=\"#m391293289f\" y=\"187.269627\"/>\r\n     <use style=\"fill:#1f77b4;fill-opacity:0.8;stroke:#1f77b4;stroke-opacity:0.8;\" x=\"55.695312\" xlink:href=\"#m391293289f\" y=\"153.855501\"/>\r\n     <use style=\"fill:#1f77b4;fill-opacity:0.8;stroke:#1f77b4;stroke-opacity:0.8;\" x=\"55.695312\" xlink:href=\"#m391293289f\" y=\"157.34653\"/>\r\n     <use style=\"fill:#1f77b4;fill-opacity:0.8;stroke:#1f77b4;stroke-opacity:0.8;\" x=\"55.695312\" xlink:href=\"#m391293289f\" y=\"162.832431\"/>\r\n     <use style=\"fill:#1f77b4;fill-opacity:0.8;stroke:#1f77b4;stroke-opacity:0.8;\" x=\"55.695312\" xlink:href=\"#m391293289f\" y=\"147.543854\"/>\r\n     <use style=\"fill:#1f77b4;fill-opacity:0.8;stroke:#1f77b4;stroke-opacity:0.8;\" x=\"55.695312\" xlink:href=\"#m391293289f\" y=\"191.169441\"/>\r\n     <use style=\"fill:#1f77b4;fill-opacity:0.8;stroke:#1f77b4;stroke-opacity:0.8;\" x=\"55.695312\" xlink:href=\"#m391293289f\" y=\"188.855715\"/>\r\n     <use style=\"fill:#1f77b4;fill-opacity:0.8;stroke:#1f77b4;stroke-opacity:0.8;\" x=\"55.695312\" xlink:href=\"#m391293289f\" y=\"176.76384\"/>\r\n     <use style=\"fill:#1f77b4;fill-opacity:0.8;stroke:#1f77b4;stroke-opacity:0.8;\" x=\"55.695312\" xlink:href=\"#m391293289f\" y=\"148.65575\"/>\r\n     <use style=\"fill:#1f77b4;fill-opacity:0.8;stroke:#1f77b4;stroke-opacity:0.8;\" x=\"55.695312\" xlink:href=\"#m391293289f\" y=\"157.788018\"/>\r\n     <use style=\"fill:#1f77b4;fill-opacity:0.8;stroke:#1f77b4;stroke-opacity:0.8;\" x=\"55.695312\" xlink:href=\"#m391293289f\" y=\"155.433413\"/>\r\n     <use style=\"fill:#1f77b4;fill-opacity:0.8;stroke:#1f77b4;stroke-opacity:0.8;\" x=\"55.695312\" xlink:href=\"#m391293289f\" y=\"196.745275\"/>\r\n     <use style=\"fill:#1f77b4;fill-opacity:0.8;stroke:#1f77b4;stroke-opacity:0.8;\" x=\"55.695312\" xlink:href=\"#m391293289f\" y=\"185.348336\"/>\r\n     <use style=\"fill:#1f77b4;fill-opacity:0.8;stroke:#1f77b4;stroke-opacity:0.8;\" x=\"55.695312\" xlink:href=\"#m391293289f\" y=\"176.99276\"/>\r\n     <use style=\"fill:#1f77b4;fill-opacity:0.8;stroke:#1f77b4;stroke-opacity:0.8;\" x=\"55.695312\" xlink:href=\"#m391293289f\" y=\"182.46231\"/>\r\n     <use style=\"fill:#1f77b4;fill-opacity:0.8;stroke:#1f77b4;stroke-opacity:0.8;\" x=\"55.695312\" xlink:href=\"#m391293289f\" y=\"162.325537\"/>\r\n     <use style=\"fill:#1f77b4;fill-opacity:0.8;stroke:#1f77b4;stroke-opacity:0.8;\" x=\"55.695312\" xlink:href=\"#m391293289f\" y=\"154.64037\"/>\r\n     <use style=\"fill:#1f77b4;fill-opacity:0.8;stroke:#1f77b4;stroke-opacity:0.8;\" x=\"55.695312\" xlink:href=\"#m391293289f\" y=\"163.012296\"/>\r\n     <use style=\"fill:#1f77b4;fill-opacity:0.8;stroke:#1f77b4;stroke-opacity:0.8;\" x=\"55.695312\" xlink:href=\"#m391293289f\" y=\"192.796407\"/>\r\n     <use style=\"fill:#1f77b4;fill-opacity:0.8;stroke:#1f77b4;stroke-opacity:0.8;\" x=\"55.695312\" xlink:href=\"#m391293289f\" y=\"185.798\"/>\r\n     <use style=\"fill:#1f77b4;fill-opacity:0.8;stroke:#1f77b4;stroke-opacity:0.8;\" x=\"55.695312\" xlink:href=\"#m391293289f\" y=\"188.397875\"/>\r\n     <use style=\"fill:#1f77b4;fill-opacity:0.8;stroke:#1f77b4;stroke-opacity:0.8;\" x=\"55.695312\" xlink:href=\"#m391293289f\" y=\"184.162858\"/>\r\n     <use style=\"fill:#1f77b4;fill-opacity:0.8;stroke:#1f77b4;stroke-opacity:0.8;\" x=\"55.695312\" xlink:href=\"#m391293289f\" y=\"160.494178\"/>\r\n     <use style=\"fill:#1f77b4;fill-opacity:0.8;stroke:#1f77b4;stroke-opacity:0.8;\" x=\"55.695312\" xlink:href=\"#m391293289f\" y=\"151.451843\"/>\r\n     <use style=\"fill:#1f77b4;fill-opacity:0.8;stroke:#1f77b4;stroke-opacity:0.8;\" x=\"55.695312\" xlink:href=\"#m391293289f\" y=\"100.647982\"/>\r\n     <use style=\"fill:#1f77b4;fill-opacity:0.8;stroke:#1f77b4;stroke-opacity:0.8;\" x=\"55.695312\" xlink:href=\"#m391293289f\" y=\"193.041678\"/>\r\n     <use style=\"fill:#1f77b4;fill-opacity:0.8;stroke:#1f77b4;stroke-opacity:0.8;\" x=\"55.695312\" xlink:href=\"#m391293289f\" y=\"189.697813\"/>\r\n     <use style=\"fill:#1f77b4;fill-opacity:0.8;stroke:#1f77b4;stroke-opacity:0.8;\" x=\"55.695312\" xlink:href=\"#m391293289f\" y=\"170.664761\"/>\r\n     <use style=\"fill:#1f77b4;fill-opacity:0.8;stroke:#1f77b4;stroke-opacity:0.8;\" x=\"55.695312\" xlink:href=\"#m391293289f\" y=\"167.239138\"/>\r\n     <use style=\"fill:#1f77b4;fill-opacity:0.8;stroke:#1f77b4;stroke-opacity:0.8;\" x=\"55.695312\" xlink:href=\"#m391293289f\" y=\"175.357618\"/>\r\n     <use style=\"fill:#1f77b4;fill-opacity:0.8;stroke:#1f77b4;stroke-opacity:0.8;\" x=\"55.695312\" xlink:href=\"#m391293289f\" y=\"164.26318\"/>\r\n     <use style=\"fill:#1f77b4;fill-opacity:0.8;stroke:#1f77b4;stroke-opacity:0.8;\" x=\"55.695312\" xlink:href=\"#m391293289f\" y=\"175.480254\"/>\r\n     <use style=\"fill:#1f77b4;fill-opacity:0.8;stroke:#1f77b4;stroke-opacity:0.8;\" x=\"55.695312\" xlink:href=\"#m391293289f\" y=\"202.73807\"/>\r\n     <use style=\"fill:#1f77b4;fill-opacity:0.8;stroke:#1f77b4;stroke-opacity:0.8;\" x=\"55.695312\" xlink:href=\"#m391293289f\" y=\"192.346743\"/>\r\n     <use style=\"fill:#1f77b4;fill-opacity:0.8;stroke:#1f77b4;stroke-opacity:0.8;\" x=\"55.695312\" xlink:href=\"#m391293289f\" y=\"188.487808\"/>\r\n     <use style=\"fill:#1f77b4;fill-opacity:0.8;stroke:#1f77b4;stroke-opacity:0.8;\" x=\"55.695312\" xlink:href=\"#m391293289f\" y=\"191.790795\"/>\r\n     <use style=\"fill:#1f77b4;fill-opacity:0.8;stroke:#1f77b4;stroke-opacity:0.8;\" x=\"55.695312\" xlink:href=\"#m391293289f\" y=\"164.508451\"/>\r\n     <use style=\"fill:#1f77b4;fill-opacity:0.8;stroke:#1f77b4;stroke-opacity:0.8;\" x=\"55.695312\" xlink:href=\"#m391293289f\" y=\"159.202416\"/>\r\n     <use style=\"fill:#1f77b4;fill-opacity:0.8;stroke:#1f77b4;stroke-opacity:0.8;\" x=\"55.695312\" xlink:href=\"#m391293289f\" y=\"166.5115\"/>\r\n     <use style=\"fill:#1f77b4;fill-opacity:0.8;stroke:#1f77b4;stroke-opacity:0.8;\" x=\"55.695312\" xlink:href=\"#m391293289f\" y=\"201.503538\"/>\r\n     <use style=\"fill:#1f77b4;fill-opacity:0.8;stroke:#1f77b4;stroke-opacity:0.8;\" x=\"55.695312\" xlink:href=\"#m391293289f\" y=\"196.884262\"/>\r\n     <use style=\"fill:#1f77b4;fill-opacity:0.8;stroke:#1f77b4;stroke-opacity:0.8;\" x=\"55.695312\" xlink:href=\"#m391293289f\" y=\"192.583839\"/>\r\n     <use style=\"fill:#1f77b4;fill-opacity:0.8;stroke:#1f77b4;stroke-opacity:0.8;\" x=\"55.695312\" xlink:href=\"#m391293289f\" y=\"186.762733\"/>\r\n     <use style=\"fill:#1f77b4;fill-opacity:0.8;stroke:#1f77b4;stroke-opacity:0.8;\" x=\"55.695312\" xlink:href=\"#m391293289f\" y=\"160.616813\"/>\r\n     <use style=\"fill:#1f77b4;fill-opacity:0.8;stroke:#1f77b4;stroke-opacity:0.8;\" x=\"55.695312\" xlink:href=\"#m391293289f\" y=\"152.498334\"/>\r\n     <use style=\"fill:#1f77b4;fill-opacity:0.8;stroke:#1f77b4;stroke-opacity:0.8;\" x=\"55.695312\" xlink:href=\"#m391293289f\" y=\"168.514549\"/>\r\n     <use style=\"fill:#1f77b4;fill-opacity:0.8;stroke:#1f77b4;stroke-opacity:0.8;\" x=\"55.695312\" xlink:href=\"#m391293289f\" y=\"206.866804\"/>\r\n     <use style=\"fill:#1f77b4;fill-opacity:0.8;stroke:#1f77b4;stroke-opacity:0.8;\" x=\"55.695312\" xlink:href=\"#m391293289f\" y=\"197.023249\"/>\r\n     <use style=\"fill:#1f77b4;fill-opacity:0.8;stroke:#1f77b4;stroke-opacity:0.8;\" x=\"55.695312\" xlink:href=\"#m391293289f\" y=\"186.108677\"/>\r\n     <use style=\"fill:#1f77b4;fill-opacity:0.8;stroke:#1f77b4;stroke-opacity:0.8;\" x=\"55.695312\" xlink:href=\"#m391293289f\" y=\"181.464873\"/>\r\n     <use style=\"fill:#1f77b4;fill-opacity:0.8;stroke:#1f77b4;stroke-opacity:0.8;\" x=\"55.695312\" xlink:href=\"#m391293289f\" y=\"157.526395\"/>\r\n     <use style=\"fill:#1f77b4;fill-opacity:0.8;stroke:#1f77b4;stroke-opacity:0.8;\" x=\"55.695312\" xlink:href=\"#m391293289f\" y=\"135.934346\"/>\r\n     <use style=\"fill:#1f77b4;fill-opacity:0.8;stroke:#1f77b4;stroke-opacity:0.8;\" x=\"55.695312\" xlink:href=\"#m391293289f\" y=\"164.532978\"/>\r\n     <use style=\"fill:#1f77b4;fill-opacity:0.8;stroke:#1f77b4;stroke-opacity:0.8;\" x=\"55.695312\" xlink:href=\"#m391293289f\" y=\"202.754422\"/>\r\n     <use style=\"fill:#1f77b4;fill-opacity:0.8;stroke:#1f77b4;stroke-opacity:0.8;\" x=\"55.695312\" xlink:href=\"#m391293289f\" y=\"181.301359\"/>\r\n     <use style=\"fill:#1f77b4;fill-opacity:0.8;stroke:#1f77b4;stroke-opacity:0.8;\" x=\"55.695312\" xlink:href=\"#m391293289f\" y=\"176.641205\"/>\r\n     <use style=\"fill:#1f77b4;fill-opacity:0.8;stroke:#1f77b4;stroke-opacity:0.8;\" x=\"55.695312\" xlink:href=\"#m391293289f\" y=\"201.748809\"/>\r\n     <use style=\"fill:#1f77b4;fill-opacity:0.8;stroke:#1f77b4;stroke-opacity:0.8;\" x=\"55.695312\" xlink:href=\"#m391293289f\" y=\"214.756364\"/>\r\n     <use style=\"fill:#1f77b4;fill-opacity:0.8;stroke:#1f77b4;stroke-opacity:0.8;\" x=\"55.695312\" xlink:href=\"#m391293289f\" y=\"176.363231\"/>\r\n     <use style=\"fill:#1f77b4;fill-opacity:0.8;stroke:#1f77b4;stroke-opacity:0.8;\" x=\"55.695312\" xlink:href=\"#m391293289f\" y=\"172.291727\"/>\r\n     <use style=\"fill:#1f77b4;fill-opacity:0.8;stroke:#1f77b4;stroke-opacity:0.8;\" x=\"55.695312\" xlink:href=\"#m391293289f\" y=\"205.738556\"/>\r\n     <use style=\"fill:#1f77b4;fill-opacity:0.8;stroke:#1f77b4;stroke-opacity:0.8;\" x=\"55.695312\" xlink:href=\"#m391293289f\" y=\"201.650701\"/>\r\n     <use style=\"fill:#1f77b4;fill-opacity:0.8;stroke:#1f77b4;stroke-opacity:0.8;\" x=\"55.695312\" xlink:href=\"#m391293289f\" y=\"194.071818\"/>\r\n     <use style=\"fill:#1f77b4;fill-opacity:0.8;stroke:#1f77b4;stroke-opacity:0.8;\" x=\"55.695312\" xlink:href=\"#m391293289f\" y=\"188.912945\"/>\r\n     <use style=\"fill:#1f77b4;fill-opacity:0.8;stroke:#1f77b4;stroke-opacity:0.8;\" x=\"55.695312\" xlink:href=\"#m391293289f\" y=\"156.103822\"/>\r\n     <use style=\"fill:#1f77b4;fill-opacity:0.8;stroke:#1f77b4;stroke-opacity:0.8;\" x=\"55.695312\" xlink:href=\"#m391293289f\" y=\"146.088577\"/>\r\n     <use style=\"fill:#1f77b4;fill-opacity:0.8;stroke:#1f77b4;stroke-opacity:0.8;\" x=\"55.695312\" xlink:href=\"#m391293289f\" y=\"153.83915\"/>\r\n     <use style=\"fill:#1f77b4;fill-opacity:0.8;stroke:#1f77b4;stroke-opacity:0.8;\" x=\"55.695312\" xlink:href=\"#m391293289f\" y=\"202.353812\"/>\r\n     <use style=\"fill:#1f77b4;fill-opacity:0.8;stroke:#1f77b4;stroke-opacity:0.8;\" x=\"55.695312\" xlink:href=\"#m391293289f\" y=\"193.605802\"/>\r\n     <use style=\"fill:#1f77b4;fill-opacity:0.8;stroke:#1f77b4;stroke-opacity:0.8;\" x=\"55.695312\" xlink:href=\"#m391293289f\" y=\"192.575663\"/>\r\n     <use style=\"fill:#1f77b4;fill-opacity:0.8;stroke:#1f77b4;stroke-opacity:0.8;\" x=\"55.695312\" xlink:href=\"#m391293289f\" y=\"190.834237\"/>\r\n     <use style=\"fill:#1f77b4;fill-opacity:0.8;stroke:#1f77b4;stroke-opacity:0.8;\" x=\"55.695312\" xlink:href=\"#m391293289f\" y=\"160.968369\"/>\r\n     <use style=\"fill:#1f77b4;fill-opacity:0.8;stroke:#1f77b4;stroke-opacity:0.8;\" x=\"55.695312\" xlink:href=\"#m391293289f\" y=\"150.609745\"/>\r\n     <use style=\"fill:#1f77b4;fill-opacity:0.8;stroke:#1f77b4;stroke-opacity:0.8;\" x=\"55.695312\" xlink:href=\"#m391293289f\" y=\"164.017909\"/>\r\n     <use style=\"fill:#1f77b4;fill-opacity:0.8;stroke:#1f77b4;stroke-opacity:0.8;\" x=\"55.695312\" xlink:href=\"#m391293289f\" y=\"199.484138\"/>\r\n    </g>\r\n   </g>\r\n   <g id=\"PolyCollection_1\">\r\n    <path clip-path=\"url(#p4248f5daff)\" d=\"M 55.695312 162.782362 \r\nL 55.695312 167.901841 \r\nL 59.077131 167.408905 \r\nL 62.458949 167.045638 \r\nL 65.840767 166.616919 \r\nL 69.222585 166.250384 \r\nL 72.604403 166.014032 \r\nL 75.986222 165.69674 \r\nL 79.36804 165.478594 \r\nL 82.749858 165.282246 \r\nL 86.131676 165.04564 \r\nL 89.513494 164.9092 \r\nL 92.895313 164.922321 \r\nL 96.277131 164.694445 \r\nL 99.658949 164.636918 \r\nL 103.040767 164.579391 \r\nL 106.422585 164.521865 \r\nL 109.804403 164.413072 \r\nL 113.186222 164.306432 \r\nL 116.56804 164.266857 \r\nL 119.949858 164.227281 \r\nL 123.331676 164.187705 \r\nL 126.713494 164.148129 \r\nL 130.095313 164.108553 \r\nL 133.477131 164.069212 \r\nL 136.858949 164.030256 \r\nL 140.240767 163.985721 \r\nL 143.622585 163.919525 \r\nL 147.004403 163.853329 \r\nL 150.386222 163.809211 \r\nL 153.76804 163.719273 \r\nL 157.149858 163.66086 \r\nL 160.531676 163.603982 \r\nL 163.913494 163.547105 \r\nL 167.295313 163.490227 \r\nL 170.677131 163.43335 \r\nL 174.058949 163.40099 \r\nL 177.440767 163.379819 \r\nL 180.822585 163.358649 \r\nL 184.204403 163.337479 \r\nL 187.586222 163.316308 \r\nL 190.96804 163.295138 \r\nL 194.349858 163.273968 \r\nL 197.731676 163.236353 \r\nL 201.113494 163.19594 \r\nL 204.495313 163.155527 \r\nL 207.877131 163.115114 \r\nL 211.258949 163.074671 \r\nL 214.640767 163.033797 \r\nL 218.022585 162.992922 \r\nL 221.404403 162.952048 \r\nL 224.786222 162.911173 \r\nL 228.16804 162.870298 \r\nL 231.549858 162.829424 \r\nL 234.931676 162.788549 \r\nL 238.313494 162.747674 \r\nL 241.695313 162.7068 \r\nL 245.077131 162.665925 \r\nL 248.458949 162.625051 \r\nL 251.840767 162.584176 \r\nL 255.222585 162.543301 \r\nL 258.604403 162.502427 \r\nL 261.986222 162.461552 \r\nL 265.36804 162.420677 \r\nL 268.749858 162.379803 \r\nL 272.131676 162.338928 \r\nL 275.513494 162.298053 \r\nL 278.895313 162.257179 \r\nL 282.277131 162.216304 \r\nL 285.658949 162.17543 \r\nL 289.040767 162.134555 \r\nL 292.422585 162.09368 \r\nL 295.804403 162.052806 \r\nL 299.186222 162.011931 \r\nL 302.56804 161.971056 \r\nL 305.949858 161.930182 \r\nL 309.331676 161.889307 \r\nL 312.713494 161.848433 \r\nL 316.095313 161.807558 \r\nL 319.477131 161.766683 \r\nL 322.858949 161.725809 \r\nL 326.240767 161.684934 \r\nL 329.622585 161.644059 \r\nL 333.004403 161.603185 \r\nL 336.386222 161.56231 \r\nL 339.76804 161.521435 \r\nL 343.149858 161.480561 \r\nL 346.531676 161.439686 \r\nL 349.913494 161.398812 \r\nL 353.295313 161.357937 \r\nL 356.677131 161.317062 \r\nL 360.058949 161.276188 \r\nL 363.440767 161.235313 \r\nL 366.822585 161.194438 \r\nL 370.204403 161.153564 \r\nL 373.586222 161.112689 \r\nL 376.96804 161.071815 \r\nL 380.349858 161.03094 \r\nL 383.731676 160.990065 \r\nL 387.113494 160.949191 \r\nL 390.495313 160.908316 \r\nL 390.495313 17.083636 \r\nL 390.495313 17.083636 \r\nL 387.113494 18.586262 \r\nL 383.731676 20.088888 \r\nL 380.349858 21.591513 \r\nL 376.96804 23.094139 \r\nL 373.586222 24.596764 \r\nL 370.204403 26.09939 \r\nL 366.822585 27.602015 \r\nL 363.440767 29.104641 \r\nL 360.058949 30.607267 \r\nL 356.677131 32.109892 \r\nL 353.295313 33.612518 \r\nL 349.913494 35.115143 \r\nL 346.531676 36.617769 \r\nL 343.149858 38.120394 \r\nL 339.76804 39.62302 \r\nL 336.386222 41.125646 \r\nL 333.004403 42.628271 \r\nL 329.622585 44.143689 \r\nL 326.240767 45.6808 \r\nL 322.858949 47.217911 \r\nL 319.477131 48.755021 \r\nL 316.095313 50.292132 \r\nL 312.713494 51.829243 \r\nL 309.331676 53.366353 \r\nL 305.949858 54.903464 \r\nL 302.56804 56.440575 \r\nL 299.186222 57.977686 \r\nL 295.804403 59.514796 \r\nL 292.422585 61.051907 \r\nL 289.040767 62.589018 \r\nL 285.658949 64.126128 \r\nL 282.277131 65.663239 \r\nL 278.895313 67.191108 \r\nL 275.513494 68.67459 \r\nL 272.131676 70.158072 \r\nL 268.749858 71.641554 \r\nL 265.36804 73.125037 \r\nL 261.986222 74.608519 \r\nL 258.604403 76.067915 \r\nL 255.222585 77.50929 \r\nL 251.840767 78.950665 \r\nL 248.458949 80.39204 \r\nL 245.077131 81.833416 \r\nL 241.695313 83.274791 \r\nL 238.313494 84.716166 \r\nL 234.931676 86.178125 \r\nL 231.549858 87.678295 \r\nL 228.16804 89.178466 \r\nL 224.786222 90.678637 \r\nL 221.404403 92.178808 \r\nL 218.022585 93.678979 \r\nL 214.640767 95.179149 \r\nL 211.258949 96.67932 \r\nL 207.877131 98.179491 \r\nL 204.495313 99.679662 \r\nL 201.113494 101.179833 \r\nL 197.731676 102.680004 \r\nL 194.349858 104.180174 \r\nL 190.96804 105.680345 \r\nL 187.586222 107.180516 \r\nL 184.204403 108.643554 \r\nL 180.822585 110.092464 \r\nL 177.440767 111.542045 \r\nL 174.058949 112.99339 \r\nL 170.677131 114.444735 \r\nL 167.295313 115.896079 \r\nL 163.913494 117.347424 \r\nL 160.531676 118.798769 \r\nL 157.149858 120.250113 \r\nL 153.76804 121.701458 \r\nL 150.386222 123.152803 \r\nL 147.004403 124.604147 \r\nL 143.622585 126.055492 \r\nL 140.240767 127.568685 \r\nL 136.858949 129.103698 \r\nL 133.477131 130.639858 \r\nL 130.095313 132.178466 \r\nL 126.713494 133.717074 \r\nL 123.331676 135.255683 \r\nL 119.949858 136.820409 \r\nL 116.56804 138.388059 \r\nL 113.186222 139.872429 \r\nL 109.804403 141.404007 \r\nL 106.422585 142.939868 \r\nL 103.040767 144.476827 \r\nL 99.658949 146.01467 \r\nL 96.277131 147.552514 \r\nL 92.895313 149.051361 \r\nL 89.513494 150.608943 \r\nL 86.131676 152.122968 \r\nL 82.749858 153.489259 \r\nL 79.36804 154.803027 \r\nL 75.986222 156.115022 \r\nL 72.604403 157.781637 \r\nL 69.222585 159.015275 \r\nL 65.840767 160.355335 \r\nL 62.458949 161.341517 \r\nL 59.077131 162.173407 \r\nL 55.695312 162.782362 \r\nz\r\n\" style=\"fill:#1f77b4;fill-opacity:0.15;\"/>\r\n   </g>\r\n   <g id=\"matplotlib.axis_1\">\r\n    <g id=\"xtick_1\">\r\n     <g id=\"line2d_1\">\r\n      <defs>\r\n       <path d=\"M 0 0 \r\nL 0 3.5 \r\n\" id=\"m2ba19539e8\" style=\"stroke:#000000;stroke-width:0.8;\"/>\r\n      </defs>\r\n      <g>\r\n       <use style=\"stroke:#000000;stroke-width:0.8;\" x=\"55.695312\" xlink:href=\"#m2ba19539e8\" y=\"224.64\"/>\r\n      </g>\r\n     </g>\r\n     <g id=\"text_1\">\r\n      <!-- 0 -->\r\n      <defs>\r\n       <path d=\"M 4.34375 34.46875 \r\nQ 4.34375 53.515625 10.546875 63.28125 \r\nQ 16.75 73.046875 28.421875 73.046875 \r\nQ 50.828125 73.046875 50.828125 36.234375 \r\nQ 50.828125 18.0625 44.59375 8.421875 \r\nQ 38.375 -1.21875 26.8125 -1.21875 \r\nQ 15.875 -1.21875 10.109375 8.125 \r\nQ 4.34375 17.484375 4.34375 34.46875 \r\nz\r\nM 12.25 34.859375 \r\nQ 12.25 5.375 27.640625 5.375 \r\nQ 42.921875 5.375 42.921875 35.296875 \r\nQ 42.921875 66.40625 28.03125 66.40625 \r\nQ 12.25 66.40625 12.25 34.859375 \r\nz\r\n\" id=\"MalgunGothicRegular-48\"/>\r\n      </defs>\r\n      <g transform=\"translate(52.941406 239.232187)scale(0.1 -0.1)\">\r\n       <use xlink:href=\"#MalgunGothicRegular-48\"/>\r\n      </g>\r\n     </g>\r\n    </g>\r\n    <g id=\"xtick_2\">\r\n     <g id=\"line2d_2\">\r\n      <g>\r\n       <use style=\"stroke:#000000;stroke-width:0.8;\" x=\"93.740767\" xlink:href=\"#m2ba19539e8\" y=\"224.64\"/>\r\n      </g>\r\n     </g>\r\n     <g id=\"text_2\">\r\n      <!-- 1 -->\r\n      <defs>\r\n       <path d=\"M 49.171875 0 \r\nL 8.84375 0 \r\nL 8.84375 6.9375 \r\nL 25.140625 6.9375 \r\nL 25.140625 63.421875 \r\nL 8.40625 58.34375 \r\nL 8.40625 65.828125 \r\nL 32.90625 73.484375 \r\nL 32.90625 6.9375 \r\nL 49.171875 6.9375 \r\nz\r\n\" id=\"MalgunGothicRegular-49\"/>\r\n      </defs>\r\n      <g transform=\"translate(90.986861 239.232187)scale(0.1 -0.1)\">\r\n       <use xlink:href=\"#MalgunGothicRegular-49\"/>\r\n      </g>\r\n     </g>\r\n    </g>\r\n    <g id=\"xtick_3\">\r\n     <g id=\"line2d_3\">\r\n      <g>\r\n       <use style=\"stroke:#000000;stroke-width:0.8;\" x=\"131.786222\" xlink:href=\"#m2ba19539e8\" y=\"224.64\"/>\r\n      </g>\r\n     </g>\r\n     <g id=\"text_3\">\r\n      <!-- 2 -->\r\n      <defs>\r\n       <path d=\"M 47.796875 0 \r\nL 4.78125 0 \r\nL 4.78125 6.984375 \r\nL 25.6875 28.078125 \r\nQ 35.984375 38.484375 38.421875 43.234375 \r\nQ 40.875 48 40.875 53.265625 \r\nQ 40.875 59.625 37.25 63.03125 \r\nQ 33.640625 66.453125 26.953125 66.453125 \r\nQ 17.28125 66.453125 8.5 58.15625 \r\nL 8.5 66.40625 \r\nQ 16.75 73.046875 27.984375 73.046875 \r\nQ 37.3125 73.046875 42.875 67.890625 \r\nQ 48.4375 62.75 48.4375 53.953125 \r\nQ 48.4375 47.359375 45.015625 41.015625 \r\nQ 41.609375 34.671875 30.8125 23.78125 \r\nL 14.0625 7.234375 \r\nL 14.0625 7.03125 \r\nL 47.796875 7.03125 \r\nz\r\n\" id=\"MalgunGothicRegular-50\"/>\r\n      </defs>\r\n      <g transform=\"translate(129.032315 239.232187)scale(0.1 -0.1)\">\r\n       <use xlink:href=\"#MalgunGothicRegular-50\"/>\r\n      </g>\r\n     </g>\r\n    </g>\r\n    <g id=\"xtick_4\">\r\n     <g id=\"line2d_4\">\r\n      <g>\r\n       <use style=\"stroke:#000000;stroke-width:0.8;\" x=\"169.831676\" xlink:href=\"#m2ba19539e8\" y=\"224.64\"/>\r\n      </g>\r\n     </g>\r\n     <g id=\"text_4\">\r\n      <!-- 3 -->\r\n      <defs>\r\n       <path d=\"M 6.5 11.234375 \r\nQ 13.921875 5.375 23.09375 5.375 \r\nQ 30.609375 5.375 35.21875 9.171875 \r\nQ 39.84375 12.984375 39.84375 19.484375 \r\nQ 39.84375 33.890625 19.578125 33.890625 \r\nL 13.625 33.890625 \r\nL 13.625 40.484375 \r\nL 19.28125 40.484375 \r\nQ 37.3125 40.484375 37.3125 53.953125 \r\nQ 37.3125 66.40625 23.578125 66.40625 \r\nQ 15.96875 66.40625 9.28125 61.1875 \r\nL 9.28125 68.953125 \r\nQ 16.109375 73.046875 25.53125 73.046875 \r\nQ 34.125 73.046875 39.671875 68.3125 \r\nQ 45.21875 63.578125 45.21875 55.953125 \r\nQ 45.21875 41.84375 30.8125 37.640625 \r\nL 30.8125 37.5 \r\nQ 38.578125 36.8125 43.1875 32.078125 \r\nQ 47.796875 27.34375 47.796875 20.3125 \r\nQ 47.796875 10.5 40.6875 4.640625 \r\nQ 33.59375 -1.21875 22.65625 -1.21875 \r\nQ 12.59375 -1.21875 6.5 2.640625 \r\nz\r\n\" id=\"MalgunGothicRegular-51\"/>\r\n      </defs>\r\n      <g transform=\"translate(167.07777 239.232187)scale(0.1 -0.1)\">\r\n       <use xlink:href=\"#MalgunGothicRegular-51\"/>\r\n      </g>\r\n     </g>\r\n    </g>\r\n    <g id=\"xtick_5\">\r\n     <g id=\"line2d_5\">\r\n      <g>\r\n       <use style=\"stroke:#000000;stroke-width:0.8;\" x=\"207.877131\" xlink:href=\"#m2ba19539e8\" y=\"224.64\"/>\r\n      </g>\r\n     </g>\r\n     <g id=\"text_5\">\r\n      <!-- 4 -->\r\n      <defs>\r\n       <path d=\"M 51.515625 19.28125 \r\nL 42.234375 19.28125 \r\nL 42.234375 0 \r\nL 34.578125 0 \r\nL 34.578125 19.28125 \r\nL 0.59375 19.28125 \r\nL 0.59375 24.421875 \r\nL 32.71875 71.875 \r\nL 42.234375 71.875 \r\nL 42.234375 25.6875 \r\nL 51.515625 25.6875 \r\nz\r\nM 34.578125 25.6875 \r\nL 34.578125 57.328125 \r\nQ 34.578125 60.59375 34.765625 64.796875 \r\nL 34.578125 64.796875 \r\nQ 33.9375 63.28125 31.84375 59.28125 \r\nL 9.234375 25.6875 \r\nz\r\n\" id=\"MalgunGothicRegular-52\"/>\r\n      </defs>\r\n      <g transform=\"translate(205.123224 239.232187)scale(0.1 -0.1)\">\r\n       <use xlink:href=\"#MalgunGothicRegular-52\"/>\r\n      </g>\r\n     </g>\r\n    </g>\r\n    <g id=\"xtick_6\">\r\n     <g id=\"line2d_6\">\r\n      <g>\r\n       <use style=\"stroke:#000000;stroke-width:0.8;\" x=\"245.922585\" xlink:href=\"#m2ba19539e8\" y=\"224.64\"/>\r\n      </g>\r\n     </g>\r\n     <g id=\"text_6\">\r\n      <!-- 5 -->\r\n      <defs>\r\n       <path d=\"M 8.203125 10.15625 \r\nQ 15.625 5.375 23.140625 5.375 \r\nQ 30.71875 5.375 35.515625 9.765625 \r\nQ 40.328125 14.15625 40.328125 21.390625 \r\nQ 40.328125 28.65625 35.546875 32.65625 \r\nQ 30.765625 36.671875 21.78125 36.671875 \r\nQ 18.953125 36.671875 10.5 36.078125 \r\nL 10.5 71.875 \r\nL 44.921875 71.875 \r\nL 44.921875 64.796875 \r\nL 17.875 64.796875 \r\nL 17.875 43.265625 \r\nQ 21.921875 43.5 23.96875 43.5 \r\nQ 35.40625 43.5 41.765625 37.765625 \r\nQ 48.140625 32.03125 48.140625 21.828125 \r\nQ 48.140625 11.140625 41.234375 4.953125 \r\nQ 34.328125 -1.21875 22.90625 -1.21875 \r\nQ 12.984375 -1.21875 8.203125 1.765625 \r\nz\r\n\" id=\"MalgunGothicRegular-53\"/>\r\n      </defs>\r\n      <g transform=\"translate(243.168679 239.232187)scale(0.1 -0.1)\">\r\n       <use xlink:href=\"#MalgunGothicRegular-53\"/>\r\n      </g>\r\n     </g>\r\n    </g>\r\n    <g id=\"xtick_7\">\r\n     <g id=\"line2d_7\">\r\n      <g>\r\n       <use style=\"stroke:#000000;stroke-width:0.8;\" x=\"283.96804\" xlink:href=\"#m2ba19539e8\" y=\"224.64\"/>\r\n      </g>\r\n     </g>\r\n     <g id=\"text_7\">\r\n      <!-- 6 -->\r\n      <defs>\r\n       <path d=\"M 46.578125 63.578125 \r\nQ 40.921875 66.40625 34.8125 66.40625 \r\nQ 24.859375 66.40625 19.1875 57.640625 \r\nQ 13.53125 48.875 13.578125 34.578125 \r\nL 13.8125 34.578125 \r\nQ 18.796875 44.875 30.28125 44.875 \r\nQ 39.796875 44.875 45.359375 38.71875 \r\nQ 50.921875 32.5625 50.921875 22.65625 \r\nQ 50.921875 12.453125 44.640625 5.609375 \r\nQ 38.375 -1.21875 28.515625 -1.21875 \r\nQ 17.4375 -1.21875 11.5 7.46875 \r\nQ 5.5625 16.15625 5.5625 31.546875 \r\nQ 5.5625 49.703125 13.234375 61.375 \r\nQ 20.90625 73.046875 34.71875 73.046875 \r\nQ 42.1875 73.046875 46.578125 71 \r\nz\r\nM 14.15625 23.53125 \r\nQ 14.15625 15.96875 18.203125 10.671875 \r\nQ 22.265625 5.375 28.8125 5.375 \r\nQ 35.109375 5.375 39.03125 10.078125 \r\nQ 42.96875 14.796875 42.96875 21.6875 \r\nQ 42.96875 29.5 39.203125 33.859375 \r\nQ 35.453125 38.234375 28.71875 38.234375 \r\nQ 22.5625 38.234375 18.359375 33.953125 \r\nQ 14.15625 29.6875 14.15625 23.53125 \r\nz\r\n\" id=\"MalgunGothicRegular-54\"/>\r\n      </defs>\r\n      <g transform=\"translate(281.214134 239.232187)scale(0.1 -0.1)\">\r\n       <use xlink:href=\"#MalgunGothicRegular-54\"/>\r\n      </g>\r\n     </g>\r\n    </g>\r\n    <g id=\"xtick_8\">\r\n     <g id=\"line2d_8\">\r\n      <g>\r\n       <use style=\"stroke:#000000;stroke-width:0.8;\" x=\"322.013494\" xlink:href=\"#m2ba19539e8\" y=\"224.64\"/>\r\n      </g>\r\n     </g>\r\n     <g id=\"text_8\">\r\n      <!-- 7 -->\r\n      <defs>\r\n       <path d=\"M 50.34375 69.578125 \r\nL 21.6875 0 \r\nL 13.671875 0 \r\nL 40.671875 64.796875 \r\nL 4.25 64.796875 \r\nL 4.25 71.875 \r\nL 50.34375 71.875 \r\nz\r\n\" id=\"MalgunGothicRegular-55\"/>\r\n      </defs>\r\n      <g transform=\"translate(319.259588 239.232187)scale(0.1 -0.1)\">\r\n       <use xlink:href=\"#MalgunGothicRegular-55\"/>\r\n      </g>\r\n     </g>\r\n    </g>\r\n    <g id=\"xtick_9\">\r\n     <g id=\"line2d_9\">\r\n      <g>\r\n       <use style=\"stroke:#000000;stroke-width:0.8;\" x=\"360.058949\" xlink:href=\"#m2ba19539e8\" y=\"224.64\"/>\r\n      </g>\r\n     </g>\r\n     <g id=\"text_9\">\r\n      <!-- 8 -->\r\n      <defs>\r\n       <path d=\"M 20.703125 37.84375 \r\nQ 7.71875 44 7.71875 55.375 \r\nQ 7.71875 63.328125 13.71875 68.1875 \r\nQ 19.734375 73.046875 28.65625 73.046875 \r\nQ 36.671875 73.046875 42.1875 68.453125 \r\nQ 47.703125 63.875 47.703125 56.5 \r\nQ 47.703125 44.53125 34.328125 37.84375 \r\nL 34.328125 37.640625 \r\nQ 50.046875 31.734375 50.046875 18.171875 \r\nQ 50.046875 8.984375 43.546875 3.875 \r\nQ 37.0625 -1.21875 26.03125 -1.21875 \r\nQ 17 -1.21875 11.03125 4 \r\nQ 5.078125 9.234375 5.078125 17.484375 \r\nQ 5.078125 31.34375 20.703125 37.640625 \r\nz\r\nM 39.65625 55.46875 \r\nQ 39.65625 60.546875 36.46875 63.453125 \r\nQ 33.296875 66.359375 27.875 66.359375 \r\nQ 22.90625 66.359375 19.3125 63.296875 \r\nQ 15.71875 60.25 15.71875 55.671875 \r\nQ 15.71875 46.09375 27.546875 41.265625 \r\nQ 39.65625 46.296875 39.65625 55.46875 \r\nz\r\nM 27 33.890625 \r\nQ 13.03125 28.328125 13.03125 17.875 \r\nQ 13.03125 12.203125 17.1875 8.8125 \r\nQ 21.34375 5.421875 27.828125 5.421875 \r\nQ 34.1875 5.421875 38.15625 8.734375 \r\nQ 42.140625 12.0625 42.140625 17.53125 \r\nQ 42.140625 28.46875 27 33.890625 \r\nz\r\n\" id=\"MalgunGothicRegular-56\"/>\r\n      </defs>\r\n      <g transform=\"translate(357.305043 239.232187)scale(0.1 -0.1)\">\r\n       <use xlink:href=\"#MalgunGothicRegular-56\"/>\r\n      </g>\r\n     </g>\r\n    </g>\r\n    <g id=\"text_10\">\r\n     <!-- 적설량 -->\r\n     <defs>\r\n      <path d=\"M 76.3125 22.796875 \r\nL 76.3125 49.3125 \r\nL 53.8125 49.3125 \r\nL 53.8125 55.90625 \r\nL 76.3125 55.90625 \r\nL 76.3125 77.09375 \r\nL 83.59375 77.09375 \r\nL 83.59375 22.796875 \r\nz\r\nM 57.078125 27.59375 \r\nQ 50.6875 31.0625 44.21875 37.1875 \r\nQ 37.75 43.3125 35.203125 48.6875 \r\nQ 32.5625 42.671875 26.015625 35.734375 \r\nQ 19.484375 28.8125 12.796875 25.203125 \r\nL 7.625 30.171875 \r\nQ 17.921875 35.15625 24.65625 44.203125 \r\nQ 31.390625 53.265625 31.390625 63.1875 \r\nL 31.390625 66.40625 \r\nL 10.6875 66.40625 \r\nL 10.6875 72.90625 \r\nL 59.1875 72.90625 \r\nL 59.1875 66.40625 \r\nL 38.484375 66.40625 \r\nL 38.484375 63.1875 \r\nQ 38.484375 53.90625 45.484375 45.359375 \r\nQ 52.484375 36.8125 62.015625 32.90625 \r\nz\r\nM 76.3125 -17.09375 \r\nL 76.3125 10.984375 \r\nL 22.3125 10.984375 \r\nL 22.3125 17.484375 \r\nL 83.59375 17.484375 \r\nL 83.59375 -17.09375 \r\nz\r\n\" id=\"MalgunGothicRegular-51201\"/>\r\n      <path d=\"M 76.21875 29.984375 \r\nL 76.21875 53.71875 \r\nL 54.203125 53.71875 \r\nL 54.203125 60.296875 \r\nL 76.21875 60.296875 \r\nL 76.21875 77.09375 \r\nL 83.5 77.09375 \r\nL 83.5 29.984375 \r\nz\r\nM 57.078125 33.296875 \r\nQ 51.03125 35.890625 44.453125 41.75 \r\nQ 37.890625 47.609375 35.015625 53.21875 \r\nQ 29.4375 40.53125 12.5 30.90625 \r\nL 7.328125 35.796875 \r\nQ 18.40625 41.0625 24.84375 49.21875 \r\nQ 31.296875 57.375 31.296875 66.890625 \r\nL 31.296875 75 \r\nL 38.375 75 \r\nL 38.375 66.890625 \r\nQ 38.375 57.625 45.421875 49.78125 \r\nQ 52.484375 41.9375 62.015625 38.625 \r\nz\r\nM 25.484375 -14.890625 \r\nL 25.484375 8.40625 \r\nL 76.3125 8.40625 \r\nL 76.3125 18.5 \r\nL 25.484375 18.5 \r\nL 25.484375 25 \r\nL 83.5 25 \r\nL 83.5 2.09375 \r\nL 32.71875 2.09375 \r\nL 32.71875 -8.40625 \r\nL 86.078125 -8.40625 \r\nL 86.078125 -14.890625 \r\nz\r\n\" id=\"MalgunGothicRegular-49444\"/>\r\n      <path d=\"M 80.078125 35.015625 \r\nL 80.078125 21.921875 \r\nL 72.796875 21.921875 \r\nL 72.796875 77.09375 \r\nL 80.078125 77.09375 \r\nL 80.078125 61.625 \r\nL 94.28125 61.625 \r\nL 94.28125 55.171875 \r\nL 80.078125 55.171875 \r\nL 80.078125 41.40625 \r\nL 94.28125 41.40625 \r\nL 94.28125 35.015625 \r\nz\r\nM 63.71875 28.421875 \r\nQ 56.0625 27.15625 48.171875 26.875 \r\nQ 40.28125 26.609375 12.890625 26.609375 \r\nL 12.890625 53.90625 \r\nL 47.703125 53.90625 \r\nL 47.703125 66.609375 \r\nL 12.890625 66.609375 \r\nL 12.890625 73 \r\nL 54.984375 73 \r\nL 54.984375 47.609375 \r\nL 20.21875 47.609375 \r\nL 20.21875 33.015625 \r\nQ 42.828125 33.015625 49.96875 33.296875 \r\nQ 57.125 33.59375 62.5 34.625 \r\nz\r\nM 50.984375 -15.828125 \r\nQ 36.03125 -15.828125 28.171875 -11.1875 \r\nQ 20.3125 -6.546875 20.3125 1.3125 \r\nQ 20.3125 9.234375 28.25 13.859375 \r\nQ 36.1875 18.5 50.984375 18.5 \r\nQ 65.765625 18.5 73.71875 13.90625 \r\nQ 81.6875 9.328125 81.6875 1.3125 \r\nQ 81.6875 -6.640625 73.828125 -11.234375 \r\nQ 65.96875 -15.828125 50.984375 -15.828125 \r\nz\r\nM 50.984375 12.3125 \r\nQ 39.796875 12.3125 33.9375 9.421875 \r\nQ 28.078125 6.546875 28.078125 1.3125 \r\nQ 28.078125 -3.953125 33.984375 -6.78125 \r\nQ 39.890625 -9.625 50.984375 -9.625 \r\nQ 62.203125 -9.625 68.109375 -6.765625 \r\nQ 74.03125 -3.90625 74.03125 1.3125 \r\nQ 74.03125 6.5 68.171875 9.40625 \r\nQ 62.3125 12.3125 50.984375 12.3125 \r\nz\r\n\" id=\"MalgunGothicRegular-47049\"/>\r\n     </defs>\r\n     <g transform=\"translate(208.095313 253.188437)scale(0.1 -0.1)\">\r\n      <use xlink:href=\"#MalgunGothicRegular-51201\"/>\r\n      <use x=\"100\" xlink:href=\"#MalgunGothicRegular-49444\"/>\r\n      <use x=\"200\" xlink:href=\"#MalgunGothicRegular-47049\"/>\r\n     </g>\r\n    </g>\r\n   </g>\r\n   <g id=\"matplotlib.axis_2\">\r\n    <g id=\"ytick_1\">\r\n     <g id=\"line2d_10\">\r\n      <defs>\r\n       <path d=\"M 0 0 \r\nL -3.5 0 \r\n\" id=\"m53a7b18180\" style=\"stroke:#000000;stroke-width:0.8;\"/>\r\n      </defs>\r\n      <g>\r\n       <use style=\"stroke:#000000;stroke-width:0.8;\" x=\"55.695312\" xlink:href=\"#m53a7b18180\" y=\"222.784911\"/>\r\n      </g>\r\n     </g>\r\n     <g id=\"text_11\">\r\n      <!-- 5000 -->\r\n      <g transform=\"translate(26.664062 226.581004)scale(0.1 -0.1)\">\r\n       <use xlink:href=\"#MalgunGothicRegular-53\"/>\r\n       <use x=\"55.078125\" xlink:href=\"#MalgunGothicRegular-48\"/>\r\n       <use x=\"110.15625\" xlink:href=\"#MalgunGothicRegular-48\"/>\r\n       <use x=\"165.234375\" xlink:href=\"#MalgunGothicRegular-48\"/>\r\n      </g>\r\n     </g>\r\n    </g>\r\n    <g id=\"ytick_2\">\r\n     <g id=\"line2d_11\">\r\n      <g>\r\n       <use style=\"stroke:#000000;stroke-width:0.8;\" x=\"55.695312\" xlink:href=\"#m53a7b18180\" y=\"181.906362\"/>\r\n      </g>\r\n     </g>\r\n     <g id=\"text_12\">\r\n      <!-- 10000 -->\r\n      <g transform=\"translate(21.15625 185.702455)scale(0.1 -0.1)\">\r\n       <use xlink:href=\"#MalgunGothicRegular-49\"/>\r\n       <use x=\"55.078125\" xlink:href=\"#MalgunGothicRegular-48\"/>\r\n       <use x=\"110.15625\" xlink:href=\"#MalgunGothicRegular-48\"/>\r\n       <use x=\"165.234375\" xlink:href=\"#MalgunGothicRegular-48\"/>\r\n       <use x=\"220.3125\" xlink:href=\"#MalgunGothicRegular-48\"/>\r\n      </g>\r\n     </g>\r\n    </g>\r\n    <g id=\"ytick_3\">\r\n     <g id=\"line2d_12\">\r\n      <g>\r\n       <use style=\"stroke:#000000;stroke-width:0.8;\" x=\"55.695312\" xlink:href=\"#m53a7b18180\" y=\"141.027813\"/>\r\n      </g>\r\n     </g>\r\n     <g id=\"text_13\">\r\n      <!-- 15000 -->\r\n      <g transform=\"translate(21.15625 144.823907)scale(0.1 -0.1)\">\r\n       <use xlink:href=\"#MalgunGothicRegular-49\"/>\r\n       <use x=\"55.078125\" xlink:href=\"#MalgunGothicRegular-53\"/>\r\n       <use x=\"110.15625\" xlink:href=\"#MalgunGothicRegular-48\"/>\r\n       <use x=\"165.234375\" xlink:href=\"#MalgunGothicRegular-48\"/>\r\n       <use x=\"220.3125\" xlink:href=\"#MalgunGothicRegular-48\"/>\r\n      </g>\r\n     </g>\r\n    </g>\r\n    <g id=\"ytick_4\">\r\n     <g id=\"line2d_13\">\r\n      <g>\r\n       <use style=\"stroke:#000000;stroke-width:0.8;\" x=\"55.695312\" xlink:href=\"#m53a7b18180\" y=\"100.149264\"/>\r\n      </g>\r\n     </g>\r\n     <g id=\"text_14\">\r\n      <!-- 20000 -->\r\n      <g transform=\"translate(21.15625 103.945358)scale(0.1 -0.1)\">\r\n       <use xlink:href=\"#MalgunGothicRegular-50\"/>\r\n       <use x=\"55.078125\" xlink:href=\"#MalgunGothicRegular-48\"/>\r\n       <use x=\"110.15625\" xlink:href=\"#MalgunGothicRegular-48\"/>\r\n       <use x=\"165.234375\" xlink:href=\"#MalgunGothicRegular-48\"/>\r\n       <use x=\"220.3125\" xlink:href=\"#MalgunGothicRegular-48\"/>\r\n      </g>\r\n     </g>\r\n    </g>\r\n    <g id=\"ytick_5\">\r\n     <g id=\"line2d_14\">\r\n      <g>\r\n       <use style=\"stroke:#000000;stroke-width:0.8;\" x=\"55.695312\" xlink:href=\"#m53a7b18180\" y=\"59.270715\"/>\r\n      </g>\r\n     </g>\r\n     <g id=\"text_15\">\r\n      <!-- 25000 -->\r\n      <g transform=\"translate(21.15625 63.066809)scale(0.1 -0.1)\">\r\n       <use xlink:href=\"#MalgunGothicRegular-50\"/>\r\n       <use x=\"55.078125\" xlink:href=\"#MalgunGothicRegular-53\"/>\r\n       <use x=\"110.15625\" xlink:href=\"#MalgunGothicRegular-48\"/>\r\n       <use x=\"165.234375\" xlink:href=\"#MalgunGothicRegular-48\"/>\r\n       <use x=\"220.3125\" xlink:href=\"#MalgunGothicRegular-48\"/>\r\n      </g>\r\n     </g>\r\n    </g>\r\n    <g id=\"ytick_6\">\r\n     <g id=\"line2d_15\">\r\n      <g>\r\n       <use style=\"stroke:#000000;stroke-width:0.8;\" x=\"55.695312\" xlink:href=\"#m53a7b18180\" y=\"18.392166\"/>\r\n      </g>\r\n     </g>\r\n     <g id=\"text_16\">\r\n      <!-- 30000 -->\r\n      <g transform=\"translate(21.15625 22.18826)scale(0.1 -0.1)\">\r\n       <use xlink:href=\"#MalgunGothicRegular-51\"/>\r\n       <use x=\"55.078125\" xlink:href=\"#MalgunGothicRegular-48\"/>\r\n       <use x=\"110.15625\" xlink:href=\"#MalgunGothicRegular-48\"/>\r\n       <use x=\"165.234375\" xlink:href=\"#MalgunGothicRegular-48\"/>\r\n       <use x=\"220.3125\" xlink:href=\"#MalgunGothicRegular-48\"/>\r\n      </g>\r\n     </g>\r\n    </g>\r\n    <g id=\"text_17\">\r\n     <!-- 통화건수 -->\r\n     <defs>\r\n      <path d=\"M 6.296875 22.609375 \r\nL 6.296875 29.109375 \r\nL 46.390625 29.109375 \r\nL 46.390625 38.8125 \r\nL 20.796875 38.8125 \r\nL 20.796875 75 \r\nL 79.5 75 \r\nL 79.5 68.5 \r\nL 28.078125 68.5 \r\nL 28.078125 60.109375 \r\nL 77.875 60.109375 \r\nL 77.875 53.71875 \r\nL 28.078125 53.71875 \r\nL 28.078125 45.21875 \r\nL 80.71875 45.21875 \r\nL 80.71875 38.8125 \r\nL 53.71875 38.8125 \r\nL 53.71875 29.109375 \r\nL 93.703125 29.109375 \r\nL 93.703125 22.609375 \r\nz\r\nM 50 -17 \r\nQ 35.015625 -17 27.140625 -12.546875 \r\nQ 19.28125 -8.109375 19.28125 -0.203125 \r\nQ 19.28125 7.71875 27.140625 12.15625 \r\nQ 35.015625 16.609375 50 16.609375 \r\nQ 64.984375 16.609375 72.84375 12.15625 \r\nQ 80.71875 7.71875 80.71875 -0.203125 \r\nQ 80.71875 -8.109375 72.84375 -12.546875 \r\nQ 64.984375 -17 50 -17 \r\nz\r\nM 50 10.40625 \r\nQ 27 10.40625 27 -0.203125 \r\nQ 27 -10.796875 50 -10.796875 \r\nQ 73 -10.796875 73 -0.203125 \r\nQ 73 10.40625 50 10.40625 \r\nz\r\n\" id=\"MalgunGothicRegular-53685\"/>\r\n      <path d=\"M 81.6875 28.609375 \r\nL 81.6875 -17.09375 \r\nL 74.421875 -17.09375 \r\nL 74.421875 77.09375 \r\nL 81.6875 77.09375 \r\nL 81.6875 35.109375 \r\nL 96.1875 35.109375 \r\nL 96.1875 28.609375 \r\nz\r\nM 33.296875 76.703125 \r\nL 40.484375 76.703125 \r\nL 40.484375 64.40625 \r\nL 64.984375 64.40625 \r\nL 64.984375 57.90625 \r\nL 8.6875 57.90625 \r\nL 8.6875 64.40625 \r\nL 33.296875 64.40625 \r\nz\r\nM 40.484375 18.890625 \r\nL 40.484375 5.515625 \r\nQ 57.625 5.765625 68.890625 6.5 \r\nL 69.390625 0.203125 \r\nQ 43.609375 -1.3125 5.609375 -1.3125 \r\nL 4.890625 5.078125 \r\nQ 17.828125 5.078125 33.203125 5.421875 \r\nL 33.203125 18.796875 \r\nQ 23.53125 19.671875 18.359375 24.390625 \r\nQ 13.1875 29.109375 13.1875 35.890625 \r\nQ 13.1875 43.5 19.53125 48.359375 \r\nQ 25.875 53.21875 36.921875 53.21875 \r\nQ 47.796875 53.21875 54.140625 48.453125 \r\nQ 60.5 43.703125 60.5 36.375 \r\nQ 60.5 29.203125 55.25 24.484375 \r\nQ 50 19.78125 40.484375 18.890625 \r\nz\r\nM 36.921875 47.015625 \r\nQ 29.296875 47.015625 24.90625 43.921875 \r\nQ 20.515625 40.828125 20.515625 35.890625 \r\nQ 20.515625 30.953125 24.875 27.921875 \r\nQ 29.25 24.90625 36.921875 24.90625 \r\nQ 44.484375 24.90625 48.84375 27.953125 \r\nQ 53.21875 31 53.21875 35.890625 \r\nQ 53.21875 40.828125 48.828125 43.921875 \r\nQ 44.4375 47.015625 36.921875 47.015625 \r\nz\r\n\" id=\"MalgunGothicRegular-54868\"/>\r\n      <path d=\"M 77.296875 8.203125 \r\nL 77.296875 39.796875 \r\nL 55.609375 39.796875 \r\nL 55.609375 46.296875 \r\nL 77.296875 46.296875 \r\nL 77.296875 77.09375 \r\nL 84.625 77.09375 \r\nL 84.625 8.203125 \r\nz\r\nM 56.5 71.09375 \r\nQ 54.5 53.609375 43 40.125 \r\nQ 31.5 26.65625 13.375 18.796875 \r\nL 8.5 24.703125 \r\nQ 23.578125 30.125 34.390625 40.796875 \r\nQ 45.21875 51.46875 47.90625 64.59375 \r\nL 14.703125 64.59375 \r\nL 14.703125 71.09375 \r\nz\r\nM 26.90625 -13.375 \r\nL 26.90625 16.3125 \r\nL 34.1875 16.3125 \r\nL 34.1875 -6.78125 \r\nL 87.3125 -6.78125 \r\nL 87.3125 -13.375 \r\nz\r\n\" id=\"MalgunGothicRegular-44148\"/>\r\n      <path d=\"M 85.796875 38.484375 \r\nQ 74.21875 40.09375 63.71875 46.359375 \r\nQ 53.21875 52.640625 50 58.5 \r\nQ 46.484375 52.484375 36.078125 46.234375 \r\nQ 25.6875 39.984375 14.40625 37.890625 \r\nL 9.90625 44 \r\nQ 24.359375 45.609375 35.328125 53.296875 \r\nQ 46.296875 60.984375 46.296875 70.015625 \r\nL 46.296875 74.125 \r\nL 53.609375 74.125 \r\nL 53.609375 70.015625 \r\nQ 53.609375 60.9375 64.34375 53.390625 \r\nQ 75.09375 45.84375 90.09375 44.484375 \r\nz\r\nM 53.609375 20.40625 \r\nL 53.609375 -17.09375 \r\nL 46.296875 -17.09375 \r\nL 46.296875 20.40625 \r\nL 6.296875 20.40625 \r\nL 6.296875 26.90625 \r\nL 93.703125 26.90625 \r\nL 93.703125 20.40625 \r\nz\r\n\" id=\"MalgunGothicRegular-49688\"/>\r\n     </defs>\r\n     <g transform=\"translate(14.792187 135.92)rotate(-90)scale(0.1 -0.1)\">\r\n      <use xlink:href=\"#MalgunGothicRegular-53685\"/>\r\n      <use x=\"100\" xlink:href=\"#MalgunGothicRegular-54868\"/>\r\n      <use x=\"200\" xlink:href=\"#MalgunGothicRegular-44148\"/>\r\n      <use x=\"300\" xlink:href=\"#MalgunGothicRegular-49688\"/>\r\n     </g>\r\n    </g>\r\n   </g>\r\n   <g id=\"line2d_16\">\r\n    <path clip-path=\"url(#p4248f5daff)\" d=\"M 55.695312 165.298703 \r\nL 59.077131 164.905239 \r\nL 62.458949 164.511775 \r\nL 65.840767 164.118311 \r\nL 69.222585 163.724847 \r\nL 72.604403 163.331382 \r\nL 75.986222 162.937918 \r\nL 79.36804 162.544454 \r\nL 82.749858 162.15099 \r\nL 86.131676 161.757526 \r\nL 89.513494 161.364062 \r\nL 92.895313 160.970598 \r\nL 96.277131 160.577134 \r\nL 99.658949 160.18367 \r\nL 103.040767 159.790206 \r\nL 106.422585 159.396742 \r\nL 109.804403 159.003278 \r\nL 113.186222 158.609814 \r\nL 116.56804 158.21635 \r\nL 119.949858 157.822886 \r\nL 123.331676 157.429422 \r\nL 126.713494 157.035958 \r\nL 130.095313 156.642494 \r\nL 133.477131 156.24903 \r\nL 136.858949 155.855566 \r\nL 140.240767 155.462102 \r\nL 143.622585 155.068638 \r\nL 147.004403 154.675174 \r\nL 150.386222 154.28171 \r\nL 153.76804 153.888246 \r\nL 157.149858 153.494782 \r\nL 160.531676 153.101317 \r\nL 163.913494 152.707853 \r\nL 167.295313 152.314389 \r\nL 170.677131 151.920925 \r\nL 174.058949 151.527461 \r\nL 177.440767 151.133997 \r\nL 180.822585 150.740533 \r\nL 184.204403 150.347069 \r\nL 187.586222 149.953605 \r\nL 190.96804 149.560141 \r\nL 194.349858 149.166677 \r\nL 197.731676 148.773213 \r\nL 201.113494 148.379749 \r\nL 204.495313 147.986285 \r\nL 207.877131 147.592821 \r\nL 211.258949 147.199357 \r\nL 214.640767 146.805893 \r\nL 218.022585 146.412429 \r\nL 221.404403 146.018965 \r\nL 224.786222 145.625501 \r\nL 228.16804 145.232037 \r\nL 231.549858 144.838573 \r\nL 234.931676 144.445109 \r\nL 238.313494 144.051645 \r\nL 241.695313 143.658181 \r\nL 245.077131 143.264717 \r\nL 248.458949 142.871253 \r\nL 251.840767 142.477788 \r\nL 255.222585 142.084324 \r\nL 258.604403 141.69086 \r\nL 261.986222 141.297396 \r\nL 265.36804 140.903932 \r\nL 268.749858 140.510468 \r\nL 272.131676 140.117004 \r\nL 275.513494 139.72354 \r\nL 278.895313 139.330076 \r\nL 282.277131 138.936612 \r\nL 285.658949 138.543148 \r\nL 289.040767 138.149684 \r\nL 292.422585 137.75622 \r\nL 295.804403 137.362756 \r\nL 299.186222 136.969292 \r\nL 302.56804 136.575828 \r\nL 305.949858 136.182364 \r\nL 309.331676 135.7889 \r\nL 312.713494 135.395436 \r\nL 316.095313 135.001972 \r\nL 319.477131 134.608508 \r\nL 322.858949 134.215044 \r\nL 326.240767 133.82158 \r\nL 329.622585 133.428116 \r\nL 333.004403 133.034652 \r\nL 336.386222 132.641188 \r\nL 339.76804 132.247724 \r\nL 343.149858 131.854259 \r\nL 346.531676 131.460795 \r\nL 349.913494 131.067331 \r\nL 353.295313 130.673867 \r\nL 356.677131 130.280403 \r\nL 360.058949 129.886939 \r\nL 363.440767 129.493475 \r\nL 366.822585 129.100011 \r\nL 370.204403 128.706547 \r\nL 373.586222 128.313083 \r\nL 376.96804 127.919619 \r\nL 380.349858 127.526155 \r\nL 383.731676 127.132691 \r\nL 387.113494 126.739227 \r\nL 390.495313 126.345763 \r\n\" style=\"fill:none;stroke:#1f77b4;stroke-linecap:square;stroke-width:2.25;\"/>\r\n   </g>\r\n   <g id=\"patch_3\">\r\n    <path d=\"M 55.695312 224.64 \r\nL 55.695312 7.2 \r\n\" style=\"fill:none;stroke:#000000;stroke-linecap:square;stroke-linejoin:miter;stroke-width:0.8;\"/>\r\n   </g>\r\n   <g id=\"patch_4\">\r\n    <path d=\"M 390.495313 224.64 \r\nL 390.495313 7.2 \r\n\" style=\"fill:none;stroke:#000000;stroke-linecap:square;stroke-linejoin:miter;stroke-width:0.8;\"/>\r\n   </g>\r\n   <g id=\"patch_5\">\r\n    <path d=\"M 55.695312 224.64 \r\nL 390.495313 224.64 \r\n\" style=\"fill:none;stroke:#000000;stroke-linecap:square;stroke-linejoin:miter;stroke-width:0.8;\"/>\r\n   </g>\r\n   <g id=\"patch_6\">\r\n    <path d=\"M 55.695312 7.2 \r\nL 390.495313 7.2 \r\n\" style=\"fill:none;stroke:#000000;stroke-linecap:square;stroke-linejoin:miter;stroke-width:0.8;\"/>\r\n   </g>\r\n  </g>\r\n </g>\r\n <defs>\r\n  <clipPath id=\"p4248f5daff\">\r\n   <rect height=\"217.44\" width=\"334.8\" x=\"55.695312\" y=\"7.2\"/>\r\n  </clipPath>\r\n </defs>\r\n</svg>\r\n",
      "image/png": "[encoded data removed]"
     },
     "metadata": {
      "needs_background": "light"
     }
    }
   ],
   "source": [
    "sns.regplot(x='적설량', y='통화건수', data= df)"
   ]
  },
  {
   "cell_type": "code",
   "execution_count": 101,
   "metadata": {},
   "outputs": [
    {
     "output_type": "execute_result",
     "data": {
      "text/plain": [
       "0.8259188411518272"
      ]
     },
     "metadata": {},
     "execution_count": 101
    }
   ],
   "source": [
    "# 성능 평가 \n",
    "from sklearn.metrics import r2_score\n",
    "r2_score(y_test, pred)"
   ]
  },
  {
   "source": [
    "# 성능 향상하기 \n",
    "1. 피쳐 스케일링 \n",
    "1. 이상치 데이터 제거 ; 통화건수 >  그 이후 데이터 확인할 것\n",
    "2. 강수량, 적설량 데이터 로그 처리 \n",
    "3. 타겟 통화건수 > 정규분포 처리 \n",
    "4. 회귀 계수 확인 후 중요 피처에 대한 이상치 제거 \n",
    "2. 추가 변수 '미세먼지' ; 추가 변수 설정 \n",
    "3. 강남구 데이터 추가 (2015년도~) ; 훈련 데이터 증가 시키기 "
   ],
   "cell_type": "markdown",
   "metadata": {}
  },
  {
   "cell_type": "code",
   "execution_count": 86,
   "metadata": {},
   "outputs": [
    {
     "output_type": "execute_result",
     "data": {
      "text/plain": [
       "          공휴일         월         화         수         목         금         토  \\\n",
       "0   -0.214115  2.426271 -0.407596 -0.407596 -0.407596 -0.407596 -0.407596   \n",
       "1   -0.214115 -0.412155  2.453412 -0.407596 -0.407596 -0.407596 -0.407596   \n",
       "2    4.670385 -0.412155 -0.407596  2.453412 -0.407596 -0.407596 -0.407596   \n",
       "3   -0.214115 -0.412155 -0.407596 -0.407596  2.453412 -0.407596 -0.407596   \n",
       "4   -0.214115 -0.412155 -0.407596 -0.407596 -0.407596  2.453412 -0.407596   \n",
       "..        ...       ...       ...       ...       ...       ...       ...   \n",
       "360 -0.214115 -0.412155 -0.407596 -0.407596  2.453412 -0.407596 -0.407596   \n",
       "361 -0.214115 -0.412155 -0.407596 -0.407596 -0.407596  2.453412 -0.407596   \n",
       "362 -0.214115 -0.412155 -0.407596 -0.407596 -0.407596 -0.407596  2.453412   \n",
       "363 -0.214115 -0.412155 -0.407596 -0.407596 -0.407596 -0.407596 -0.407596   \n",
       "364 -0.214115  2.426271 -0.407596 -0.407596 -0.407596 -0.407596 -0.407596   \n",
       "\n",
       "            일        기온       강수량        풍속        습도       적설량   통화건수  \n",
       "0   -0.407596  0.215519 -0.285708  1.769191 -0.037002 -0.108948   9681  \n",
       "1   -0.407596  0.263691 -0.285708 -0.348572  0.366248 -0.108948  13692  \n",
       "2   -0.407596  0.398572 -0.285708 -0.837286  0.148621 -0.108948  15403  \n",
       "3   -0.407596  0.591259 -0.285708 -0.837286  0.052609 -0.108948  10091  \n",
       "4   -0.407596  0.360034  3.719283 -0.185667  1.819229 -0.108948  17680  \n",
       "..        ...       ...       ...       ...       ...       ...    ...  \n",
       "360 -0.407596  0.938096 -0.285708  0.140143  0.231832 -0.108948   8908  \n",
       "361 -0.407596  0.938096 -0.285708  0.140143  0.116617 -0.108948  12561  \n",
       "362 -0.407596  1.015170 -0.285708 -0.185667  0.206228 -0.108948  13828  \n",
       "363  2.453412  0.909192 -0.285708 -0.185667  0.315042 -0.108948  12188  \n",
       "364 -0.407596  0.889924 -0.285708 -0.348572  0.340645 -0.108948   7850  \n",
       "\n",
       "[365 rows x 14 columns]"
      ],
      "text/html": "<div>\n<style scoped>\n    .dataframe tbody tr th:only-of-type {\n        vertical-align: middle;\n    }\n\n    .dataframe tbody tr th {\n        vertical-align: top;\n    }\n\n    .dataframe thead th {\n        text-align: right;\n    }\n</style>\n<table border=\"1\" class=\"dataframe\">\n  <thead>\n    <tr style=\"text-align: right;\">\n      <th></th>\n      <th>공휴일</th>\n      <th>월</th>\n      <th>화</th>\n      <th>수</th>\n      <th>목</th>\n      <th>금</th>\n      <th>토</th>\n      <th>일</th>\n      <th>기온</th>\n      <th>강수량</th>\n      <th>풍속</th>\n      <th>습도</th>\n      <th>적설량</th>\n      <th>통화건수</th>\n    </tr>\n  </thead>\n  <tbody>\n    <tr>\n      <th>0</th>\n      <td>-0.214115</td>\n      <td>2.426271</td>\n      <td>-0.407596</td>\n      <td>-0.407596</td>\n      <td>-0.407596</td>\n      <td>-0.407596</td>\n      <td>-0.407596</td>\n      <td>-0.407596</td>\n      <td>0.215519</td>\n      <td>-0.285708</td>\n      <td>1.769191</td>\n      <td>-0.037002</td>\n      <td>-0.108948</td>\n      <td>9681</td>\n    </tr>\n    <tr>\n      <th>1</th>\n      <td>-0.214115</td>\n      <td>-0.412155</td>\n      <td>2.453412</td>\n      <td>-0.407596</td>\n      <td>-0.407596</td>\n      <td>-0.407596</td>\n      <td>-0.407596</td>\n      <td>-0.407596</td>\n      <td>0.263691</td>\n      <td>-0.285708</td>\n      <td>-0.348572</td>\n      <td>0.366248</td>\n      <td>-0.108948</td>\n      <td>13692</td>\n    </tr>\n    <tr>\n      <th>2</th>\n      <td>4.670385</td>\n      <td>-0.412155</td>\n      <td>-0.407596</td>\n      <td>2.453412</td>\n      <td>-0.407596</td>\n      <td>-0.407596</td>\n      <td>-0.407596</td>\n      <td>-0.407596</td>\n      <td>0.398572</td>\n      <td>-0.285708</td>\n      <td>-0.837286</td>\n      <td>0.148621</td>\n      <td>-0.108948</td>\n      <td>15403</td>\n    </tr>\n    <tr>\n      <th>3</th>\n      <td>-0.214115</td>\n      <td>-0.412155</td>\n      <td>-0.407596</td>\n      <td>-0.407596</td>\n      <td>2.453412</td>\n      <td>-0.407596</td>\n      <td>-0.407596</td>\n      <td>-0.407596</td>\n      <td>0.591259</td>\n      <td>-0.285708</td>\n      <td>-0.837286</td>\n      <td>0.052609</td>\n      <td>-0.108948</td>\n      <td>10091</td>\n    </tr>\n    <tr>\n      <th>4</th>\n      <td>-0.214115</td>\n      <td>-0.412155</td>\n      <td>-0.407596</td>\n      <td>-0.407596</td>\n      <td>-0.407596</td>\n      <td>2.453412</td>\n      <td>-0.407596</td>\n      <td>-0.407596</td>\n      <td>0.360034</td>\n      <td>3.719283</td>\n      <td>-0.185667</td>\n      <td>1.819229</td>\n      <td>-0.108948</td>\n      <td>17680</td>\n    </tr>\n    <tr>\n      <th>...</th>\n      <td>...</td>\n      <td>...</td>\n      <td>...</td>\n      <td>...</td>\n      <td>...</td>\n      <td>...</td>\n      <td>...</td>\n      <td>...</td>\n      <td>...</td>\n      <td>...</td>\n      <td>...</td>\n      <td>...</td>\n      <td>...</td>\n      <td>...</td>\n    </tr>\n    <tr>\n      <th>360</th>\n      <td>-0.214115</td>\n      <td>-0.412155</td>\n      <td>-0.407596</td>\n      <td>-0.407596</td>\n      <td>2.453412</td>\n      <td>-0.407596</td>\n      <td>-0.407596</td>\n      <td>-0.407596</td>\n      <td>0.938096</td>\n      <td>-0.285708</td>\n      <td>0.140143</td>\n      <td>0.231832</td>\n      <td>-0.108948</td>\n      <td>8908</td>\n    </tr>\n    <tr>\n      <th>361</th>\n      <td>-0.214115</td>\n      <td>-0.412155</td>\n      <td>-0.407596</td>\n      <td>-0.407596</td>\n      <td>-0.407596</td>\n      <td>2.453412</td>\n      <td>-0.407596</td>\n      <td>-0.407596</td>\n      <td>0.938096</td>\n      <td>-0.285708</td>\n      <td>0.140143</td>\n      <td>0.116617</td>\n      <td>-0.108948</td>\n      <td>12561</td>\n    </tr>\n    <tr>\n      <th>362</th>\n      <td>-0.214115</td>\n      <td>-0.412155</td>\n      <td>-0.407596</td>\n      <td>-0.407596</td>\n      <td>-0.407596</td>\n      <td>-0.407596</td>\n      <td>2.453412</td>\n      <td>-0.407596</td>\n      <td>1.015170</td>\n      <td>-0.285708</td>\n      <td>-0.185667</td>\n      <td>0.206228</td>\n      <td>-0.108948</td>\n      <td>13828</td>\n    </tr>\n    <tr>\n      <th>363</th>\n      <td>-0.214115</td>\n      <td>-0.412155</td>\n      <td>-0.407596</td>\n      <td>-0.407596</td>\n      <td>-0.407596</td>\n      <td>-0.407596</td>\n      <td>-0.407596</td>\n      <td>2.453412</td>\n      <td>0.909192</td>\n      <td>-0.285708</td>\n      <td>-0.185667</td>\n      <td>0.315042</td>\n      <td>-0.108948</td>\n      <td>12188</td>\n    </tr>\n    <tr>\n      <th>364</th>\n      <td>-0.214115</td>\n      <td>2.426271</td>\n      <td>-0.407596</td>\n      <td>-0.407596</td>\n      <td>-0.407596</td>\n      <td>-0.407596</td>\n      <td>-0.407596</td>\n      <td>-0.407596</td>\n      <td>0.889924</td>\n      <td>-0.285708</td>\n      <td>-0.348572</td>\n      <td>0.340645</td>\n      <td>-0.108948</td>\n      <td>7850</td>\n    </tr>\n  </tbody>\n</table>\n<p>365 rows × 14 columns</p>\n</div>"
     },
     "metadata": {},
     "execution_count": 86
    }
   ],
   "source": [
    "# 피쳐 스케일링 \n",
    "from sklearn.preprocessing import StandardScaler\n",
    "\n",
    "#객체 생성\n",
    "scaler = StandardScaler()\n",
    "#데이터 변환하기\n",
    "scaler.fit(df)\n",
    "scaled = scaler.transform(df)\n",
    "df_scaled = pd.DataFrame(data=scaled, columns=['공휴일', '월', '화', '수', '목', '금', '토', '일', '기온', '강수량', '풍속', '습도','적설량','통화건수'])\n",
    "df_scaled['통화건수'] = df['통화건수']\n",
    "df_scaled"
   ]
  },
  {
   "cell_type": "code",
   "execution_count": 90,
   "metadata": {},
   "outputs": [
    {
     "output_type": "stream",
     "name": "stdout",
     "text": [
      "1129.8046358972726 1276458.5152949688\n"
     ]
    },
    {
     "output_type": "execute_result",
     "data": {
      "text/plain": [
       "0.8176289226477189"
      ]
     },
     "metadata": {},
     "execution_count": 90
    }
   ],
   "source": [
    "# 스케일링 후 성능 확인하기 \n",
    "\n",
    "# 모델 학습\n",
    "from sklearn.linear_model import LinearRegression\n",
    "from sklearn.model_selection import train_test_split\n",
    "from sklearn.metrics import mean_squared_error\n",
    "\n",
    "y_target = df_scaled['통화건수']\n",
    "X_features = df_scaled.drop('통화건수',axis=1)\n",
    "\n",
    "X_train, X_test, y_train, y_test = train_test_split(X_features, y_target, test_size=0.2,random_state=13)\n",
    "\n",
    "lr_reg= LinearRegression()\n",
    "lr_reg.fit(X_train,y_train)\n",
    "\n",
    "# 모델 예측 \n",
    "pred = lr_reg.predict(X_test)\n",
    "mse = mean_squared_error(y_test, pred)\n",
    "rmse = np.sqrt(mse)\n",
    "print(rmse, mse)\n",
    "\n",
    "# 성능 평가 \n",
    "from sklearn.metrics import r2_score\n",
    "r2_score(y_test, pred)\n",
    "\n",
    "####################결론 : 성능 저하##################"
   ]
  },
  {
   "cell_type": "code",
   "execution_count": 71,
   "metadata": {},
   "outputs": [
    {
     "output_type": "display_data",
     "data": {
      "application/vnd.plotly.v1+json": {
       "config": {
        "plotlyServerURL": "https://plot.ly"
       },
       "data": [
        {
         "alignmentgroup": "True",
         "hovertemplate": "통화건수=%{y}<extra></extra>",
         "legendgroup": "",
         "marker": {
          "color": "#636efa"
         },
         "name": "",
         "notched": false,
         "offsetgroup": "",
         "orientation": "v",
         "showlegend": false,
         "type": "box",
         "x0": " ",
         "xaxis": "x",
         "y": [
          9681,
          13692,
          15403,
          10091,
          17680,
          17881,
          15668,
          12421,
          14696,
          10414,
          10969,
          16824,
          16742,
          15231,
          9428,
          11664,
          10888,
          11197,
          15590,
          16790,
          14988,
          9526,
          10514,
          10652,
          11279,
          15825,
          16785,
          15925,
          9096,
          10327,
          11618,
          10979,
          14804,
          16036,
          14078,
          9291,
          9774,
          11264,
          12921,
          15240,
          15338,
          14452,
          9115,
          9811,
          10830,
          12709,
          14951,
          16059,
          13807,
          9065,
          10276,
          10617,
          10874,
          14906,
          15891,
          14582,
          9008,
          10110,
          10338,
          10836,
          15148,
          16140,
          14398,
          9505,
          10315,
          10808,
          11256,
          17010,
          17991,
          16520,
          10101,
          10825,
          11503,
          12261,
          16322,
          17086,
          14237,
          9219,
          10315,
          10695,
          11275,
          14554,
          15595,
          14347,
          20617,
          17378,
          9836,
          11973,
          15567,
          16303,
          14399,
          21325,
          14027,
          9730,
          10825,
          14048,
          16463,
          14557,
          10991,
          10979,
          11310,
          11905,
          15693,
          16929,
          15487,
          10189,
          11432,
          14523,
          11553,
          15105,
          16370,
          15362,
          9959,
          14493,
          10883,
          11823,
          20132,
          17129,
          15031,
          9593,
          10296,
          10998,
          12173,
          16021,
          14116,
          13392,
          8107,
          6860,
          14181,
          9989,
          14544,
          16680,
          16431,
          10554,
          11016,
          12014,
          12139,
          17852,
          17075,
          14666,
          9656,
          11235,
          11632,
          12120,
          14977,
          15602,
          14434,
          9864,
          10804,
          11460,
          15048,
          14528,
          15257,
          13209,
          8506,
          9806,
          10181,
          10557,
          15118,
          16101,
          14375,
          8786,
          9803,
          10610,
          10944,
          17048,
          16325,
          13933,
          8187,
          9077,
          11850,
          10402,
          15908,
          16040,
          13913,
          8360,
          10914,
          9723,
          10040,
          14500,
          16376,
          13874,
          8398,
          9129,
          10069,
          10309,
          14791,
          16015,
          14699,
          8467,
          10811,
          10366,
          10577,
          14625,
          17264,
          14557,
          8366,
          9195,
          9688,
          10411,
          14085,
          15962,
          13209,
          7517,
          9119,
          9524,
          11746,
          14500,
          14805,
          12971,
          8000,
          11135,
          12352,
          9944,
          13669,
          14608,
          14781,
          12960,
          8502,
          11448,
          9625,
          14960,
          15781,
          13781,
          8125,
          8889,
          10000,
          9593,
          14014,
          15451,
          14410,
          8204,
          9083,
          9289,
          9575,
          13747,
          15111,
          13836,
          8141,
          8623,
          9475,
          9461,
          13369,
          14581,
          13128,
          7428,
          9483,
          11769,
          13521,
          12745,
          13230,
          12056,
          7462,
          10133,
          9116,
          9052,
          12595,
          24742,
          14705,
          7357,
          8761,
          8948,
          9266,
          12776,
          13123,
          12627,
          7371,
          8591,
          9026,
          9372,
          13104,
          13223,
          12052,
          7554,
          8681,
          9355,
          9494,
          13269,
          13564,
          12271,
          7706,
          9392,
          10657,
          9674,
          19644,
          12853,
          11680,
          8066,
          8288,
          8884,
          9344,
          13431,
          13004,
          12333,
          14203,
          8867,
          9150,
          10629,
          14067,
          12950,
          13238,
          8185,
          9579,
          10601,
          9932,
          12395,
          13335,
          12311,
          8668,
          9524,
          9206,
          9724,
          12619,
          13725,
          19939,
          8638,
          9047,
          11375,
          11794,
          10801,
          12158,
          10786,
          7452,
          8723,
          9195,
          8791,
          12128,
          12777,
          11883,
          7603,
          8168,
          8694,
          9406,
          12604,
          13597,
          11638,
          6947,
          8151,
          9486,
          10054,
          12982,
          15623,
          12125,
          7450,
          10074,
          10644,
          7573,
          5982,
          10678,
          11176,
          7085,
          7585,
          8512,
          9143,
          13156,
          14381,
          13433,
          7499,
          8569,
          8695,
          8908,
          12561,
          13828,
          12188,
          7850
         ],
         "y0": " ",
         "yaxis": "y"
        }
       ],
       "layout": {
        "boxmode": "group",
        "legend": {
         "tracegroupgap": 0
        },
        "margin": {
         "t": 60
        },
        "template": {
         "data": {
          "bar": [
           {
            "error_x": {
             "color": "#2a3f5f"
            },
            "error_y": {
             "color": "#2a3f5f"
            },
            "marker": {
             "line": {
              "color": "#E5ECF6",
              "width": 0.5
             }
            },
            "type": "bar"
           }
          ],
          "barpolar": [
           {
            "marker": {
             "line": {
              "color": "#E5ECF6",
              "width": 0.5
             }
            },
            "type": "barpolar"
           }
          ],
          "carpet": [
           {
            "aaxis": {
             "endlinecolor": "#2a3f5f",
             "gridcolor": "white",
             "linecolor": "white",
             "minorgridcolor": "white",
             "startlinecolor": "#2a3f5f"
            },
            "baxis": {
             "endlinecolor": "#2a3f5f",
             "gridcolor": "white",
             "linecolor": "white",
             "minorgridcolor": "white",
             "startlinecolor": "#2a3f5f"
            },
            "type": "carpet"
           }
          ],
          "choropleth": [
           {
            "colorbar": {
             "outlinewidth": 0,
             "ticks": ""
            },
            "type": "choropleth"
           }
          ],
          "contour": [
           {
            "colorbar": {
             "outlinewidth": 0,
             "ticks": ""
            },
            "colorscale": [
             [
              0,
              "#0d0887"
             ],
             [
              0.1111111111111111,
              "#46039f"
             ],
             [
              0.2222222222222222,
              "#7201a8"
             ],
             [
              0.3333333333333333,
              "#9c179e"
             ],
             [
              0.4444444444444444,
              "#bd3786"
             ],
             [
              0.5555555555555556,
              "#d8576b"
             ],
             [
              0.6666666666666666,
              "#ed7953"
             ],
             [
              0.7777777777777778,
              "#fb9f3a"
             ],
             [
              0.8888888888888888,
              "#fdca26"
             ],
             [
              1,
              "#f0f921"
             ]
            ],
            "type": "contour"
           }
          ],
          "contourcarpet": [
           {
            "colorbar": {
             "outlinewidth": 0,
             "ticks": ""
            },
            "type": "contourcarpet"
           }
          ],
          "heatmap": [
           {
            "colorbar": {
             "outlinewidth": 0,
             "ticks": ""
            },
            "colorscale": [
             [
              0,
              "#0d0887"
             ],
             [
              0.1111111111111111,
              "#46039f"
             ],
             [
              0.2222222222222222,
              "#7201a8"
             ],
             [
              0.3333333333333333,
              "#9c179e"
             ],
             [
              0.4444444444444444,
              "#bd3786"
             ],
             [
              0.5555555555555556,
              "#d8576b"
             ],
             [
              0.6666666666666666,
              "#ed7953"
             ],
             [
              0.7777777777777778,
              "#fb9f3a"
             ],
             [
              0.8888888888888888,
              "#fdca26"
             ],
             [
              1,
              "#f0f921"
             ]
            ],
            "type": "heatmap"
           }
          ],
          "heatmapgl": [
           {
            "colorbar": {
             "outlinewidth": 0,
             "ticks": ""
            },
            "colorscale": [
             [
              0,
              "#0d0887"
             ],
             [
              0.1111111111111111,
              "#46039f"
             ],
             [
              0.2222222222222222,
              "#7201a8"
             ],
             [
              0.3333333333333333,
              "#9c179e"
             ],
             [
              0.4444444444444444,
              "#bd3786"
             ],
             [
              0.5555555555555556,
              "#d8576b"
             ],
             [
              0.6666666666666666,
              "#ed7953"
             ],
             [
              0.7777777777777778,
              "#fb9f3a"
             ],
             [
              0.8888888888888888,
              "#fdca26"
             ],
             [
              1,
              "#f0f921"
             ]
            ],
            "type": "heatmapgl"
           }
          ],
          "histogram": [
           {
            "marker": {
             "colorbar": {
              "outlinewidth": 0,
              "ticks": ""
             }
            },
            "type": "histogram"
           }
          ],
          "histogram2d": [
           {
            "colorbar": {
             "outlinewidth": 0,
             "ticks": ""
            },
            "colorscale": [
             [
              0,
              "#0d0887"
             ],
             [
              0.1111111111111111,
              "#46039f"
             ],
             [
              0.2222222222222222,
              "#7201a8"
             ],
             [
              0.3333333333333333,
              "#9c179e"
             ],
             [
              0.4444444444444444,
              "#bd3786"
             ],
             [
              0.5555555555555556,
              "#d8576b"
             ],
             [
              0.6666666666666666,
              "#ed7953"
             ],
             [
              0.7777777777777778,
              "#fb9f3a"
             ],
             [
              0.8888888888888888,
              "#fdca26"
             ],
             [
              1,
              "#f0f921"
             ]
            ],
            "type": "histogram2d"
           }
          ],
          "histogram2dcontour": [
           {
            "colorbar": {
             "outlinewidth": 0,
             "ticks": ""
            },
            "colorscale": [
             [
              0,
              "#0d0887"
             ],
             [
              0.1111111111111111,
              "#46039f"
             ],
             [
              0.2222222222222222,
              "#7201a8"
             ],
             [
              0.3333333333333333,
              "#9c179e"
             ],
             [
              0.4444444444444444,
              "#bd3786"
             ],
             [
              0.5555555555555556,
              "#d8576b"
             ],
             [
              0.6666666666666666,
              "#ed7953"
             ],
             [
              0.7777777777777778,
              "#fb9f3a"
             ],
             [
              0.8888888888888888,
              "#fdca26"
             ],
             [
              1,
              "#f0f921"
             ]
            ],
            "type": "histogram2dcontour"
           }
          ],
          "mesh3d": [
           {
            "colorbar": {
             "outlinewidth": 0,
             "ticks": ""
            },
            "type": "mesh3d"
           }
          ],
          "parcoords": [
           {
            "line": {
             "colorbar": {
              "outlinewidth": 0,
              "ticks": ""
             }
            },
            "type": "parcoords"
           }
          ],
          "pie": [
           {
            "automargin": true,
            "type": "pie"
           }
          ],
          "scatter": [
           {
            "marker": {
             "colorbar": {
              "outlinewidth": 0,
              "ticks": ""
             }
            },
            "type": "scatter"
           }
          ],
          "scatter3d": [
           {
            "line": {
             "colorbar": {
              "outlinewidth": 0,
              "ticks": ""
             }
            },
            "marker": {
             "colorbar": {
              "outlinewidth": 0,
              "ticks": ""
             }
            },
            "type": "scatter3d"
           }
          ],
          "scattercarpet": [
           {
            "marker": {
             "colorbar": {
              "outlinewidth": 0,
              "ticks": ""
             }
            },
            "type": "scattercarpet"
           }
          ],
          "scattergeo": [
           {
            "marker": {
             "colorbar": {
              "outlinewidth": 0,
              "ticks": ""
             }
            },
            "type": "scattergeo"
           }
          ],
          "scattergl": [
           {
            "marker": {
             "colorbar": {
              "outlinewidth": 0,
              "ticks": ""
             }
            },
            "type": "scattergl"
           }
          ],
          "scattermapbox": [
           {
            "marker": {
             "colorbar": {
              "outlinewidth": 0,
              "ticks": ""
             }
            },
            "type": "scattermapbox"
           }
          ],
          "scatterpolar": [
           {
            "marker": {
             "colorbar": {
              "outlinewidth": 0,
              "ticks": ""
             }
            },
            "type": "scatterpolar"
           }
          ],
          "scatterpolargl": [
           {
            "marker": {
             "colorbar": {
              "outlinewidth": 0,
              "ticks": ""
             }
            },
            "type": "scatterpolargl"
           }
          ],
          "scatterternary": [
           {
            "marker": {
             "colorbar": {
              "outlinewidth": 0,
              "ticks": ""
             }
            },
            "type": "scatterternary"
           }
          ],
          "surface": [
           {
            "colorbar": {
             "outlinewidth": 0,
             "ticks": ""
            },
            "colorscale": [
             [
              0,
              "#0d0887"
             ],
             [
              0.1111111111111111,
              "#46039f"
             ],
             [
              0.2222222222222222,
              "#7201a8"
             ],
             [
              0.3333333333333333,
              "#9c179e"
             ],
             [
              0.4444444444444444,
              "#bd3786"
             ],
             [
              0.5555555555555556,
              "#d8576b"
             ],
             [
              0.6666666666666666,
              "#ed7953"
             ],
             [
              0.7777777777777778,
              "#fb9f3a"
             ],
             [
              0.8888888888888888,
              "#fdca26"
             ],
             [
              1,
              "#f0f921"
             ]
            ],
            "type": "surface"
           }
          ],
          "table": [
           {
            "cells": {
             "fill": {
              "color": "#EBF0F8"
             },
             "line": {
              "color": "white"
             }
            },
            "header": {
             "fill": {
              "color": "#C8D4E3"
             },
             "line": {
              "color": "white"
             }
            },
            "type": "table"
           }
          ]
         },
         "layout": {
          "annotationdefaults": {
           "arrowcolor": "#2a3f5f",
           "arrowhead": 0,
           "arrowwidth": 1
          },
          "coloraxis": {
           "colorbar": {
            "outlinewidth": 0,
            "ticks": ""
           }
          },
          "colorscale": {
           "diverging": [
            [
             0,
             "#8e0152"
            ],
            [
             0.1,
             "#c51b7d"
            ],
            [
             0.2,
             "#de77ae"
            ],
            [
             0.3,
             "#f1b6da"
            ],
            [
             0.4,
             "#fde0ef"
            ],
            [
             0.5,
             "#f7f7f7"
            ],
            [
             0.6,
             "#e6f5d0"
            ],
            [
             0.7,
             "#b8e186"
            ],
            [
             0.8,
             "#7fbc41"
            ],
            [
             0.9,
             "#4d9221"
            ],
            [
             1,
             "#276419"
            ]
           ],
           "sequential": [
            [
             0,
             "#0d0887"
            ],
            [
             0.1111111111111111,
             "#46039f"
            ],
            [
             0.2222222222222222,
             "#7201a8"
            ],
            [
             0.3333333333333333,
             "#9c179e"
            ],
            [
             0.4444444444444444,
             "#bd3786"
            ],
            [
             0.5555555555555556,
             "#d8576b"
            ],
            [
             0.6666666666666666,
             "#ed7953"
            ],
            [
             0.7777777777777778,
             "#fb9f3a"
            ],
            [
             0.8888888888888888,
             "#fdca26"
            ],
            [
             1,
             "#f0f921"
            ]
           ],
           "sequentialminus": [
            [
             0,
             "#0d0887"
            ],
            [
             0.1111111111111111,
             "#46039f"
            ],
            [
             0.2222222222222222,
             "#7201a8"
            ],
            [
             0.3333333333333333,
             "#9c179e"
            ],
            [
             0.4444444444444444,
             "#bd3786"
            ],
            [
             0.5555555555555556,
             "#d8576b"
            ],
            [
             0.6666666666666666,
             "#ed7953"
            ],
            [
             0.7777777777777778,
             "#fb9f3a"
            ],
            [
             0.8888888888888888,
             "#fdca26"
            ],
            [
             1,
             "#f0f921"
            ]
           ]
          },
          "colorway": [
           "#636efa",
           "#EF553B",
           "#00cc96",
           "#ab63fa",
           "#FFA15A",
           "#19d3f3",
           "#FF6692",
           "#B6E880",
           "#FF97FF",
           "#FECB52"
          ],
          "font": {
           "color": "#2a3f5f"
          },
          "geo": {
           "bgcolor": "white",
           "lakecolor": "white",
           "landcolor": "#E5ECF6",
           "showlakes": true,
           "showland": true,
           "subunitcolor": "white"
          },
          "hoverlabel": {
           "align": "left"
          },
          "hovermode": "closest",
          "mapbox": {
           "style": "light"
          },
          "paper_bgcolor": "white",
          "plot_bgcolor": "#E5ECF6",
          "polar": {
           "angularaxis": {
            "gridcolor": "white",
            "linecolor": "white",
            "ticks": ""
           },
           "bgcolor": "#E5ECF6",
           "radialaxis": {
            "gridcolor": "white",
            "linecolor": "white",
            "ticks": ""
           }
          },
          "scene": {
           "xaxis": {
            "backgroundcolor": "#E5ECF6",
            "gridcolor": "white",
            "gridwidth": 2,
            "linecolor": "white",
            "showbackground": true,
            "ticks": "",
            "zerolinecolor": "white"
           },
           "yaxis": {
            "backgroundcolor": "#E5ECF6",
            "gridcolor": "white",
            "gridwidth": 2,
            "linecolor": "white",
            "showbackground": true,
            "ticks": "",
            "zerolinecolor": "white"
           },
           "zaxis": {
            "backgroundcolor": "#E5ECF6",
            "gridcolor": "white",
            "gridwidth": 2,
            "linecolor": "white",
            "showbackground": true,
            "ticks": "",
            "zerolinecolor": "white"
           }
          },
          "shapedefaults": {
           "line": {
            "color": "#2a3f5f"
           }
          },
          "ternary": {
           "aaxis": {
            "gridcolor": "white",
            "linecolor": "white",
            "ticks": ""
           },
           "baxis": {
            "gridcolor": "white",
            "linecolor": "white",
            "ticks": ""
           },
           "bgcolor": "#E5ECF6",
           "caxis": {
            "gridcolor": "white",
            "linecolor": "white",
            "ticks": ""
           }
          },
          "title": {
           "x": 0.05
          },
          "xaxis": {
           "automargin": true,
           "gridcolor": "white",
           "linecolor": "white",
           "ticks": "",
           "title": {
            "standoff": 15
           },
           "zerolinecolor": "white",
           "zerolinewidth": 2
          },
          "yaxis": {
           "automargin": true,
           "gridcolor": "white",
           "linecolor": "white",
           "ticks": "",
           "title": {
            "standoff": 15
           },
           "zerolinecolor": "white",
           "zerolinewidth": 2
          }
         }
        },
        "xaxis": {
         "anchor": "y",
         "domain": [
          0,
          1
         ]
        },
        "yaxis": {
         "anchor": "x",
         "domain": [
          0,
          1
         ],
         "title": {
          "text": "통화건수"
         }
        }
       }
      }
     },
     "metadata": {}
    }
   ],
   "source": [
    "# 이상치 데이터 확인 \n",
    "import plotly.express as px\n",
    "px.box(df,y='통화건수')"
   ]
  },
  {
   "cell_type": "code",
   "execution_count": 102,
   "metadata": {},
   "outputs": [
    {
     "output_type": "execute_result",
     "data": {
      "text/plain": [
       "'iqr: 4859.0, upper_fence: 21740.5, lower_fence: 2304.5'"
      ]
     },
     "metadata": {},
     "execution_count": 102
    }
   ],
   "source": [
    "# iqr 구하기\n",
    "def iqr(arr):\n",
    "    iqr = (np.percentile(arr,75) - np.percentile(arr,25)).round(1)\n",
    "    upper_fence = (np.percentile(arr,75)+iqr*1.5).round(1)\n",
    "    lower_fence = (np.percentile(arr,25)-iqr*1.5).round(1)\n",
    "    return \"iqr: {}, upper_fence: {}, lower_fence: {}\".format(iqr, upper_fence, lower_fence)\n",
    "\n",
    "iqr(df['통화건수'])"
   ]
  },
  {
   "cell_type": "code",
   "execution_count": 106,
   "metadata": {},
   "outputs": [
    {
     "output_type": "execute_result",
     "data": {
      "text/plain": [
       "     공휴일  월  화  수  목  금  토  일    기온  강수량   풍속    습도  적설량   통화건수\n",
       "257  0.0  0  0  0  0  0  1  0  21.9  2.1  2.4  61.5  0.0  24742"
      ],
      "text/html": "<div>\n<style scoped>\n    .dataframe tbody tr th:only-of-type {\n        vertical-align: middle;\n    }\n\n    .dataframe tbody tr th {\n        vertical-align: top;\n    }\n\n    .dataframe thead th {\n        text-align: right;\n    }\n</style>\n<table border=\"1\" class=\"dataframe\">\n  <thead>\n    <tr style=\"text-align: right;\">\n      <th></th>\n      <th>공휴일</th>\n      <th>월</th>\n      <th>화</th>\n      <th>수</th>\n      <th>목</th>\n      <th>금</th>\n      <th>토</th>\n      <th>일</th>\n      <th>기온</th>\n      <th>강수량</th>\n      <th>풍속</th>\n      <th>습도</th>\n      <th>적설량</th>\n      <th>통화건수</th>\n    </tr>\n  </thead>\n  <tbody>\n    <tr>\n      <th>257</th>\n      <td>0.0</td>\n      <td>0</td>\n      <td>0</td>\n      <td>0</td>\n      <td>0</td>\n      <td>0</td>\n      <td>1</td>\n      <td>0</td>\n      <td>21.9</td>\n      <td>2.1</td>\n      <td>2.4</td>\n      <td>61.5</td>\n      <td>0.0</td>\n      <td>24742</td>\n    </tr>\n  </tbody>\n</table>\n</div>"
     },
     "metadata": {},
     "execution_count": 106
    }
   ],
   "source": [
    "outlier_dlvr = df[df['통화건수']>21740.5]\n",
    "outlier_dlvr"
   ]
  },
  {
   "cell_type": "code",
   "execution_count": 112,
   "metadata": {},
   "outputs": [
    {
     "output_type": "execute_result",
     "data": {
      "text/plain": [
       "     공휴일  월  화  수  목  금  토  일    기온   강수량   풍속    습도  적설량   통화건수\n",
       "0    0.0  1  0  0  0  0  0  0  15.4   0.0  2.9  55.1  0.0   9681\n",
       "1    0.0  0  1  0  0  0  0  0  15.9   0.0  1.6  61.4  0.0  13692\n",
       "2    1.0  0  0  1  0  0  0  0  17.3   0.0  1.3  58.0  0.0  15403\n",
       "3    0.0  0  0  0  1  0  0  0  19.3   0.0  1.3  56.5  0.0  10091\n",
       "4    0.0  0  0  0  0  1  0  0  16.9  36.5  1.7  84.1  0.0  17680\n",
       "..   ... .. .. .. .. .. .. ..   ...   ...  ...   ...  ...    ...\n",
       "360  0.0  0  0  0  1  0  0  0  22.9   0.0  1.9  59.3  0.0   8908\n",
       "361  0.0  0  0  0  0  1  0  0  22.9   0.0  1.9  57.5  0.0  12561\n",
       "362  0.0  0  0  0  0  0  1  0  23.7   0.0  1.7  58.9  0.0  13828\n",
       "363  0.0  0  0  0  0  0  0  1  22.6   0.0  1.7  60.6  0.0  12188\n",
       "364  0.0  1  0  0  0  0  0  0  22.4   0.0  1.6  61.0  0.0   7850\n",
       "\n",
       "[364 rows x 14 columns]"
      ],
      "text/html": "<div>\n<style scoped>\n    .dataframe tbody tr th:only-of-type {\n        vertical-align: middle;\n    }\n\n    .dataframe tbody tr th {\n        vertical-align: top;\n    }\n\n    .dataframe thead th {\n        text-align: right;\n    }\n</style>\n<table border=\"1\" class=\"dataframe\">\n  <thead>\n    <tr style=\"text-align: right;\">\n      <th></th>\n      <th>공휴일</th>\n      <th>월</th>\n      <th>화</th>\n      <th>수</th>\n      <th>목</th>\n      <th>금</th>\n      <th>토</th>\n      <th>일</th>\n      <th>기온</th>\n      <th>강수량</th>\n      <th>풍속</th>\n      <th>습도</th>\n      <th>적설량</th>\n      <th>통화건수</th>\n    </tr>\n  </thead>\n  <tbody>\n    <tr>\n      <th>0</th>\n      <td>0.0</td>\n      <td>1</td>\n      <td>0</td>\n      <td>0</td>\n      <td>0</td>\n      <td>0</td>\n      <td>0</td>\n      <td>0</td>\n      <td>15.4</td>\n      <td>0.0</td>\n      <td>2.9</td>\n      <td>55.1</td>\n      <td>0.0</td>\n      <td>9681</td>\n    </tr>\n    <tr>\n      <th>1</th>\n      <td>0.0</td>\n      <td>0</td>\n      <td>1</td>\n      <td>0</td>\n      <td>0</td>\n      <td>0</td>\n      <td>0</td>\n      <td>0</td>\n      <td>15.9</td>\n      <td>0.0</td>\n      <td>1.6</td>\n      <td>61.4</td>\n      <td>0.0</td>\n      <td>13692</td>\n    </tr>\n    <tr>\n      <th>2</th>\n      <td>1.0</td>\n      <td>0</td>\n      <td>0</td>\n      <td>1</td>\n      <td>0</td>\n      <td>0</td>\n      <td>0</td>\n      <td>0</td>\n      <td>17.3</td>\n      <td>0.0</td>\n      <td>1.3</td>\n      <td>58.0</td>\n      <td>0.0</td>\n      <td>15403</td>\n    </tr>\n    <tr>\n      <th>3</th>\n      <td>0.0</td>\n      <td>0</td>\n      <td>0</td>\n      <td>0</td>\n      <td>1</td>\n      <td>0</td>\n      <td>0</td>\n      <td>0</td>\n      <td>19.3</td>\n      <td>0.0</td>\n      <td>1.3</td>\n      <td>56.5</td>\n      <td>0.0</td>\n      <td>10091</td>\n    </tr>\n    <tr>\n      <th>4</th>\n      <td>0.0</td>\n      <td>0</td>\n      <td>0</td>\n      <td>0</td>\n      <td>0</td>\n      <td>1</td>\n      <td>0</td>\n      <td>0</td>\n      <td>16.9</td>\n      <td>36.5</td>\n      <td>1.7</td>\n      <td>84.1</td>\n      <td>0.0</td>\n      <td>17680</td>\n    </tr>\n    <tr>\n      <th>...</th>\n      <td>...</td>\n      <td>...</td>\n      <td>...</td>\n      <td>...</td>\n      <td>...</td>\n      <td>...</td>\n      <td>...</td>\n      <td>...</td>\n      <td>...</td>\n      <td>...</td>\n      <td>...</td>\n      <td>...</td>\n      <td>...</td>\n      <td>...</td>\n    </tr>\n    <tr>\n      <th>360</th>\n      <td>0.0</td>\n      <td>0</td>\n      <td>0</td>\n      <td>0</td>\n      <td>1</td>\n      <td>0</td>\n      <td>0</td>\n      <td>0</td>\n      <td>22.9</td>\n      <td>0.0</td>\n      <td>1.9</td>\n      <td>59.3</td>\n      <td>0.0</td>\n      <td>8908</td>\n    </tr>\n    <tr>\n      <th>361</th>\n      <td>0.0</td>\n      <td>0</td>\n      <td>0</td>\n      <td>0</td>\n      <td>0</td>\n      <td>1</td>\n      <td>0</td>\n      <td>0</td>\n      <td>22.9</td>\n      <td>0.0</td>\n      <td>1.9</td>\n      <td>57.5</td>\n      <td>0.0</td>\n      <td>12561</td>\n    </tr>\n    <tr>\n      <th>362</th>\n      <td>0.0</td>\n      <td>0</td>\n      <td>0</td>\n      <td>0</td>\n      <td>0</td>\n      <td>0</td>\n      <td>1</td>\n      <td>0</td>\n      <td>23.7</td>\n      <td>0.0</td>\n      <td>1.7</td>\n      <td>58.9</td>\n      <td>0.0</td>\n      <td>13828</td>\n    </tr>\n    <tr>\n      <th>363</th>\n      <td>0.0</td>\n      <td>0</td>\n      <td>0</td>\n      <td>0</td>\n      <td>0</td>\n      <td>0</td>\n      <td>0</td>\n      <td>1</td>\n      <td>22.6</td>\n      <td>0.0</td>\n      <td>1.7</td>\n      <td>60.6</td>\n      <td>0.0</td>\n      <td>12188</td>\n    </tr>\n    <tr>\n      <th>364</th>\n      <td>0.0</td>\n      <td>1</td>\n      <td>0</td>\n      <td>0</td>\n      <td>0</td>\n      <td>0</td>\n      <td>0</td>\n      <td>0</td>\n      <td>22.4</td>\n      <td>0.0</td>\n      <td>1.6</td>\n      <td>61.0</td>\n      <td>0.0</td>\n      <td>7850</td>\n    </tr>\n  </tbody>\n</table>\n<p>364 rows × 14 columns</p>\n</div>"
     },
     "metadata": {},
     "execution_count": 112
    }
   ],
   "source": [
    "# 이상치 제거하기 \n",
    "out = df.iloc[257]\n",
    "df_out = df.drop([257], axis=0)\n",
    "df_out"
   ]
  },
  {
   "cell_type": "code",
   "execution_count": 113,
   "metadata": {},
   "outputs": [
    {
     "output_type": "stream",
     "name": "stdout",
     "text": [
      "1441.4881866606074 2077888.192282086\n"
     ]
    },
    {
     "output_type": "execute_result",
     "data": {
      "text/plain": [
       "0.7477093642351251"
      ]
     },
     "metadata": {},
     "execution_count": 113
    }
   ],
   "source": [
    "# 이상치 제거 후 성능 확인하기 \n",
    "\n",
    "# 모델 학습\n",
    "from sklearn.linear_model import LinearRegression\n",
    "from sklearn.model_selection import train_test_split\n",
    "from sklearn.metrics import mean_squared_error\n",
    "\n",
    "y_target = df_out['통화건수']\n",
    "X_features = df_out.drop('통화건수',axis=1)\n",
    "\n",
    "X_train, X_test, y_train, y_test = train_test_split(X_features, y_target, test_size=0.2,random_state=13)\n",
    "\n",
    "lr_reg= LinearRegression()\n",
    "lr_reg.fit(X_train,y_train)\n",
    "\n",
    "# 모델 예측 \n",
    "pred = lr_reg.predict(X_test)\n",
    "mse = mean_squared_error(y_test, pred)\n",
    "rmse = np.sqrt(mse)\n",
    "print(rmse, mse)\n",
    "\n",
    "# 성능 평가 \n",
    "from sklearn.metrics import r2_score\n",
    "r2_score(y_test, pred)\n",
    "\n",
    "####################결론 : 성능 저하##################"
   ]
  },
  {
   "cell_type": "code",
   "execution_count": 117,
   "metadata": {},
   "outputs": [
    {
     "output_type": "execute_result",
     "data": {
      "text/plain": [
       "     snow_scaled  rain_scaled  공휴일  월  화  수  목  금  토  일    기온   풍속    습도  \\\n",
       "0            0.0     0.000000  0.0  1  0  0  0  0  0  0  15.4  2.9  55.1   \n",
       "1            0.0     0.000000  0.0  0  1  0  0  0  0  0  15.9  1.6  61.4   \n",
       "2            0.0     0.000000  1.0  0  0  1  0  0  0  0  17.3  1.3  58.0   \n",
       "3            0.0     0.000000  0.0  0  0  0  1  0  0  0  19.3  1.3  56.5   \n",
       "4            0.0     3.624341  0.0  0  0  0  0  1  0  0  16.9  1.7  84.1   \n",
       "..           ...          ...  ... .. .. .. .. .. .. ..   ...  ...   ...   \n",
       "360          0.0     0.000000  0.0  0  0  0  1  0  0  0  22.9  1.9  59.3   \n",
       "361          0.0     0.000000  0.0  0  0  0  0  1  0  0  22.9  1.9  57.5   \n",
       "362          0.0     0.000000  0.0  0  0  0  0  0  1  0  23.7  1.7  58.9   \n",
       "363          0.0     0.000000  0.0  0  0  0  0  0  0  1  22.6  1.7  60.6   \n",
       "364          0.0     0.000000  0.0  1  0  0  0  0  0  0  22.4  1.6  61.0   \n",
       "\n",
       "      통화건수  \n",
       "0     9681  \n",
       "1    13692  \n",
       "2    15403  \n",
       "3    10091  \n",
       "4    17680  \n",
       "..     ...  \n",
       "360   8908  \n",
       "361  12561  \n",
       "362  13828  \n",
       "363  12188  \n",
       "364   7850  \n",
       "\n",
       "[365 rows x 14 columns]"
      ],
      "text/html": "<div>\n<style scoped>\n    .dataframe tbody tr th:only-of-type {\n        vertical-align: middle;\n    }\n\n    .dataframe tbody tr th {\n        vertical-align: top;\n    }\n\n    .dataframe thead th {\n        text-align: right;\n    }\n</style>\n<table border=\"1\" class=\"dataframe\">\n  <thead>\n    <tr style=\"text-align: right;\">\n      <th></th>\n      <th>snow_scaled</th>\n      <th>rain_scaled</th>\n      <th>공휴일</th>\n      <th>월</th>\n      <th>화</th>\n      <th>수</th>\n      <th>목</th>\n      <th>금</th>\n      <th>토</th>\n      <th>일</th>\n      <th>기온</th>\n      <th>풍속</th>\n      <th>습도</th>\n      <th>통화건수</th>\n    </tr>\n  </thead>\n  <tbody>\n    <tr>\n      <th>0</th>\n      <td>0.0</td>\n      <td>0.000000</td>\n      <td>0.0</td>\n      <td>1</td>\n      <td>0</td>\n      <td>0</td>\n      <td>0</td>\n      <td>0</td>\n      <td>0</td>\n      <td>0</td>\n      <td>15.4</td>\n      <td>2.9</td>\n      <td>55.1</td>\n      <td>9681</td>\n    </tr>\n    <tr>\n      <th>1</th>\n      <td>0.0</td>\n      <td>0.000000</td>\n      <td>0.0</td>\n      <td>0</td>\n      <td>1</td>\n      <td>0</td>\n      <td>0</td>\n      <td>0</td>\n      <td>0</td>\n      <td>0</td>\n      <td>15.9</td>\n      <td>1.6</td>\n      <td>61.4</td>\n      <td>13692</td>\n    </tr>\n    <tr>\n      <th>2</th>\n      <td>0.0</td>\n      <td>0.000000</td>\n      <td>1.0</td>\n      <td>0</td>\n      <td>0</td>\n      <td>1</td>\n      <td>0</td>\n      <td>0</td>\n      <td>0</td>\n      <td>0</td>\n      <td>17.3</td>\n      <td>1.3</td>\n      <td>58.0</td>\n      <td>15403</td>\n    </tr>\n    <tr>\n      <th>3</th>\n      <td>0.0</td>\n      <td>0.000000</td>\n      <td>0.0</td>\n      <td>0</td>\n      <td>0</td>\n      <td>0</td>\n      <td>1</td>\n      <td>0</td>\n      <td>0</td>\n      <td>0</td>\n      <td>19.3</td>\n      <td>1.3</td>\n      <td>56.5</td>\n      <td>10091</td>\n    </tr>\n    <tr>\n      <th>4</th>\n      <td>0.0</td>\n      <td>3.624341</td>\n      <td>0.0</td>\n      <td>0</td>\n      <td>0</td>\n      <td>0</td>\n      <td>0</td>\n      <td>1</td>\n      <td>0</td>\n      <td>0</td>\n      <td>16.9</td>\n      <td>1.7</td>\n      <td>84.1</td>\n      <td>17680</td>\n    </tr>\n    <tr>\n      <th>...</th>\n      <td>...</td>\n      <td>...</td>\n      <td>...</td>\n      <td>...</td>\n      <td>...</td>\n      <td>...</td>\n      <td>...</td>\n      <td>...</td>\n      <td>...</td>\n      <td>...</td>\n      <td>...</td>\n      <td>...</td>\n      <td>...</td>\n      <td>...</td>\n    </tr>\n    <tr>\n      <th>360</th>\n      <td>0.0</td>\n      <td>0.000000</td>\n      <td>0.0</td>\n      <td>0</td>\n      <td>0</td>\n      <td>0</td>\n      <td>1</td>\n      <td>0</td>\n      <td>0</td>\n      <td>0</td>\n      <td>22.9</td>\n      <td>1.9</td>\n      <td>59.3</td>\n      <td>8908</td>\n    </tr>\n    <tr>\n      <th>361</th>\n      <td>0.0</td>\n      <td>0.000000</td>\n      <td>0.0</td>\n      <td>0</td>\n      <td>0</td>\n      <td>0</td>\n      <td>0</td>\n      <td>1</td>\n      <td>0</td>\n      <td>0</td>\n      <td>22.9</td>\n      <td>1.9</td>\n      <td>57.5</td>\n      <td>12561</td>\n    </tr>\n    <tr>\n      <th>362</th>\n      <td>0.0</td>\n      <td>0.000000</td>\n      <td>0.0</td>\n      <td>0</td>\n      <td>0</td>\n      <td>0</td>\n      <td>0</td>\n      <td>0</td>\n      <td>1</td>\n      <td>0</td>\n      <td>23.7</td>\n      <td>1.7</td>\n      <td>58.9</td>\n      <td>13828</td>\n    </tr>\n    <tr>\n      <th>363</th>\n      <td>0.0</td>\n      <td>0.000000</td>\n      <td>0.0</td>\n      <td>0</td>\n      <td>0</td>\n      <td>0</td>\n      <td>0</td>\n      <td>0</td>\n      <td>0</td>\n      <td>1</td>\n      <td>22.6</td>\n      <td>1.7</td>\n      <td>60.6</td>\n      <td>12188</td>\n    </tr>\n    <tr>\n      <th>364</th>\n      <td>0.0</td>\n      <td>0.000000</td>\n      <td>0.0</td>\n      <td>1</td>\n      <td>0</td>\n      <td>0</td>\n      <td>0</td>\n      <td>0</td>\n      <td>0</td>\n      <td>0</td>\n      <td>22.4</td>\n      <td>1.6</td>\n      <td>61.0</td>\n      <td>7850</td>\n    </tr>\n  </tbody>\n</table>\n<p>365 rows × 14 columns</p>\n</div>"
     },
     "metadata": {},
     "execution_count": 117
    }
   ],
   "source": [
    "# feature 데이터 로그화 (강수량)\n",
    "df_copy = df.copy()\n",
    "rain_n = np.log1p(df_copy['강수량'])\n",
    "df_copy.insert(0, 'rain_scaled', rain_n)\n",
    "df_copy.drop(['강수량'], axis=1,inplace=True)\n",
    "df_copy\n",
    "\n",
    "# feature 데이터 로그화 (적설량)\n",
    "df_copy2 = df_copy.copy()\n",
    "snow_n = np.log1p(df_copy2['적설량'])\n",
    "df_copy2.insert(0, 'snow_scaled', snow_n)\n",
    "df_copy2.drop(['적설량'], axis=1,inplace=True)\n",
    "df_copy2\n"
   ]
  },
  {
   "cell_type": "code",
   "execution_count": 126,
   "metadata": {},
   "outputs": [
    {
     "output_type": "stream",
     "name": "stdout",
     "text": [
      "1108.2067221185084 1228122.1389486487\n"
     ]
    },
    {
     "output_type": "execute_result",
     "data": {
      "text/plain": [
       "0.8245348713518541"
      ]
     },
     "metadata": {},
     "execution_count": 126
    }
   ],
   "source": [
    "# 강수량 로그변환  제거 후 성능 확인하기 \n",
    "\n",
    "# 모델 학습\n",
    "from sklearn.linear_model import LinearRegression\n",
    "from sklearn.model_selection import train_test_split\n",
    "from sklearn.metrics import mean_squared_error\n",
    "\n",
    "y_target = df_copy2['통화건수']\n",
    "X_features = df_copy2.drop('통화건수',axis=1)\n",
    "\n",
    "X_train, X_test, y_train, y_test = train_test_split(X_features, y_target, test_size=0.2,random_state=13)\n",
    "\n",
    "lr_reg= LinearRegression()\n",
    "lr_reg.fit(X_train,y_train)\n",
    "\n",
    "# 모델 예측 \n",
    "pred = lr_reg.predict(X_test)\n",
    "mse = mean_squared_error(y_test, pred)\n",
    "rmse = np.sqrt(mse)\n",
    "print(rmse, mse)\n",
    "\n",
    "# 성능 평가 \n",
    "from sklearn.metrics import r2_score\n",
    "r2_score(y_test, pred)\n",
    "\n",
    "####################결론 : 성능 향상##################"
   ]
  },
  {
   "cell_type": "code",
   "execution_count": null,
   "metadata": {},
   "outputs": [],
   "source": []
  }
 ]
}